{
 "cells": [
  {
   "cell_type": "markdown",
   "metadata": {
    "id": "zaxuohwN9U-Q"
   },
   "source": [
    "# 0. Problem set 1 (24 points)\n",
    "\n",
    "This short problem set will:\n",
    "    \n",
    "- Make sure your jupyter notebook installation is working\n",
    "- Give you practice with the following concepts covered in lecture and on DataCamp:\n",
    "    - Python lists\n",
    "    - numpy arrays\n",
    "    - Basic list comprehension"
   ]
  },
  {
   "cell_type": "code",
   "execution_count": 1,
   "metadata": {
    "id": "-519bmbs9U-T"
   },
   "outputs": [],
   "source": [
    "# imports\n",
    "import numpy as np"
   ]
  },
  {
   "cell_type": "markdown",
   "metadata": {
    "id": "EfG8kfW-9U-V"
   },
   "source": [
    "# 1. Practice with lists"
   ]
  },
  {
   "cell_type": "markdown",
   "metadata": {
    "id": "GHZwrP5w9U-V"
   },
   "source": [
    "## 1.1 List addition (2 points)\n",
    "\n",
    "We provide you with a list of our names below.\n",
    "\n",
    "- Use list addition to add your name to the list\n",
    "- Store this as a new list called `instructor_my_name` \n",
    "- Print that list"
   ]
  },
  {
   "cell_type": "code",
   "execution_count": 2,
   "metadata": {
    "id": "4g-pGS1u9U-V"
   },
   "outputs": [],
   "source": [
    "## we provide\n",
    "instructor_names = ['Sonali', 'Rebecca', 'Yifan']"
   ]
  },
  {
   "cell_type": "code",
   "execution_count": 3,
   "metadata": {
    "colab": {
     "base_uri": "https://localhost:8080/"
    },
    "id": "4PXPAobi9U-W",
    "outputId": "989425b9-a01d-4822-d27f-1362f489a060"
   },
   "outputs": [
    {
     "name": "stdout",
     "output_type": "stream",
     "text": [
      "['Sonali', 'Rebecca', 'Yifan', 'Sharon']\n"
     ]
    }
   ],
   "source": [
    "## your code here \n",
    "instructor_my_name = instructor_names + ['Sharon']\n",
    "print(instructor_my_name)"
   ]
  },
  {
   "cell_type": "markdown",
   "metadata": {
    "id": "9ORt4rMp9U-W"
   },
   "source": [
    "## 1.2 List indexing (2 points)\n",
    "\n",
    "- Use the `.index()` method to get the index of the professor's name (Rebecca) \n",
    "- Use that index to extract that name\n",
    "- Store it in a list called prof and print"
   ]
  },
  {
   "cell_type": "code",
   "execution_count": 4,
   "metadata": {
    "colab": {
     "base_uri": "https://localhost:8080/"
    },
    "id": "bQ-IGEJU9U-X",
    "outputId": "cc5f4a4c-65c7-4d75-a7b6-f5ee9ef0deee"
   },
   "outputs": [
    {
     "name": "stdout",
     "output_type": "stream",
     "text": [
      "1\n"
     ]
    }
   ],
   "source": [
    "## your code here to get index of prof's name\n",
    "idx_prof = instructor_my_name.index('Rebecca')\n",
    "print(idx_prof)"
   ]
  },
  {
   "cell_type": "code",
   "execution_count": 5,
   "metadata": {
    "colab": {
     "base_uri": "https://localhost:8080/"
    },
    "id": "yB1XuM469U-X",
    "outputId": "2dc48b05-19f9-4d95-b107-c38477dbe2a7"
   },
   "outputs": [
    {
     "name": "stdout",
     "output_type": "stream",
     "text": [
      "Rebecca\n"
     ]
    }
   ],
   "source": [
    "## your code here to extract the name and print\n",
    "print(instructor_my_name[idx_prof])"
   ]
  },
  {
   "cell_type": "markdown",
   "metadata": {
    "id": "DcAHslN29U-Y"
   },
   "source": [
    "## 1.3 Indexing lists of lists (2 points)\n",
    "\n",
    "- We provide you with the below list of lists (`roles_listoflists`)\n",
    "- A. Use subsetting to pull out the role of Rebecca (can just hard code the relevant indices)\n",
    "- B. Pull out and print the type of the element at index 1 (Yifan's name and role)"
   ]
  },
  {
   "cell_type": "code",
   "execution_count": 6,
   "metadata": {
    "id": "LheU9HgC9U-a"
   },
   "outputs": [],
   "source": [
    "## we provide\n",
    "roles_listoflists = [['Rebecca', 'Prof'], ['Yifan', 'TA'], ['Sonali', 'TA']]"
   ]
  },
  {
   "cell_type": "code",
   "execution_count": 7,
   "metadata": {
    "colab": {
     "base_uri": "https://localhost:8080/"
    },
    "id": "yl3EhYHS9U-a",
    "outputId": "11c52f4b-b0a8-4a1a-813e-e127b4c7ead9"
   },
   "outputs": [
    {
     "name": "stdout",
     "output_type": "stream",
     "text": [
      "Prof\n"
     ]
    }
   ],
   "source": [
    "## your code here pull out role of rebecca \n",
    "role = roles_listoflists[0][1]\n",
    "print(role)"
   ]
  },
  {
   "cell_type": "code",
   "execution_count": 8,
   "metadata": {
    "colab": {
     "base_uri": "https://localhost:8080/"
    },
    "id": "tJMr13ut9U-a",
    "outputId": "bac14bd6-1842-4d07-db08-7bbf81af5ade"
   },
   "outputs": [
    {
     "name": "stdout",
     "output_type": "stream",
     "text": [
      "Yifan TA\n",
      "<class 'str'> <class 'str'>\n"
     ]
    }
   ],
   "source": [
    "## your code here for part b\n",
    "yifan_row = roles_listoflists[1]\n",
    "print(yifan_row[0], yifan_row[1])\n",
    "print(type(yifan_row[0]), type(yifan_row[1]))"
   ]
  },
  {
   "cell_type": "markdown",
   "metadata": {
    "id": "X-OUM9sb9U-b"
   },
   "source": [
    "## 1.4 Edit list elements (3 points)\n",
    "\n",
    "\n",
    "- In `roles_listoflists`, replace the role 'TA' with the role 'Teaching Assistant' (fine to do in two lines of code)\n",
    "- Print the updated list"
   ]
  },
  {
   "cell_type": "code",
   "execution_count": 9,
   "metadata": {
    "colab": {
     "base_uri": "https://localhost:8080/"
    },
    "id": "LZ3A-pFl9U-b",
    "outputId": "43ccd9e9-0938-4515-90d2-12896557cc9b"
   },
   "outputs": [
    {
     "name": "stdout",
     "output_type": "stream",
     "text": [
      "[['Rebecca', 'Prof'], ['Yifan', 'Teaching Assistant'], ['Sonali', 'Teaching Assistant']]\n"
     ]
    }
   ],
   "source": [
    "## your code here \n",
    "roles_listoflists[1][1] = 'Teaching Assistant'\n",
    "roles_listoflists[2][1] = 'Teaching Assistant'\n",
    "print(roles_listoflists)"
   ]
  },
  {
   "cell_type": "markdown",
   "metadata": {
    "id": "0eNpCgfZ9U-c"
   },
   "source": [
    "# 2. Practice with numpy arrays "
   ]
  },
  {
   "cell_type": "markdown",
   "metadata": {
    "id": "vrZM1wZk9U-c"
   },
   "source": [
    "## 2.1 Converting a list to an array (2 points)\n",
    "\n",
    "- A. Transform the roles_listoflists from the previous part (so with TA replaced with teaching assistant)into a 2D numpy array; call it roles_array\n",
    "- B. Print the shape/dimensions of `roles_array`"
   ]
  },
  {
   "cell_type": "code",
   "execution_count": 10,
   "metadata": {
    "colab": {
     "base_uri": "https://localhost:8080/"
    },
    "id": "n-re95Xp9U-d",
    "outputId": "ccce17c1-a393-4ac2-8d93-649b4a62f904"
   },
   "outputs": [
    {
     "name": "stdout",
     "output_type": "stream",
     "text": [
      "dimensions 2\n",
      "shape (3, 2)\n"
     ]
    }
   ],
   "source": [
    "## your code here\n",
    "roles_array = np.array(roles_listoflists)\n",
    "print(\"dimensions\", roles_array.ndim)\n",
    "print(\"shape\", roles_array.shape)"
   ]
  },
  {
   "cell_type": "markdown",
   "metadata": {
    "id": "sEVKfFw39U-d"
   },
   "source": [
    "## 2.2 Subsetting arrays using True/False (boolean) indicators (2 points)\n",
    "\n",
    "- A. Create a boolean indicator for rows where the role (second column) == 'Teaching Assistant' and print that indicator\n",
    "- B. Use that boolean indicator to subset roles_array store the array as roles_TA \n",
    "- C. Print the `roles_TA` array and its dimensions (should be 2x2)"
   ]
  },
  {
   "cell_type": "code",
   "execution_count": 11,
   "metadata": {
    "colab": {
     "base_uri": "https://localhost:8080/"
    },
    "id": "ZPrsE0H29U-e",
    "outputId": "11b880d2-fe3e-452b-aa07-92d9a2d03961"
   },
   "outputs": [
    {
     "name": "stdout",
     "output_type": "stream",
     "text": [
      "[False, True, True]\n"
     ]
    }
   ],
   "source": [
    "## your code here\n",
    "ista = [r[1] == 'Teaching Assistant' for r in roles_array]\n",
    "print(ista)"
   ]
  },
  {
   "cell_type": "code",
   "execution_count": 12,
   "metadata": {
    "colab": {
     "base_uri": "https://localhost:8080/"
    },
    "id": "0QEEAVzx9U-e",
    "outputId": "189d58f4-2610-4552-8127-ea7cd5dd11df"
   },
   "outputs": [
    {
     "data": {
      "text/plain": [
       "array([['Yifan', 'Teaching Assistant'],\n",
       "       ['Sonali', 'Teaching Assistant']], dtype='<U18')"
      ]
     },
     "execution_count": 12,
     "metadata": {},
     "output_type": "execute_result"
    }
   ],
   "source": [
    "## your code here\n",
    "roles_TA = roles_array[ista]\n",
    "roles_TA"
   ]
  },
  {
   "cell_type": "code",
   "execution_count": 13,
   "metadata": {
    "colab": {
     "base_uri": "https://localhost:8080/"
    },
    "id": "o_v781Xn9U-e",
    "outputId": "bb485b4a-8a0a-4483-8b9c-98532031892d"
   },
   "outputs": [
    {
     "name": "stdout",
     "output_type": "stream",
     "text": [
      "[['Yifan' 'Teaching Assistant']\n",
      " ['Sonali' 'Teaching Assistant']]\n",
      "(2, 2) 2\n"
     ]
    }
   ],
   "source": [
    "## your code here \n",
    "print(roles_TA)\n",
    "print(roles_TA.shape, roles_TA.ndim)"
   ]
  },
  {
   "cell_type": "markdown",
   "metadata": {
    "id": "vXpvKBxk9U-e"
   },
   "source": [
    "## 2.3 Adding to an array (2 points)\n",
    "\n",
    "- A. Use np.append (google the documentation) to  add the following column with the netids of the two TA to the roles_TA array as the last column \n",
    "- B. Store as role_TA_net\n",
    "- C. Print the dimensions (should be 2x3)"
   ]
  },
  {
   "cell_type": "code",
   "execution_count": 14,
   "metadata": {
    "colab": {
     "base_uri": "https://localhost:8080/"
    },
    "id": "soqJp1lg9U-f",
    "outputId": "9ac835d5-aec9-487c-fbd3-8031a4584d53"
   },
   "outputs": [
    {
     "name": "stdout",
     "output_type": "stream",
     "text": [
      "[['yl1374']\n",
      " ['ss4608']]\n"
     ]
    }
   ],
   "source": [
    "## column to add \n",
    "netids = np.array([['yl1374'], ['ss4608']])\n",
    "print(netids)"
   ]
  },
  {
   "cell_type": "code",
   "execution_count": 15,
   "metadata": {
    "colab": {
     "base_uri": "https://localhost:8080/"
    },
    "id": "EoYdUOhW9U-f",
    "outputId": "06b7b6da-c5cb-4097-9bab-55ff4a1138ee"
   },
   "outputs": [
    {
     "data": {
      "text/plain": [
       "array([['Yifan', 'Teaching Assistant', 'yl1374'],\n",
       "       ['Sonali', 'Teaching Assistant', 'ss4608']], dtype='<U18')"
      ]
     },
     "execution_count": 15,
     "metadata": {},
     "output_type": "execute_result"
    }
   ],
   "source": [
    "## your code here\n",
    "role_TA_net = np.append(roles_TA, netids, axis = 1)\n",
    "role_TA_net"
   ]
  },
  {
   "cell_type": "code",
   "execution_count": 16,
   "metadata": {
    "colab": {
     "base_uri": "https://localhost:8080/"
    },
    "id": "XBY18JlT9U-f",
    "outputId": "fb7dd437-1dc8-4790-88b7-ad529c2a5efd"
   },
   "outputs": [
    {
     "name": "stdout",
     "output_type": "stream",
     "text": [
      "(2, 3) 2\n"
     ]
    }
   ],
   "source": [
    "## your code here\n",
    "print(role_TA_net.shape, role_TA_net.ndim)"
   ]
  },
  {
   "cell_type": "markdown",
   "metadata": {
    "id": "JH-qalGX9U-f"
   },
   "source": [
    "# 3. Practice with iteration/list comprehension\n",
    "\n",
    "Here, we provide you with a list containing the course codes for different McCourt/Georgetown Fall 2022 courses."
   ]
  },
  {
   "cell_type": "code",
   "execution_count": 17,
   "metadata": {
    "id": "14zQIWU79U-f"
   },
   "outputs": [],
   "source": [
    "## course code list \n",
    "course_codes = [\"PPOL 506\", \"PPOL 560\", \"PPOL 564\", \"SOCI 4961\"]"
   ]
  },
  {
   "cell_type": "markdown",
   "metadata": {
    "id": "lyotFb8M9U-g"
   },
   "source": [
    "## 3.1 Using list comprehension to keep all elements / transform them (3 points)\n",
    "\n",
    "- A. Create a new list---course_codes_ns-- that removes the spaces in each course code--- eg PPOL 506 should become PPOL506\n",
    "- B. Print `course_codes_ns`"
   ]
  },
  {
   "cell_type": "code",
   "execution_count": 18,
   "metadata": {
    "colab": {
     "base_uri": "https://localhost:8080/"
    },
    "id": "98FnWqsa9U-g",
    "outputId": "a475b0e0-b3d9-4e44-ad25-95fd33ad44b2"
   },
   "outputs": [
    {
     "name": "stdout",
     "output_type": "stream",
     "text": [
      "['PPOL506', 'PPOL560', 'PPOL564', 'SOCI4961']\n"
     ]
    }
   ],
   "source": [
    "## your code here\n",
    "course_codes_ns = [s.replace(\" \",\"\") for s in course_codes]\n",
    "print(course_codes_ns)"
   ]
  },
  {
   "cell_type": "markdown",
   "metadata": {
    "id": "YGDCCODY9U-g"
   },
   "source": [
    "## 3.2 Using list comprehension to subset a list (3 points)\n",
    "\n",
    "- A. using course_codes_ns, create a new list just with courses with ppol in the name; store it as `course_codes_ppol`"
   ]
  },
  {
   "cell_type": "code",
   "execution_count": 19,
   "metadata": {
    "colab": {
     "base_uri": "https://localhost:8080/"
    },
    "id": "QYHKCJWO9U-g",
    "outputId": "fa62b743-b68d-4423-e02e-cf799280b28d"
   },
   "outputs": [
    {
     "data": {
      "text/plain": [
       "['PPOL506', 'PPOL560', 'PPOL564']"
      ]
     },
     "execution_count": 19,
     "metadata": {},
     "output_type": "execute_result"
    }
   ],
   "source": [
    "## your code here\n",
    "course_codes_ppol = [s for s in course_codes_ns if \"PPOL\" in s]\n",
    "course_codes_ppol"
   ]
  },
  {
   "cell_type": "markdown",
   "metadata": {
    "id": "3kBPSSwS9U-g"
   },
   "source": [
    "## 3.3 Using list comprehension to conditionally change a list's elements (3 points)\n",
    "\n",
    "- A. `using course_codes_ppol`, add the string prefix \"stats_\" to ppol506 and 560; \"ds_\" to ppol564\n",
    "- B. Store as `course_codes_detail` and print"
   ]
  },
  {
   "cell_type": "code",
   "execution_count": 24,
   "metadata": {
    "id": "deMxXKot9U-g"
   },
   "outputs": [],
   "source": [
    "## your code here\n",
    "course_codes_detail = [ \"ds_\"+s if s == \"PPOL564\" else \"stats_\"+s for s in course_codes_ppol  ]"
   ]
  },
  {
   "cell_type": "code",
   "execution_count": 25,
   "metadata": {
    "colab": {
     "base_uri": "https://localhost:8080/"
    },
    "id": "nX-eBDkaHLz8",
    "outputId": "b26b3da8-67ae-4316-cf23-ce1bf49ffd9f"
   },
   "outputs": [
    {
     "name": "stdout",
     "output_type": "stream",
     "text": [
      "['stats_PPOL506', 'stats_PPOL560', 'ds_PPOL564']\n"
     ]
    }
   ],
   "source": [
    "print(course_codes_detail)"
   ]
  },
  {
   "cell_type": "code",
   "execution_count": null,
   "metadata": {
    "id": "msFAph0XHz5t"
   },
   "outputs": [],
   "source": []
  }
 ],
 "metadata": {
  "colab": {
   "name": "pset1_blank.ipynb",
   "provenance": []
  },
  "kernelspec": {
   "display_name": "Python 3 (ipykernel)",
   "language": "python",
   "name": "python3"
  },
  "language_info": {
   "codemirror_mode": {
    "name": "ipython",
    "version": 3
   },
   "file_extension": ".py",
   "mimetype": "text/x-python",
   "name": "python",
   "nbconvert_exporter": "python",
   "pygments_lexer": "ipython3",
   "version": "3.9.5"
  },
  "vscode": {
   "interpreter": {
    "hash": "397704579725e15f5c7cb49fe5f0341eb7531c82d19f2c29d197e8b64ab5776b"
   }
  }
 },
 "nbformat": 4,
 "nbformat_minor": 1
}
