{
  "nbformat": 4,
  "nbformat_minor": 0,
  "metadata": {
    "colab": {
      "provenance": [],
      "collapsed_sections": []
    },
    "kernelspec": {
      "name": "python3",
      "display_name": "Python 3"
    },
    "language_info": {
      "name": "python"
    }
  },
  "cells": [
    {
      "cell_type": "code",
      "source": [
        "from google.colab import drive\n",
        "drive.mount('/content/drive')\n",
        "%cd \"/content/drive/MyDrive/DS_I\""
      ],
      "metadata": {
        "colab": {
          "base_uri": "https://localhost:8080/"
        },
        "id": "HJZ8pAiiFgKx",
        "outputId": "45228994-df98-4bc1-a63e-f40d37fc8464"
      },
      "execution_count": 32,
      "outputs": [
        {
          "output_type": "stream",
          "name": "stdout",
          "text": [
            "Drive already mounted at /content/drive; to attempt to forcibly remount, call drive.mount(\"/content/drive\", force_remount=True).\n",
            "/content/drive/MyDrive/DS_I\n"
          ]
        }
      ]
    },
    {
      "cell_type": "code",
      "execution_count": 2,
      "metadata": {
        "id": "hwbDbdJ_WkkJ"
      },
      "outputs": [],
      "source": [
        "import requests\n",
        "import json\n",
        "import time\n",
        "import pandas as pd\n",
        "import re\n",
        "import os\n",
        "import random\n",
        "import urllib3\n",
        "import multiprocessing as mp\n"
      ]
    },
    {
      "cell_type": "code",
      "source": [
        "from datetime import datetime\n",
        "from bs4 import BeautifulSoup\n",
        "from tqdm import tqdm\n",
        "\n",
        "urllib3.disable_warnings()\n",
        "headers = {'user-agent': 'Mozilla/5.0 (Windows NT 6.1) AppleWebKit/537.36 (KHTML, like Gecko) Chrome/52.0.2743.116 Safari/537.36'}"
      ],
      "metadata": {
        "id": "IIp9appIWot-"
      },
      "execution_count": 3,
      "outputs": []
    },
    {
      "cell_type": "code",
      "source": [
        "def GetRes(url):\n",
        "    res =  requests.get(url, headers=headers)\n",
        "    res.encoding='utf-8'\n",
        "    return res"
      ],
      "metadata": {
        "id": "4khZ5Uh7Wq87"
      },
      "execution_count": 4,
      "outputs": []
    },
    {
      "cell_type": "code",
      "source": [
        "def GetANews(link):\n",
        "    try :\n",
        "        res = GetRes(link)\n",
        "        soup = BeautifulSoup(res.text)\n",
        "        title = soup.find('h1', attrs={'id':'node-title'}).text\n",
        "        content = '\\n'.join(i.text for i in soup.find('div',class_='field--name-field-pr-body').find_all('p'))\n",
        "        date = soup.find('span', class_=\"date-display-single\")['content']\n",
        "    except:\n",
        "        return None\n",
        "    \n",
        "    data = {'TITLE':title,'CONTENT':content,'DATE': date}\n",
        "    \n",
        "    return data"
      ],
      "metadata": {
        "id": "M2EKglPNXfba"
      },
      "execution_count": 5,
      "outputs": []
    },
    {
      "cell_type": "code",
      "source": [
        "def GetLinks(link):\n",
        "    res = GetRes(link)\n",
        "    soup = BeautifulSoup(res.text)\n",
        "    # print(soup)\n",
        "    news_soup_list = soup.find_all('div',class_='views-row')\n",
        "    news_list = []\n",
        "    for i in news_soup_list:\n",
        "        url = i.find('a')['href']\n",
        "        if url and 'pr' in url: \n",
        "            news_list.append(url)\n",
        "    return news_list"
      ],
      "metadata": {
        "id": "vzN2eVe2Xjf-"
      },
      "execution_count": 39,
      "outputs": []
    },
    {
      "cell_type": "code",
      "source": [
        "def CrawlNews(start_page, end_page):\n",
        "    Links = []\n",
        "    k = 0\n",
        "    print(start_page, end_page)\n",
        "\n",
        "    for i in range(start_page,end_page):\n",
        "        # print(i)\n",
        "        #k = unisleep(k)\n",
        "        url = 'https://www.justice.gov/news?page='+str(i)\n",
        "        tmp = GetLinks(url)\n",
        "        Links.extend(tmp)\n",
        "    # print(Links)\n",
        "    \n",
        "    responses =[]\n",
        "    res_list=[]\n",
        "    news_list =[]\n",
        "    for link in tqdm(Links):\n",
        "        link = 'https://www.justice.gov' + link\n",
        "        # response = GetRes(link)\n",
        "        sub_list = GetANews(link)\n",
        "        if sub_list is not None:\n",
        "            news_list.append(sub_list)\n",
        "\n",
        "    return  news_list"
      ],
      "metadata": {
        "id": "OJzEMXIz60k3"
      },
      "execution_count": 46,
      "outputs": []
    },
    {
      "cell_type": "code",
      "source": [
        "page_num = 0\n",
        "pages_one_time = 10\n",
        "News = pd.DataFrame() \n",
        "final_page = 480\n",
        "dic_list=[]"
      ],
      "metadata": {
        "id": "NuLavxhe6ZCp"
      },
      "execution_count": 57,
      "outputs": []
    },
    {
      "cell_type": "code",
      "source": [
        "while page_num < final_page:\n",
        "    if page_num+pages_one_time > final_page:\n",
        "        dic_list.extend(CrawlNews(page_num, final_page))\n",
        "    else:\n",
        "        dic_list.extend(CrawlNews(page_num, page_num+pages_one_time))\n",
        "    page_num+=pages_one_time\n",
        "\n",
        "News = pd.DataFrame.from_dict(dic_list)"
      ],
      "metadata": {
        "colab": {
          "base_uri": "https://localhost:8080/"
        },
        "id": "bh8R4AzAuS5Y",
        "outputId": "7700b561-20a4-4724-b307-c38592841c5b"
      },
      "execution_count": 58,
      "outputs": [
        {
          "output_type": "stream",
          "name": "stdout",
          "text": [
            "400 410\n"
          ]
        },
        {
          "output_type": "stream",
          "name": "stderr",
          "text": [
            "100%|██████████| 217/217 [01:03<00:00,  3.39it/s]\n"
          ]
        },
        {
          "output_type": "stream",
          "name": "stdout",
          "text": [
            "410 420\n"
          ]
        },
        {
          "output_type": "stream",
          "name": "stderr",
          "text": [
            "100%|██████████| 227/227 [00:22<00:00, 10.03it/s]\n"
          ]
        },
        {
          "output_type": "stream",
          "name": "stdout",
          "text": [
            "420 430\n"
          ]
        },
        {
          "output_type": "stream",
          "name": "stderr",
          "text": [
            "100%|██████████| 231/231 [00:23<00:00,  9.99it/s]\n"
          ]
        },
        {
          "output_type": "stream",
          "name": "stdout",
          "text": [
            "430 440\n"
          ]
        },
        {
          "output_type": "stream",
          "name": "stderr",
          "text": [
            "100%|██████████| 224/224 [00:27<00:00,  8.18it/s]\n"
          ]
        },
        {
          "output_type": "stream",
          "name": "stdout",
          "text": [
            "440 450\n"
          ]
        },
        {
          "output_type": "stream",
          "name": "stderr",
          "text": [
            "100%|██████████| 215/215 [00:20<00:00, 10.31it/s]\n"
          ]
        },
        {
          "output_type": "stream",
          "name": "stdout",
          "text": [
            "450 460\n"
          ]
        },
        {
          "output_type": "stream",
          "name": "stderr",
          "text": [
            "100%|██████████| 227/227 [00:38<00:00,  5.84it/s]\n"
          ]
        },
        {
          "output_type": "stream",
          "name": "stdout",
          "text": [
            "460 470\n"
          ]
        },
        {
          "output_type": "stream",
          "name": "stderr",
          "text": [
            "100%|██████████| 222/222 [00:28<00:00,  7.82it/s]\n"
          ]
        },
        {
          "output_type": "stream",
          "name": "stdout",
          "text": [
            "470 480\n"
          ]
        },
        {
          "output_type": "stream",
          "name": "stderr",
          "text": [
            "100%|██████████| 223/223 [00:27<00:00,  8.18it/s]\n"
          ]
        }
      ]
    },
    {
      "cell_type": "code",
      "source": [
        "fout_name = \"/content/drive/MyDrive/DS_I/data/final.json\"\n",
        "f = open(fout_name,'w')\n",
        "json_ver = News.to_json(force_ascii=False)\n",
        "\n",
        "f.write(json_ver)"
      ],
      "metadata": {
        "id": "TZ7GRcAAtiUZ",
        "colab": {
          "base_uri": "https://localhost:8080/"
        },
        "outputId": "0378ddab-4466-4854-856d-557e88466ac7"
      },
      "execution_count": 60,
      "outputs": [
        {
          "output_type": "execute_result",
          "data": {
            "text/plain": [
              "7255397"
            ]
          },
          "metadata": {},
          "execution_count": 60
        }
      ]
    },
    {
      "cell_type": "code",
      "source": [],
      "metadata": {
        "id": "fR52lfzSdE-H"
      },
      "execution_count": null,
      "outputs": []
    }
  ]
}