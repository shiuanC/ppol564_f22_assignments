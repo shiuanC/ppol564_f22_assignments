{
 "cells": [
  {
   "cell_type": "markdown",
   "metadata": {
    "id": "ysggrQunquuO"
   },
   "source": [
    "# Imports and packages"
   ]
  },
  {
   "cell_type": "code",
   "execution_count": 7,
   "metadata": {
    "colab": {
     "base_uri": "https://localhost:8080/"
    },
    "id": "M16K3gcOqx09",
    "outputId": "71bb6bf6-0c6f-45fc-b6b7-bda0584fde9d"
   },
   "outputs": [
    {
     "name": "stdout",
     "output_type": "stream",
     "text": [
      "Mounted at /content/drive\n",
      "/content/drive/MyDrive/DS_I\n"
     ]
    }
   ],
   "source": [
    "from google.colab import drive\n",
    "drive.mount('/content/drive')\n",
    "%cd \"/content/drive/MyDrive/DS_I\""
   ]
  },
  {
   "cell_type": "code",
   "execution_count": 8,
   "metadata": {
    "colab": {
     "base_uri": "https://localhost:8080/"
    },
    "id": "CZ-HDWxkrhTm",
    "outputId": "fcde926d-2fe2-4f27-8121-c50540c72d57"
   },
   "outputs": [
    {
     "name": "stdout",
     "output_type": "stream",
     "text": [
      "Looking in indexes: https://pypi.org/simple, https://us-python.pkg.dev/colab-wheels/public/simple/\n",
      "Collecting vaderSentiment\n",
      "  Downloading vaderSentiment-3.3.2-py2.py3-none-any.whl (125 kB)\n",
      "\u001b[K     |████████████████████████████████| 125 kB 7.6 MB/s \n",
      "\u001b[?25hRequirement already satisfied: requests in /usr/local/lib/python3.7/dist-packages (from vaderSentiment) (2.23.0)\n",
      "Requirement already satisfied: idna<3,>=2.5 in /usr/local/lib/python3.7/dist-packages (from requests->vaderSentiment) (2.10)\n",
      "Requirement already satisfied: urllib3!=1.25.0,!=1.25.1,<1.26,>=1.21.1 in /usr/local/lib/python3.7/dist-packages (from requests->vaderSentiment) (1.24.3)\n",
      "Requirement already satisfied: certifi>=2017.4.17 in /usr/local/lib/python3.7/dist-packages (from requests->vaderSentiment) (2022.9.24)\n",
      "Requirement already satisfied: chardet<4,>=3.0.2 in /usr/local/lib/python3.7/dist-packages (from requests->vaderSentiment) (3.0.4)\n",
      "Installing collected packages: vaderSentiment\n",
      "Successfully installed vaderSentiment-3.3.2\n"
     ]
    }
   ],
   "source": [
    "!pip install --upgrade vaderSentiment"
   ]
  },
  {
   "cell_type": "code",
   "execution_count": 66,
   "metadata": {
    "colab": {
     "base_uri": "https://localhost:8080/"
    },
    "id": "EldyH4r7quuR",
    "outputId": "faa569d4-e510-4fae-afc9-1c9318d9c20d"
   },
   "outputs": [
    {
     "name": "stderr",
     "output_type": "stream",
     "text": [
      "[nltk_data] Downloading package averaged_perceptron_tagger to\n",
      "[nltk_data]     /root/nltk_data...\n",
      "[nltk_data]   Package averaged_perceptron_tagger is already up-to-\n",
      "[nltk_data]       date!\n"
     ]
    },
    {
     "data": {
      "text/plain": [
       "True"
      ]
     },
     "execution_count": 66,
     "metadata": {},
     "output_type": "execute_result"
    },
    {
     "name": "stderr",
     "output_type": "stream",
     "text": [
      "[nltk_data] Downloading package stopwords to /root/nltk_data...\n",
      "[nltk_data]   Package stopwords is already up-to-date!\n"
     ]
    },
    {
     "data": {
      "text/plain": [
       "True"
      ]
     },
     "execution_count": 66,
     "metadata": {},
     "output_type": "execute_result"
    },
    {
     "name": "stderr",
     "output_type": "stream",
     "text": [
      "[nltk_data] Downloading package punkt to /root/nltk_data...\n",
      "[nltk_data]   Package punkt is already up-to-date!\n"
     ]
    },
    {
     "data": {
      "text/plain": [
       "True"
      ]
     },
     "execution_count": 66,
     "metadata": {},
     "output_type": "execute_result"
    }
   ],
   "source": [
    "## helpful packages\n",
    "\n",
    "import datetime\n",
    "import warnings\n",
    "warnings.filterwarnings(\"ignore\")\n",
    "\n",
    "import pandas as pd\n",
    "import numpy as np\n",
    "import random\n",
    "import re\n",
    "import string\n",
    "\n",
    "## nltk imports\n",
    "import nltk\n",
    "### uncomment and run these lines if you haven't downloaded relevant nltk add-ons yet\n",
    "nltk.download('averaged_perceptron_tagger')\n",
    "nltk.download('stopwords')\n",
    "nltk.download('punkt')\n",
    "from nltk import pos_tag\n",
    "from nltk.tokenize import word_tokenize, wordpunct_tokenize\n",
    "from nltk.stem.snowball import SnowballStemmer\n",
    "from nltk.corpus import stopwords\n",
    "\n",
    "## spacy imports\n",
    "import spacy\n",
    "### uncomment and run the below line if you haven't loaded the en_core_web_sm library yet\n",
    "#! python3 -m spacy download en_core_web_sm\n",
    "import en_core_web_sm\n",
    "nlp = en_core_web_sm.load()\n",
    "\n",
    "## vectorizer\n",
    "from sklearn.feature_extraction.text import CountVectorizer\n",
    "\n",
    "## sentiment\n",
    "from vaderSentiment.vaderSentiment import SentimentIntensityAnalyzer\n",
    "\n",
    "## lda\n",
    "from gensim import corpora\n",
    "import gensim\n",
    "\n",
    "## repeated printouts and wide-format text\n",
    "from IPython.core.interactiveshell import InteractiveShell\n",
    "InteractiveShell.ast_node_interactivity = \"all\"\n",
    "pd.set_option('display.max_colwidth', None)\n",
    "\n",
    "from collections import Counter"
   ]
  },
  {
   "cell_type": "markdown",
   "metadata": {
    "id": "6iOEE08MquuT"
   },
   "source": [
    "# Text analysis of Department of Justice (DOJ) press releases (50 points total)\n",
    "\n",
    "- For background:\n",
    "\n",
    "    - DOJ is the federal law enforcement agency responsible for federal prosecutions; this contrasts with the local prosecutions in the Cook County dataset we analyzed earlier. Here's a short explainer on which crimes get prosecuted federally versus locally: https://www.criminaldefenselawyer.com/resources/criminal-defense/federal-crime/state-vs-federal-crimes.htm#:~:text=Federal%20criminal%20prosecutions%20are%20handled,of%20state%20and%20local%20law. \n",
    "    - Here's the Kaggle that contains the data: https://www.kaggle.com/jbencina/department-of-justice-20092018-press-releases \n",
    "    - Here's the code the dataset creator used to scrape those press releases here if you're interested: https://github.com/jbencina/dojreleases\n",
    "    \n",
    "- See here for a codebook: https://docs.google.com/spreadsheets/d/1UopmSvFGrwJvz_c3Plh32Yxkqwff64oS_CcpfATOV8k/edit?usp=sharing"
   ]
  },
  {
   "cell_type": "code",
   "execution_count": 10,
   "metadata": {
    "id": "oJXMRTr6quuW"
   },
   "outputs": [],
   "source": [
    "## first, unzip the combined.json.zip file\n",
    "## then, run this code to load the unzipped json file and convert to a dataframe\n",
    "## and convert some of the attributes from lists to values\n",
    "## make sure to change the pathname if you need to\n",
    "doj = pd.read_json(\"pset5_data/combined.json\", lines = True)\n",
    "\n",
    "## due to json, topics are in a list so remove them and concatenate with ;\n",
    "doj['topics_clean'] = [\"; \".join(topic) \n",
    "                      if len(topic) > 0 else \"No topic\" \n",
    "                      for topic in doj.topics]\n",
    "\n",
    "## similarly with components\n",
    "doj['components_clean'] = [\"; \".join(comp) \n",
    "                           if len(comp) > 0 else \"No component\" \n",
    "                           for comp in doj.components]\n",
    "\n",
    "## drop older columns from data\n",
    "doj = doj[['id', 'title', 'contents', 'date', 'topics_clean', \n",
    "           'components_clean']].copy()"
   ]
  },
  {
   "cell_type": "markdown",
   "metadata": {
    "id": "Wb1UiRQjquuY"
   },
   "source": [
    "## 1. Tagging and sentiment scoring (16 points)\n",
    "\n",
    "Focus on the following press release: `id` == \"17-1204\" about this pharmaceutical kickback prosecution: https://www.forbes.com/sites/michelatindera/2017/11/16/fentanyl-billionaire-john-kapoor-to-plead-not-guilty-in-opioid-kickback-case/?sh=21b8574d6c6c \n",
    "\n",
    "The `contents` column is the one we're treating as a document. You may need to to convert it from a pandas series to a single string.\n",
    "\n",
    "We'll call the raw string of this press release `pharma`"
   ]
  },
  {
   "cell_type": "code",
   "execution_count": 11,
   "metadata": {
    "colab": {
     "base_uri": "https://localhost:8080/"
    },
    "id": "mUNwz_-XftYs",
    "outputId": "53a44539-72c8-4c93-e18d-9b3bf98b071b"
   },
   "outputs": [
    {
     "data": {
      "text/plain": [
       "Index(['id', 'title', 'contents', 'date', 'topics_clean', 'components_clean'], dtype='object')"
      ]
     },
     "execution_count": 11,
     "metadata": {},
     "output_type": "execute_result"
    }
   ],
   "source": [
    "doj.columns"
   ]
  },
  {
   "cell_type": "code",
   "execution_count": 12,
   "metadata": {
    "colab": {
     "base_uri": "https://localhost:8080/",
     "height": 181
    },
    "id": "Adz9T_rGquuZ",
    "outputId": "17548392-c731-4cbf-d61e-69205ad6857b"
   },
   "outputs": [
    {
     "data": {
      "application/vnd.google.colaboratory.intrinsic+json": {
       "type": "string"
      },
      "text/plain": [
       "'The founder and majority owner of Insys Therapeutics Inc., was arrested today and charged with leading a nationwide conspiracy to profit by using bribes and fraud to cause the illegal distribution of a Fentanyl spray intended for cancer patients experiencing breakthrough pain.\\xa0\"More than 20,000 Americans died of synthetic opioid overdoses last year, and millions are addicted to opioids. And yet some medical professionals would rather take advantage of the addicts than try to help them,\" said Attorney General Jeff Sessions. \"This Justice Department will not tolerate this.\\xa0 We will hold accountable anyone – from street dealers to corporate executives -- who illegally contributes to this nationwide epidemic.\\xa0 And under the leadership of President Trump, we are fully committed to defeating this threat to the American people.”John N. Kapoor, 74, of Phoenix, Ariz., a current member of the Board of Directors of Insys, was arrested this morning in Arizona and charged with RICO conspiracy, as well as other felonies, including conspiracy to commit mail and wire fraud and conspiracy to violate the Anti-Kickback Law. Kapoor, the former Executive Chairman of the Board and CEO of Insys, will appear in federal court in Phoenix today.\\xa0 He will appear in U.S. District Court in Boston at a later date.\\xa0The superseding indictment, unsealed today in Boston, also includes additional allegations against several former Insys executives and managers who were initially indicted in December 2016.The superseding indictment charges that Kapoor; Michael L. Babich, 40, of Scottsdale, Ariz., former CEO and President of the company; Alec Burlakoff, 42, of Charlotte, N.C., former Vice President of Sales; Richard M. Simon, 46, of Seal Beach, Calif., former National Director of Sales; former Regional Sales Directors Sunrise Lee, 36, of Bryant City, Mich., and Joseph A. Rowan, 43, of Panama City, Fla.; and former Vice President of Managed Markets, Michael J. Gurry, 53, of Scottsdale, Ariz., conspired to bribe practitioners in various states, many of whom operated pain clinics, in order to get them to prescribe a fentanyl-based pain medication.\\xa0 The medication, called “Subsys,” is a powerful narcotic intended to treat cancer patients suffering intense breakthrough pain.\\xa0 In exchange for bribes and kickbacks, the practitioners wrote large numbers of prescriptions for the patients, most of whom were not diagnosed with cancer.The indictment also alleges that Kapoor and the six former executives conspired to mislead and defraud health insurance providers who were reluctant to approve payment for the drug when it was prescribed for non-cancer patients.\\xa0 They achieved this goal by setting up the “reimbursement unit,” which was dedicated to obtaining prior authorization directly from insurers and pharmacy benefit managers.\\xa0“In the midst of a nationwide opioid epidemic that has reached crisis proportions, Mr. Kapoor and his company stand accused of bribing doctors to overprescribe a potent opioid and committing fraud on insurance companies solely for profit,” said Acting United States Attorney William D. Weinreb. “Today\\'s arrest and charges reflect our ongoing efforts to attack the opioid crisis from all angles. We must hold the industry and its leadership accountable - just as we would the cartels or a street-level drug dealer.”“As alleged, these executives created a corporate culture at Insys that utilized deception and bribery as an acceptable business practice, deceiving patients, and conspiring with doctors and insurers,” said Harold H. Shaw, Special Agent in Charge of the Federal Bureau of Investigation, Boston Field Division. “The allegations of selling a highly addictive opioid cancer pain drug to patients who did not have cancer, make them no better than street-level drug dealers. Today\\'s charges mark an important step in holding pharmaceutical executives responsible for their part in the opioid crisis.\\xa0\\xa0 The FBI will vigorously investigate corrupt organizations with business practices that promote fraud with a total disregard for patient safety.”“These Insys executives allegedly fueled the opioid epidemic by paying doctors to needlessly prescribe an extremely dangerous and addictive form of fentanyl,” said Phillip Coyne, Special Agent in Charge for the Office of Inspector General of the U.S. Department of Health and Human Services.\\xa0 “Corporate executives intent on illegally driving up profits need to be aware they are now squarely in the sights of law enforcement.”“As alleged, Insys executives improperly influenced health care providers to prescribe a powerful opioid for patients who did not need it, and without complying with FDA requirements, thus putting patients at risk and contributing to the current opioid crisis,” said Mark A. McCormack, Special Agent in Charge, FDA Office of Criminal Investigations’ Metro Washington Field Office. “Our office will continue to work with our law enforcement partners to pursue and bring to justice those who threaten the public health.”“Pharmaceutical companies whose products include controlled medications that can lead to addiction and overdose have a special obligation to operate in a trustworthy, transparent manner, because their customers’ health and safety and, indeed, very lives depend on it,” said DEA Special Agent in Charge Michael J. Ferguson.\\xa0 “DEA pledges to work with our law enforcement and regulatory partners nationwide to ensure that rules and regulations under the Controlled Substances Act are followed.”“Today’s arrest is the result of a joint effort to identify, investigate and prosecute individuals who engage in fraudulent activity and endanger patient health,” stated Special Agent in Charge Leigh-Alistair Barzey, Defense Criminal Investigative Service (DCIS) Northeast Field Office.\\xa0 “DCIS will continue to work with the U.S. Attorney’s Office, District of Massachusetts, and our law enforcement partners, to protect U.S. military members, retirees and their dependents and the integrity of TRICARE, the Defense Department’s healthcare system.”“As alleged, John Kapoor and other top executives committed fraud, placing profit before patient safety, to sell a highly potent and addictive opioid.\\xa0 EBSA will take every opportunity to work collaboratively with our law enforcement partners in these important investigations to protect participants in private sector health plans and contribute in fighting the opioid epidemic,” said Susan A. Hensley, Regional Director of the U.S. Department of Labor, Employee Benefits Security Administration, Boston Regional Office.“Once again, the United States Postal Inspection Service is fully committed to protecting our nation’s mail system from criminal misuse,” said Shelly Binkowski, Inspector in Charge of the U.S. Postal Inspection Service. “We are proud to work alongside our law enforcement partners to dismantle high level prescription drug practices which directly contribute to the opioid abuse epidemic.\\xa0 This investigation highlights our commitment to defending our mail system from illegal misuse and ensuring public trust in the mail.”“The U.S. Department of Veterans Affairs, Office of Inspector General will continue to aggressively investigate those that attempt to fraudulently impact programs designed to benefit our veterans and their families,” said Donna L. Neves, Special Agent in Charge of the VA OIG Northeast Field Office.The charges of conspiracy to commit RICO and conspiracy to commit mail and wire fraud each provide for a sentence of no greater than 20 years in prison, three years of supervised release and a fine of $250,000, or twice the amount of pecuniary gain or loss.\\xa0 The charges of conspiracy to violate the Anti-Kickback Law provide for a sentence of no greater than five years in prison, three years of supervised release and a $25,000 fine. Sentences are imposed by a federal district court judge based upon the U.S. Sentencing Guidelines and other statutory factors.The investigation was conducted by a team that included the FBI; HHS-OIG; FDA Office of Criminal Investigations; the Defense Criminal Investigative Service; the Drug Enforcement Administration; the Department of Labor, Employee Benefits Security Administration; the Office of Personnel Management; the U.S. Postal Inspection Service; the U.S. Postal Service Office of Inspector General; and the Department of Veterans Affairs.\\xa0 The U.S. Attorney’s Office would like to acknowledge the cooperation and assistance of the U.S. Attorney’s Offices around the country engaged in parallel investigations, including the District of Connecticut, Eastern District of Michigan, Southern District of Alabama, Southern District of New York, District of Rhode Island, and the District of New Hampshire.\\xa0 The efforts of the Central District of California and the Justice Department’s Civil Fraud Section of the Department of Justice are also greatly appreciated.\\xa0Assistant U.S. Attorneys K. Nathaniel Yeager, Chief of Weinreb’s Health Care Fraud Unit, and Susan M. Poswistilo, of Weinreb’s Civil Division, are prosecuting the case.The details contained in the charging documents are allegations.\\xa0 The defendants are presumed innocent unless and until proven guilty beyond a reasonable doubt.'"
      ]
     },
     "execution_count": 12,
     "metadata": {},
     "output_type": "execute_result"
    }
   ],
   "source": [
    "## your code to subset to one press release and take the string\n",
    "pharma = doj[doj.id == '17-1204']['contents'][4909]\n",
    "pharma"
   ]
  },
  {
   "cell_type": "markdown",
   "metadata": {
    "id": "mmTiLehSquuZ"
   },
   "source": [
    "### 1.1 part of speech tagging (3 points)\n",
    "\n",
    "A. Preprocess the `pharma` press release to remove all punctuation / digits (so can use `.isalpha()` to subset)\n",
    "\n",
    "B. With the preprocessed press release from part A, use the part of speech tagger within nltk to tag all the words in that one press release with their part of speech. \n",
    "\n",
    "C. Using the output from B, extract the adjectives and sort those adjectives from most occurrences to fewest occurrences. Print a dataframe with the 5 most frequent adjectives and their counts in the `pharma` release. See here for a list of the names of adjectives within nltk: https://pythonprogramming.net/natural-language-toolkit-nltk-part-speech-tagging/\n",
    "\n",
    "**Resources**:\n",
    "\n",
    "- Documentation for .isalpha(): https://www.w3schools.com/python/ref_string_isalpha.asp\n",
    "- `process_step1` function here has an example of tokenizing and filtering to words where .isalpha() is true: \n",
    "https://github.com/rebeccajohnson88/PPOL564_slides_activities/blob/main/activities/fall_22/solutions/09_textasdata_partII_topicmodeling_solution.ipynb \n",
    "- Part of speech tagging section of this code: \n",
    "https://github.com/rebeccajohnson88/PPOL564_slides_activities/blob/main/activities/fall_22/solutions/08_textasdata_partI_textmining_solutions.ipynb\n",
    "\n"
   ]
  },
  {
   "cell_type": "code",
   "execution_count": 13,
   "metadata": {
    "id": "DJpXkfZ5quua"
   },
   "outputs": [],
   "source": [
    "## your code here to restrict to alpha\n",
    "# Preprocess the pharma press release to remove all punctuation / digits (so can use .isalpha() to subset)\n",
    "pharma_words = [word for word in pharma.split(\" \") if word.isalpha()]"
   ]
  },
  {
   "cell_type": "code",
   "execution_count": 14,
   "metadata": {
    "colab": {
     "base_uri": "https://localhost:8080/",
     "height": 206
    },
    "id": "ye9bQTWUquub",
    "outputId": "fb5e1f33-ca4b-4161-c373-78299a560cd7"
   },
   "outputs": [
    {
     "data": {
      "text/html": [
       "\n",
       "  <div id=\"df-3eda90b5-372e-4e24-98a3-07fb4ec3342d\">\n",
       "    <div class=\"colab-df-container\">\n",
       "      <div>\n",
       "<style scoped>\n",
       "    .dataframe tbody tr th:only-of-type {\n",
       "        vertical-align: middle;\n",
       "    }\n",
       "\n",
       "    .dataframe tbody tr th {\n",
       "        vertical-align: top;\n",
       "    }\n",
       "\n",
       "    .dataframe thead th {\n",
       "        text-align: right;\n",
       "    }\n",
       "</style>\n",
       "<table border=\"1\" class=\"dataframe\">\n",
       "  <thead>\n",
       "    <tr style=\"text-align: right;\">\n",
       "      <th></th>\n",
       "      <th>word</th>\n",
       "      <th>frequency</th>\n",
       "    </tr>\n",
       "  </thead>\n",
       "  <tbody>\n",
       "    <tr>\n",
       "      <th>9</th>\n",
       "      <td>former</td>\n",
       "      <td>8</td>\n",
       "    </tr>\n",
       "    <tr>\n",
       "      <th>0</th>\n",
       "      <td>nationwide</td>\n",
       "      <td>4</td>\n",
       "    </tr>\n",
       "    <tr>\n",
       "      <th>28</th>\n",
       "      <td>addictive</td>\n",
       "      <td>3</td>\n",
       "    </tr>\n",
       "    <tr>\n",
       "      <th>25</th>\n",
       "      <td>opioid</td>\n",
       "      <td>3</td>\n",
       "    </tr>\n",
       "    <tr>\n",
       "      <th>8</th>\n",
       "      <td>other</td>\n",
       "      <td>3</td>\n",
       "    </tr>\n",
       "  </tbody>\n",
       "</table>\n",
       "</div>\n",
       "      <button class=\"colab-df-convert\" onclick=\"convertToInteractive('df-3eda90b5-372e-4e24-98a3-07fb4ec3342d')\"\n",
       "              title=\"Convert this dataframe to an interactive table.\"\n",
       "              style=\"display:none;\">\n",
       "        \n",
       "  <svg xmlns=\"http://www.w3.org/2000/svg\" height=\"24px\"viewBox=\"0 0 24 24\"\n",
       "       width=\"24px\">\n",
       "    <path d=\"M0 0h24v24H0V0z\" fill=\"none\"/>\n",
       "    <path d=\"M18.56 5.44l.94 2.06.94-2.06 2.06-.94-2.06-.94-.94-2.06-.94 2.06-2.06.94zm-11 1L8.5 8.5l.94-2.06 2.06-.94-2.06-.94L8.5 2.5l-.94 2.06-2.06.94zm10 10l.94 2.06.94-2.06 2.06-.94-2.06-.94-.94-2.06-.94 2.06-2.06.94z\"/><path d=\"M17.41 7.96l-1.37-1.37c-.4-.4-.92-.59-1.43-.59-.52 0-1.04.2-1.43.59L10.3 9.45l-7.72 7.72c-.78.78-.78 2.05 0 2.83L4 21.41c.39.39.9.59 1.41.59.51 0 1.02-.2 1.41-.59l7.78-7.78 2.81-2.81c.8-.78.8-2.07 0-2.86zM5.41 20L4 18.59l7.72-7.72 1.47 1.35L5.41 20z\"/>\n",
       "  </svg>\n",
       "      </button>\n",
       "      \n",
       "  <style>\n",
       "    .colab-df-container {\n",
       "      display:flex;\n",
       "      flex-wrap:wrap;\n",
       "      gap: 12px;\n",
       "    }\n",
       "\n",
       "    .colab-df-convert {\n",
       "      background-color: #E8F0FE;\n",
       "      border: none;\n",
       "      border-radius: 50%;\n",
       "      cursor: pointer;\n",
       "      display: none;\n",
       "      fill: #1967D2;\n",
       "      height: 32px;\n",
       "      padding: 0 0 0 0;\n",
       "      width: 32px;\n",
       "    }\n",
       "\n",
       "    .colab-df-convert:hover {\n",
       "      background-color: #E2EBFA;\n",
       "      box-shadow: 0px 1px 2px rgba(60, 64, 67, 0.3), 0px 1px 3px 1px rgba(60, 64, 67, 0.15);\n",
       "      fill: #174EA6;\n",
       "    }\n",
       "\n",
       "    [theme=dark] .colab-df-convert {\n",
       "      background-color: #3B4455;\n",
       "      fill: #D2E3FC;\n",
       "    }\n",
       "\n",
       "    [theme=dark] .colab-df-convert:hover {\n",
       "      background-color: #434B5C;\n",
       "      box-shadow: 0px 1px 3px 1px rgba(0, 0, 0, 0.15);\n",
       "      filter: drop-shadow(0px 1px 2px rgba(0, 0, 0, 0.3));\n",
       "      fill: #FFFFFF;\n",
       "    }\n",
       "  </style>\n",
       "\n",
       "      <script>\n",
       "        const buttonEl =\n",
       "          document.querySelector('#df-3eda90b5-372e-4e24-98a3-07fb4ec3342d button.colab-df-convert');\n",
       "        buttonEl.style.display =\n",
       "          google.colab.kernel.accessAllowed ? 'block' : 'none';\n",
       "\n",
       "        async function convertToInteractive(key) {\n",
       "          const element = document.querySelector('#df-3eda90b5-372e-4e24-98a3-07fb4ec3342d');\n",
       "          const dataTable =\n",
       "            await google.colab.kernel.invokeFunction('convertToInteractive',\n",
       "                                                     [key], {});\n",
       "          if (!dataTable) return;\n",
       "\n",
       "          const docLinkHtml = 'Like what you see? Visit the ' +\n",
       "            '<a target=\"_blank\" href=https://colab.research.google.com/notebooks/data_table.ipynb>data table notebook</a>'\n",
       "            + ' to learn more about interactive tables.';\n",
       "          element.innerHTML = '';\n",
       "          dataTable['output_type'] = 'display_data';\n",
       "          await google.colab.output.renderOutput(dataTable, element);\n",
       "          const docLink = document.createElement('div');\n",
       "          docLink.innerHTML = docLinkHtml;\n",
       "          element.appendChild(docLink);\n",
       "        }\n",
       "      </script>\n",
       "    </div>\n",
       "  </div>\n",
       "  "
      ],
      "text/plain": [
       "          word  frequency\n",
       "9       former          8\n",
       "0   nationwide          4\n",
       "28   addictive          3\n",
       "25      opioid          3\n",
       "8        other          3"
      ]
     },
     "execution_count": 14,
     "metadata": {},
     "output_type": "execute_result"
    }
   ],
   "source": [
    "## your code here for part of speech tagging\n",
    "pharma_tokens = pos_tag(pharma_words)\n",
    "adj_tags = ['JJ', 'JJR', 'JJS']\n",
    "pharma_adjs = [token[0] for token in pharma_tokens if token[1] in adj_tags]\n",
    "freq_adjs=pd.DataFrame(nltk.FreqDist(pharma_adjs).items(), columns=['word', 'frequency'])\n",
    "freq_adjs.sort_values(['frequency'], ascending=False).head(5)"
   ]
  },
  {
   "cell_type": "markdown",
   "metadata": {
    "id": "wneaFqNwquxE"
   },
   "source": [
    "## 1.2 named entity recognition (3 points)\n",
    "\n"
   ]
  },
  {
   "cell_type": "markdown",
   "metadata": {
    "id": "iA--5CE5quxL"
   },
   "source": [
    "A. Using the original `pharma` press release (so the one before stripping punctuation/digits), use spaCy to extract all named entities from the press release.\n",
    "\n",
    "B. Print the unique named entities with the tag: `LAW`. Here's some background on what RICO means: https://www.justia.com/criminal/docs/rico/ "
   ]
  },
  {
   "cell_type": "markdown",
   "metadata": {
    "id": "qBAqFIRBquxL"
   },
   "source": [
    "**Resources**:\n",
    "- For parts A and B: named entity recognition part of this code: \n",
    "https://github.com/rebeccajohnson88/PPOL564_slides_activities/blob/main/activities/fall_22/solutions/08_textasdata_partI_textmining_solutions.ipynb"
   ]
  },
  {
   "cell_type": "code",
   "execution_count": 15,
   "metadata": {
    "colab": {
     "base_uri": "https://localhost:8080/"
    },
    "id": "LIZMoL04oXlA",
    "outputId": "22559a8a-3158-4216-d303-fd852c6de53c"
   },
   "outputs": [
    {
     "data": {
      "text/plain": [
       "9252"
      ]
     },
     "execution_count": 15,
     "metadata": {},
     "output_type": "execute_result"
    }
   ],
   "source": [
    "len(pharma)"
   ]
  },
  {
   "cell_type": "code",
   "execution_count": 16,
   "metadata": {
    "id": "TppbzBN5quxP"
   },
   "outputs": [],
   "source": [
    "## your code here \n",
    "#A\n",
    "pharma_spacy = nlp(pharma).ents"
   ]
  },
  {
   "cell_type": "code",
   "execution_count": 17,
   "metadata": {
    "colab": {
     "base_uri": "https://localhost:8080/"
    },
    "id": "6JLXI0iMZPvr",
    "outputId": "9632db1d-6b81-4a12-9c1d-262296985f8f"
   },
   "outputs": [
    {
     "data": {
      "text/plain": [
       "array([RICO, the Controlled Substances Act, RICO], dtype=object)"
      ]
     },
     "execution_count": 17,
     "metadata": {},
     "output_type": "execute_result"
    }
   ],
   "source": [
    "#B\n",
    "law_ents = [ent for ent in pharma_spacy if ent.label_ == \"LAW\"]\n",
    "np.unique(list(law_ents))"
   ]
  },
  {
   "cell_type": "markdown",
   "metadata": {
    "id": "2Y-oxNcOquxP"
   },
   "source": [
    "C. You want to extract the possible sentence lengths the CEO is facing; pull out the named entities with (1) the label `DATE` and (2) that contain the word year or years. Print these named entities.\n",
    "\n",
    "**Hint:**  \n",
    "You may want to use the `re` module for the second part."
   ]
  },
  {
   "cell_type": "code",
   "execution_count": 18,
   "metadata": {
    "colab": {
     "base_uri": "https://localhost:8080/"
    },
    "id": "MrIm4G67oMmX",
    "outputId": "41aff2c1-0fb1-4257-fb5f-35d5266aa160"
   },
   "outputs": [
    {
     "data": {
      "text/plain": [
       "144"
      ]
     },
     "execution_count": 18,
     "metadata": {},
     "output_type": "execute_result"
    }
   ],
   "source": [
    "len(pharma_spacy)"
   ]
  },
  {
   "cell_type": "code",
   "execution_count": 19,
   "metadata": {
    "colab": {
     "base_uri": "https://localhost:8080/"
    },
    "id": "7ORfj7GequxQ",
    "outputId": "10ced8aa-2b8a-4592-e75a-154850bc661d"
   },
   "outputs": [
    {
     "data": {
      "text/plain": [
       "[last year, three years, three years]"
      ]
     },
     "execution_count": 19,
     "metadata": {},
     "output_type": "execute_result"
    }
   ],
   "source": [
    "## your code here\n",
    "len_ents = [ent for ent in pharma_spacy if (ent.label_ == \"DATE\") & ( str.__contains__(ent.text, 'year'))]\n",
    "len_ents"
   ]
  },
  {
   "cell_type": "markdown",
   "metadata": {
    "id": "gVoHjOg0quxa"
   },
   "source": [
    "D. Parse the pharma string at the sentence level. Note that this involves more than just splitting on each `.`; for full credit, add at least one additional delimiter that marks the end of the sentence.\n",
    "\n",
    "Then, using those sentences, pull and print the original sentences from the press releases where those year lengths are mentioned. Describe in your own words (1 sentence) what length of sentence (prison) and probation (supervised release) the CEO may be facing if convicted after this indictment (if there are multiple lengths mentioned describe the maximum). \n",
    "\n",
    "**Hint:**  \n",
    "You may want to use re.search or re.findall \n",
    "\n",
    "**Resources**:\n",
    "\n",
    "- re.search and re.findall examples here for filtering to ones containing year (multiple approaches; some need not involve `re`): \n",
    "https://github.com/rebeccajohnson88/PPOL564_slides_activities/blob/main/activities/fall_22/solutions/07_regex_solutions.ipynb\n"
   ]
  },
  {
   "cell_type": "code",
   "execution_count": 20,
   "metadata": {
    "colab": {
     "base_uri": "https://localhost:8080/"
    },
    "id": "qHc7ct-5quxa",
    "outputId": "440496e9-3d52-4a97-e5cf-5f3e0eac488e"
   },
   "outputs": [
    {
     "data": {
      "text/plain": [
       "['000 Americans died of synthetic opioid overdoses last year',\n",
       " ' three years of supervised release and a fine of $250',\n",
       " ' three years of supervised release and a $25']"
      ]
     },
     "execution_count": 20,
     "metadata": {},
     "output_type": "execute_result"
    }
   ],
   "source": [
    "## your code here\n",
    "pharma_splitted = re.split(r'[,.]', pharma)\n",
    "pattern = \"|\".join(str(v) for v in len_ents)\n",
    "sentence_w_year = [s for s in pharma_splitted if re.search(pattern, s) != None]\n",
    "sentence_w_year\n",
    "# re.search(pattern, pharma_splitted)"
   ]
  },
  {
   "cell_type": "markdown",
   "metadata": {
    "id": "gDrC8vf-quxb"
   },
   "source": [
    "## 1.3 sentiment analysis  (10 points)\n",
    "\n",
    "- Sentiment analysis section of this script: \n",
    "https://github.com/rebeccajohnson88/PPOL564_slides_activities/blob/main/activities/fall_22/solutions/08_textasdata_partI_textmining_solutions.ipynb\n",
    "\n",
    "\n",
    "A. Subset the press releases to those labeled with one of three topics via `topics_clean`: Civil Rights, Hate Crimes, and Project Safe Childhood. We'll call this `doj_subset` going forward and it should have 717 rows.\n",
    "\n"
   ]
  },
  {
   "cell_type": "code",
   "execution_count": 21,
   "metadata": {
    "colab": {
     "base_uri": "https://localhost:8080/"
    },
    "id": "fbcIdenAquxb",
    "outputId": "365061ae-d36d-4f1e-96b7-8f204c13cc50"
   },
   "outputs": [
    {
     "data": {
      "text/plain": [
       "717"
      ]
     },
     "execution_count": 21,
     "metadata": {},
     "output_type": "execute_result"
    }
   ],
   "source": [
    "## your code here for subsetting\n",
    "topics = ['Civil Rights', 'Hate Crimes', 'Project Safe Childhood']\n",
    "doj_subset = doj[doj.topics_clean.isin(topics)].reset_index(drop=True)\n",
    "len(doj_subset)"
   ]
  },
  {
   "cell_type": "markdown",
   "metadata": {
    "id": "pGvEljJ-quxb"
   },
   "source": [
    "B. Write a function that takes one press release string as an input and:\n",
    "\n",
    "- Removes named entities from each press release string (**Hint:** you may want to use `re.sub` with an or condition)\n",
    "- Scores the sentiment of the entire press release using the `SentimentIntensityAnalyzer` and `polarity_scores`\n",
    "- Returns the length-four (negative, positive, neutral, compound) sentiment dictionary (any order is fine)\n",
    "\n",
    "Apply that function to each of the press releases in `doj_subset`. \n",
    "\n",
    "**Hints**: \n",
    "\n",
    "- I used a function + list comprehension to execute and it takes about 30 seconds on my local machine; if it's taking a very long time, you may want to check your code for inefficiencies. If you can't fix those, for partial credit on this part/full credit on remainder, you can take a small random sample of the 717\n"
   ]
  },
  {
   "cell_type": "code",
   "execution_count": 22,
   "metadata": {
    "id": "NvODSSCjquxb"
   },
   "outputs": [],
   "source": [
    "# your code here defining the function\n",
    "def press_sen_scores(row):\n",
    "\n",
    "    content = str(row.contents)    \n",
    "    sim_spacy = nlp(content)\n",
    "    ents_pattern = \"|\".join(str(v) for v in sim_spacy.ents)\n",
    "    contents_sub = re.sub(ents_pattern, \"\", content)\n",
    "\n",
    "    sent_obj = SentimentIntensityAnalyzer()\n",
    "\n",
    "    return sent_obj.polarity_scores(contents_sub)"
   ]
  },
  {
   "cell_type": "code",
   "execution_count": 23,
   "metadata": {
    "colab": {
     "base_uri": "https://localhost:8080/"
    },
    "id": "FZLpPhuyquxc",
    "outputId": "0543319e-afd0-4b67-98ce-8497c1b3a16b"
   },
   "outputs": [
    {
     "data": {
      "text/plain": [
       "dict"
      ]
     },
     "execution_count": 23,
     "metadata": {},
     "output_type": "execute_result"
    }
   ],
   "source": [
    "# your code here executing the function\n",
    "sam = doj_subset.sample(n=1)\n",
    "type(press_sen_scores(sam))"
   ]
  },
  {
   "cell_type": "markdown",
   "metadata": {
    "id": "pi4ycAr_quxc"
   },
   "source": [
    "C. Add the four sentiment scores to the `doj_subset` dataframe to create a dataframe: `doj_subset_wscore`. Sort from highest neg to lowest neg score (so most negative to least negative) and print the `id`, `contents`, and `neg` columns of the two most negative press releases. \n",
    "\n",
    "Notes:\n",
    "\n",
    "- Don't worry if your sentiment score differs slightly from our output on GitHub; differences in preprocessing can lead to diff scores"
   ]
  },
  {
   "cell_type": "code",
   "execution_count": 24,
   "metadata": {
    "id": "xcaRVV4ACvdC"
   },
   "outputs": [],
   "source": [
    "doj_subset_wscores = doj_subset.copy(deep=True)\n",
    "doj_subset_wscores['contents'] = doj_subset_wscores['contents'].str.replace(\"[\\)\\(]\",'', regex=True)\n",
    "doj_subset_wscores['scores'] = doj_subset_wscores.apply(press_sen_scores, axis = 1)"
   ]
  },
  {
   "cell_type": "code",
   "execution_count": 25,
   "metadata": {
    "colab": {
     "base_uri": "https://localhost:8080/",
     "height": 590
    },
    "id": "6vY_B5eUN2kY",
    "outputId": "6918238d-9f4c-49c5-b4fa-52f4bce03ab7"
   },
   "outputs": [
    {
     "data": {
      "text/html": [
       "\n",
       "  <div id=\"df-bd8b5212-b477-4e53-b765-ae07f245e225\">\n",
       "    <div class=\"colab-df-container\">\n",
       "      <div>\n",
       "<style scoped>\n",
       "    .dataframe tbody tr th:only-of-type {\n",
       "        vertical-align: middle;\n",
       "    }\n",
       "\n",
       "    .dataframe tbody tr th {\n",
       "        vertical-align: top;\n",
       "    }\n",
       "\n",
       "    .dataframe thead th {\n",
       "        text-align: right;\n",
       "    }\n",
       "</style>\n",
       "<table border=\"1\" class=\"dataframe\">\n",
       "  <thead>\n",
       "    <tr style=\"text-align: right;\">\n",
       "      <th></th>\n",
       "      <th>id</th>\n",
       "      <th>contents</th>\n",
       "      <th>neg</th>\n",
       "    </tr>\n",
       "  </thead>\n",
       "  <tbody>\n",
       "    <tr>\n",
       "      <th>0</th>\n",
       "      <td>14-248</td>\n",
       "      <td>The Department of Justice announced that this morning John W. Ng, 58, of Albuquerque, N.M., made his initial appearance in federal court on a criminal complaint charging him with a hate crime offense.  This charge is related to anti-Semitic threats Ng made against a Jewish woman who owns and operates the Nosh Jewish Delicatessen and Bakery in Albuquerque. Ng was arrested by the FBI on March 7, 2014, based on a criminal complaint alleging that he interfered with the victim’s federally protected rights by threatening her and interfering with her business because of her religion.  According to the criminal complaint, between Jan. 22, 2014, and Feb. 8, 2014, Ng allegedly posted threatening anti-Semitic notes on and in the vicinity of the victim’s business. A criminal complaint merely establishes probable cause, and Ng is presumed innocent unless proven guilty.  If convicted on the offense charged in the criminal complaint, Ng faces a maximum statutory penalty of one year in prison. This matter was investigated by the Albuquerque Division of the FBI and is being prosecuted by Assistant U.S. Attorney Mark T. Baker of the U.S. Attorney’s Office for the District of New Mexico and Trial Attorney AeJean Cha of the U.S. Department of Justice’s Civil Rights Division.</td>\n",
       "      <td>0.316</td>\n",
       "    </tr>\n",
       "    <tr>\n",
       "      <th>1</th>\n",
       "      <td>13-312</td>\n",
       "      <td>John Hall, 27, an Aryan Brotherhood member and inmate at the Federal Correctional Institution FCI in Seagoville, Texas, was sentenced today by U.S. District Judge Reed O’Connor after pleading guilty to violating the Matthew Shepard and James Byrd Jr. Hate Crimes Prevention Act stemming from his assault of a fellow inmate, whom he believed to be gay, the Department of Justice announced. Hall assaulted his fellow inmate with a dangerous weapon, causing bodily injury to the victim on Dec. 20, 2011. Hall was sentenced to serve 71 months in prison to be served consecutively with the sentence he is currently serving. The assault occurred on Dec. 20, 2011, inside the FCI Seagoville when Hall targeted and attacked the victim, a fellow inmate, because he believed the victim was gay or involved in a sexual relationship with another male inmate. Hall repeatedly punched, kicked and stomped on the victim’s face with his shod feet, a dangerous weapon, while yelling a homophobic slur. The victim lost consciousness during the assault and suffered multiple lacerations to his face. The victim also sustained a fractured eye socket, lost a tooth, fractured other teeth and was treated at a hospital for the injuries he sustained during Hall’s unprovoked attack. Hall pleaded guilty to violating the Matthew Shepard and James Byrd Jr. Hate Crimes Prevention Act on Nov. 8, 2012. “Brutality and violence based on sexual orientation has no place in a civilized society,” said Thomas E. Perez, Assistant Attorney General for the Civil Rights Division. “The Justice Department is committed to using all the tools in our law enforcement arsenal, including the Matthew Shepard and James Byrd Jr. Hate Crimes Prevention Act, to prosecute acts motivated by hate.” “This prosecution sends a clear message that this office, in partnership with attorneys in the department’s Civil Rights Division, will prioritize and aggressively prosecute hate crimes and others civil rights violations in North Texas,” said U.S. Attorney Sarah R. Saldaña of the Northern District of Texas. This case was investigated by the FBI Dallas Division. The case was prosecuted by Assistant U.S. Attorney Errin Martin and Trial Attorney Adriana Vieco of the Civil Rights Division.</td>\n",
       "      <td>0.306</td>\n",
       "    </tr>\n",
       "  </tbody>\n",
       "</table>\n",
       "</div>\n",
       "      <button class=\"colab-df-convert\" onclick=\"convertToInteractive('df-bd8b5212-b477-4e53-b765-ae07f245e225')\"\n",
       "              title=\"Convert this dataframe to an interactive table.\"\n",
       "              style=\"display:none;\">\n",
       "        \n",
       "  <svg xmlns=\"http://www.w3.org/2000/svg\" height=\"24px\"viewBox=\"0 0 24 24\"\n",
       "       width=\"24px\">\n",
       "    <path d=\"M0 0h24v24H0V0z\" fill=\"none\"/>\n",
       "    <path d=\"M18.56 5.44l.94 2.06.94-2.06 2.06-.94-2.06-.94-.94-2.06-.94 2.06-2.06.94zm-11 1L8.5 8.5l.94-2.06 2.06-.94-2.06-.94L8.5 2.5l-.94 2.06-2.06.94zm10 10l.94 2.06.94-2.06 2.06-.94-2.06-.94-.94-2.06-.94 2.06-2.06.94z\"/><path d=\"M17.41 7.96l-1.37-1.37c-.4-.4-.92-.59-1.43-.59-.52 0-1.04.2-1.43.59L10.3 9.45l-7.72 7.72c-.78.78-.78 2.05 0 2.83L4 21.41c.39.39.9.59 1.41.59.51 0 1.02-.2 1.41-.59l7.78-7.78 2.81-2.81c.8-.78.8-2.07 0-2.86zM5.41 20L4 18.59l7.72-7.72 1.47 1.35L5.41 20z\"/>\n",
       "  </svg>\n",
       "      </button>\n",
       "      \n",
       "  <style>\n",
       "    .colab-df-container {\n",
       "      display:flex;\n",
       "      flex-wrap:wrap;\n",
       "      gap: 12px;\n",
       "    }\n",
       "\n",
       "    .colab-df-convert {\n",
       "      background-color: #E8F0FE;\n",
       "      border: none;\n",
       "      border-radius: 50%;\n",
       "      cursor: pointer;\n",
       "      display: none;\n",
       "      fill: #1967D2;\n",
       "      height: 32px;\n",
       "      padding: 0 0 0 0;\n",
       "      width: 32px;\n",
       "    }\n",
       "\n",
       "    .colab-df-convert:hover {\n",
       "      background-color: #E2EBFA;\n",
       "      box-shadow: 0px 1px 2px rgba(60, 64, 67, 0.3), 0px 1px 3px 1px rgba(60, 64, 67, 0.15);\n",
       "      fill: #174EA6;\n",
       "    }\n",
       "\n",
       "    [theme=dark] .colab-df-convert {\n",
       "      background-color: #3B4455;\n",
       "      fill: #D2E3FC;\n",
       "    }\n",
       "\n",
       "    [theme=dark] .colab-df-convert:hover {\n",
       "      background-color: #434B5C;\n",
       "      box-shadow: 0px 1px 3px 1px rgba(0, 0, 0, 0.15);\n",
       "      filter: drop-shadow(0px 1px 2px rgba(0, 0, 0, 0.3));\n",
       "      fill: #FFFFFF;\n",
       "    }\n",
       "  </style>\n",
       "\n",
       "      <script>\n",
       "        const buttonEl =\n",
       "          document.querySelector('#df-bd8b5212-b477-4e53-b765-ae07f245e225 button.colab-df-convert');\n",
       "        buttonEl.style.display =\n",
       "          google.colab.kernel.accessAllowed ? 'block' : 'none';\n",
       "\n",
       "        async function convertToInteractive(key) {\n",
       "          const element = document.querySelector('#df-bd8b5212-b477-4e53-b765-ae07f245e225');\n",
       "          const dataTable =\n",
       "            await google.colab.kernel.invokeFunction('convertToInteractive',\n",
       "                                                     [key], {});\n",
       "          if (!dataTable) return;\n",
       "\n",
       "          const docLinkHtml = 'Like what you see? Visit the ' +\n",
       "            '<a target=\"_blank\" href=https://colab.research.google.com/notebooks/data_table.ipynb>data table notebook</a>'\n",
       "            + ' to learn more about interactive tables.';\n",
       "          element.innerHTML = '';\n",
       "          dataTable['output_type'] = 'display_data';\n",
       "          await google.colab.output.renderOutput(dataTable, element);\n",
       "          const docLink = document.createElement('div');\n",
       "          docLink.innerHTML = docLinkHtml;\n",
       "          element.appendChild(docLink);\n",
       "        }\n",
       "      </script>\n",
       "    </div>\n",
       "  </div>\n",
       "  "
      ],
      "text/plain": [
       "       id  \\\n",
       "0  14-248   \n",
       "1  13-312   \n",
       "\n",
       "                                                                                                                                                                                                                                                                                                                                                                                                                                                                                                                                                                                                                                                                                                                                                                                                                                                                                                                                                                                                                                                                                                                                                                                                                                                                                                                                                                                                                                                                                                                                                                                                                                                                                                                                                                                                                                                                                                                                                                                                                                                                                                                                                                                                                                                                                                                              contents  \\\n",
       "0                                                                                                                                                                                                                                                                                                                                                                                                                                                                                                                                                                                                                                                                                                                                                                                                                                                                                                                                                                                                          The Department of Justice announced that this morning John W. Ng, 58, of Albuquerque, N.M., made his initial appearance in federal court on a criminal complaint charging him with a hate crime offense.  This charge is related to anti-Semitic threats Ng made against a Jewish woman who owns and operates the Nosh Jewish Delicatessen and Bakery in Albuquerque. Ng was arrested by the FBI on March 7, 2014, based on a criminal complaint alleging that he interfered with the victim’s federally protected rights by threatening her and interfering with her business because of her religion.  According to the criminal complaint, between Jan. 22, 2014, and Feb. 8, 2014, Ng allegedly posted threatening anti-Semitic notes on and in the vicinity of the victim’s business. A criminal complaint merely establishes probable cause, and Ng is presumed innocent unless proven guilty.  If convicted on the offense charged in the criminal complaint, Ng faces a maximum statutory penalty of one year in prison. This matter was investigated by the Albuquerque Division of the FBI and is being prosecuted by Assistant U.S. Attorney Mark T. Baker of the U.S. Attorney’s Office for the District of New Mexico and Trial Attorney AeJean Cha of the U.S. Department of Justice’s Civil Rights Division.   \n",
       "1  John Hall, 27, an Aryan Brotherhood member and inmate at the Federal Correctional Institution FCI in Seagoville, Texas, was sentenced today by U.S. District Judge Reed O’Connor after pleading guilty to violating the Matthew Shepard and James Byrd Jr. Hate Crimes Prevention Act stemming from his assault of a fellow inmate, whom he believed to be gay, the Department of Justice announced. Hall assaulted his fellow inmate with a dangerous weapon, causing bodily injury to the victim on Dec. 20, 2011. Hall was sentenced to serve 71 months in prison to be served consecutively with the sentence he is currently serving. The assault occurred on Dec. 20, 2011, inside the FCI Seagoville when Hall targeted and attacked the victim, a fellow inmate, because he believed the victim was gay or involved in a sexual relationship with another male inmate. Hall repeatedly punched, kicked and stomped on the victim’s face with his shod feet, a dangerous weapon, while yelling a homophobic slur. The victim lost consciousness during the assault and suffered multiple lacerations to his face. The victim also sustained a fractured eye socket, lost a tooth, fractured other teeth and was treated at a hospital for the injuries he sustained during Hall’s unprovoked attack. Hall pleaded guilty to violating the Matthew Shepard and James Byrd Jr. Hate Crimes Prevention Act on Nov. 8, 2012. “Brutality and violence based on sexual orientation has no place in a civilized society,” said Thomas E. Perez, Assistant Attorney General for the Civil Rights Division. “The Justice Department is committed to using all the tools in our law enforcement arsenal, including the Matthew Shepard and James Byrd Jr. Hate Crimes Prevention Act, to prosecute acts motivated by hate.” “This prosecution sends a clear message that this office, in partnership with attorneys in the department’s Civil Rights Division, will prioritize and aggressively prosecute hate crimes and others civil rights violations in North Texas,” said U.S. Attorney Sarah R. Saldaña of the Northern District of Texas. This case was investigated by the FBI Dallas Division. The case was prosecuted by Assistant U.S. Attorney Errin Martin and Trial Attorney Adriana Vieco of the Civil Rights Division.   \n",
       "\n",
       "     neg  \n",
       "0  0.316  \n",
       "1  0.306  "
      ]
     },
     "execution_count": 25,
     "metadata": {},
     "output_type": "execute_result"
    }
   ],
   "source": [
    "doj_subset_wscores = pd.concat([doj_subset_wscores, pd.json_normalize(doj_subset_wscores['scores'])], axis=1)\n",
    "doj_subset_wscores = doj_subset_wscores.drop(['scores'], axis=1)\n",
    "doj_subset_wscores = doj_subset_wscores.sort_values(by=['neg'], ascending=False).reset_index(drop=True)\n",
    "doj_subset_wscores[['id', 'contents', 'neg']].head(n=2)"
   ]
  },
  {
   "cell_type": "code",
   "execution_count": 26,
   "metadata": {
    "colab": {
     "base_uri": "https://localhost:8080/"
    },
    "id": "axaIchRd1jb_",
    "outputId": "67121277-45ff-41ac-e59e-763e80b745af"
   },
   "outputs": [
    {
     "data": {
      "text/plain": [
       "Index(['id', 'title', 'contents', 'date', 'topics_clean', 'components_clean',\n",
       "       'neg', 'neu', 'pos', 'compound'],\n",
       "      dtype='object')"
      ]
     },
     "execution_count": 26,
     "metadata": {},
     "output_type": "execute_result"
    }
   ],
   "source": [
    "doj_subset_wscores.columns"
   ]
  },
  {
   "cell_type": "markdown",
   "metadata": {
    "id": "X_B5zqFQquxc"
   },
   "source": [
    "D. With the dataframe from part C, find the mean compound sentiment score for each of the three topics in `topics_clean` using group_by and agg.\n",
    "\n",
    "E. Add a 1 sentence interpretation of why we might see the variation in scores (remember that compound is a standardized summary where -1 is most negative; +1 is most positive)\n"
   ]
  },
  {
   "cell_type": "code",
   "execution_count": 27,
   "metadata": {
    "colab": {
     "base_uri": "https://localhost:8080/"
    },
    "id": "ISlP314Squxc",
    "outputId": "07796762-bac8-4d29-a6d0-2b3c8a975d77"
   },
   "outputs": [
    {
     "data": {
      "text/plain": [
       "topics_clean\n",
       "Civil Rights             -0.098619\n",
       "Hate Crimes              -0.934388\n",
       "Project Safe Childhood   -0.666987\n",
       "Name: compound, dtype: float64"
      ]
     },
     "execution_count": 27,
     "metadata": {},
     "output_type": "execute_result"
    }
   ],
   "source": [
    "## agg and find the mean compound score by topic\n",
    "doj_subset_wscores.groupby(by=['topics_clean']).agg(np.mean)['compound']\n"
   ]
  },
  {
   "cell_type": "code",
   "execution_count": 28,
   "metadata": {
    "id": "NlBa02VOquxj"
   },
   "outputs": [],
   "source": [
    "# YOUR INTERPRETATION HERE\n"
   ]
  },
  {
   "cell_type": "markdown",
   "metadata": {
    "id": "QglnlMqUWjSk"
   },
   "source": [
    "In the result we can found there's a huge difference between these 3 types. \n",
    "Sepecially the super negetive value in the **Hate Crimes**. Out of my suprise, the **Civil Right** category have a nearly neutural outcome. In my hypothesis, the **Project Safe Childhood** should be the least negative one. Afterall, this type this related to children, I thought the wording in contents may try to avoid the negative phrasing.\n"
   ]
  },
  {
   "cell_type": "markdown",
   "metadata": {
    "id": "XU-Zvz7Gquxu"
   },
   "source": [
    "# 2. Topic modeling (25 points)\n",
    "\n",
    "For this question, use the `doj_subset_wscores` data that is restricted to civil rights, hate crimes, and project safe childhood and with the sentiment scores added\n"
   ]
  },
  {
   "cell_type": "markdown",
   "metadata": {
    "id": "xJ-3onWLquy8"
   },
   "source": [
    "## 2.1 Preprocess the data by removing stopwords, punctuation, and non-alpha words (5 points)\n",
    "\n",
    "A. Write a function that:\n",
    "\n",
    "- Takes in a single raw string in the `contents` column from that dataframe\n",
    "- Does the following preprocessing steps:\n",
    "\n",
    "    - Converts the words to lowercase\n",
    "    - Removes stopwords, adding the custom stopwords in the code cell below to the default stopwords list\n",
    "    - Only retains alpha words (so removes digits and punctuation)\n",
    "    - Only retains words 4 characters or longer\n",
    "    - Uses the snowball stemmer from nltk to stem\n",
    "\n",
    "- Returns a joined preprocessed string (so if press release is something like \"The CEO was indicted\" it might return \"ceo indict\" \n",
    "    \n",
    "B. Use `apply` or list comprehension to execute that function and create a new column in the data called `processed_text`. Note: there will be a deduction if your code uses a non-list comprehension for loop that uses append.\n",
    "    \n",
    "C. Print the `id`, `contents`, and `processed_text` columns for the following press releases:\n",
    "\n",
    "id = 16-718 (this case: https://www.seattletimes.com/nation-world/doj-miami-police-reach-settlement-in-civil-rights-case/)\n",
    "\n",
    "id = 16-217 (this case: https://www.wlbt.com/story/32275512/three-mississippi-correctional-officers-indicted-for-inmate-assault-and-cover-up/)\n",
    "    \n",
    "**Resources**:\n",
    "\n",
    "- Here's code examples for the snowball stemmer: https://www.geeksforgeeks.org/snowball-stemmer-nlp/\n",
    "- Here's code with topic modeling steps: \n",
    "https://github.com/rebeccajohnson88/PPOL564_slides_activities/blob/main/activities/fall_22/solutions/09_textasdata_partII_topicmodeling_solution.ipynb"
   ]
  },
  {
   "cell_type": "code",
   "execution_count": 29,
   "metadata": {
    "id": "ONiPUOiWquy9"
   },
   "outputs": [],
   "source": [
    "custom_doj_stopwords = [\"civil\", \"rights\", \"division\", \"department\", \"justice\",\n",
    "                        \"office\", \"attorney\", \"district\", \"case\", \"investigation\", \"assistant\",\n",
    "                       \"trial\", \"assistance\", \"assist\"]"
   ]
  },
  {
   "cell_type": "code",
   "execution_count": 30,
   "metadata": {
    "id": "Wb8o0fhTquy-"
   },
   "outputs": [],
   "source": [
    "## your code defining a text processing function\n",
    "def contents_preprocess(content):\n",
    "    # Converts the words to lowercase\n",
    "    sam_str = str(content).lower()\n",
    "\n",
    "    # Removes stopwords, adding the custom stopwords in the code cell below to the default stopwords list\n",
    "    list_stopwords = stopwords.words(\"english\") + custom_doj_stopwords\n",
    "    str_list = [word for word in word_tokenize(sam_str) if word not in list_stopwords]\n",
    "\n",
    "    stop_pattern = \" | \".join(list_stopwords)\n",
    "    sam_str = re.sub(stop_pattern, \" \", sam_str)\n",
    "\n",
    "    # Only retains alpha words (so removes digits and punctuation)\n",
    "    str_list = [word for word in str_list if word.isalpha()]\n",
    "\n",
    "    # Only retains words 4 characters or longer\n",
    "    str_list = [word for word in str_list if len(word)>3]\n",
    "\n",
    "    # Uses the snowball stemmer from nltk to stem\n",
    "    stemmer = SnowballStemmer('english')\n",
    "    sam_str = \" \".join([stemmer.stem(v) for v in str_list])\n",
    "\n",
    "    return sam_str"
   ]
  },
  {
   "cell_type": "code",
   "execution_count": 31,
   "metadata": {
    "id": "jbUxtROcquy-"
   },
   "outputs": [],
   "source": [
    "## your code executing the function\n",
    "doj_subset_wscores['processed_text'] = doj_subset_wscores.contents.apply(contents_preprocess)"
   ]
  },
  {
   "cell_type": "code",
   "execution_count": 32,
   "metadata": {
    "colab": {
     "base_uri": "https://localhost:8080/"
    },
    "id": "QIJ2LoFy1uOV",
    "outputId": "328c5132-3be9-4520-a16c-c1ee3f1226e5"
   },
   "outputs": [
    {
     "data": {
      "text/plain": [
       "Index(['id', 'title', 'contents', 'date', 'topics_clean', 'components_clean',\n",
       "       'neg', 'neu', 'pos', 'compound', 'processed_text'],\n",
       "      dtype='object')"
      ]
     },
     "execution_count": 32,
     "metadata": {},
     "output_type": "execute_result"
    }
   ],
   "source": [
    "doj_subset_wscores.columns"
   ]
  },
  {
   "cell_type": "code",
   "execution_count": 33,
   "metadata": {
    "colab": {
     "base_uri": "https://localhost:8080/",
     "height": 1000
    },
    "id": "Q93L_uV0quy-",
    "outputId": "2ee5540f-2b80-4380-a531-b392c24c6fea"
   },
   "outputs": [
    {
     "data": {
      "text/html": [
       "\n",
       "  <div id=\"df-bdc2b951-b748-4688-90e9-c0d7cd3bbd99\">\n",
       "    <div class=\"colab-df-container\">\n",
       "      <div>\n",
       "<style scoped>\n",
       "    .dataframe tbody tr th:only-of-type {\n",
       "        vertical-align: middle;\n",
       "    }\n",
       "\n",
       "    .dataframe tbody tr th {\n",
       "        vertical-align: top;\n",
       "    }\n",
       "\n",
       "    .dataframe thead th {\n",
       "        text-align: right;\n",
       "    }\n",
       "</style>\n",
       "<table border=\"1\" class=\"dataframe\">\n",
       "  <thead>\n",
       "    <tr style=\"text-align: right;\">\n",
       "      <th></th>\n",
       "      <th>id</th>\n",
       "      <th>contents</th>\n",
       "      <th>processed_text</th>\n",
       "    </tr>\n",
       "  </thead>\n",
       "  <tbody>\n",
       "    <tr>\n",
       "      <th>2</th>\n",
       "      <td>16-718</td>\n",
       "      <td>In a nine-count indictment unsealed today, two Mississippi correctional officers were charged with beating an inmate and a third was charged with helping to cover it up.  The indictment charged Lawardrick Marsher, 28, and Robert Sturdivant, 47, officers at Mississippi State Penitentiary, in Parchman, Mississippi, with a beating that included kicking, punching and throwing the victim to the ground.  Marsher and Sturdivant were charged with violating the right of K.H., a convicted prisoner, to be free from cruel and unusual punishment.  Sturdivant was also charged with failing to intervene while Marsher was punching and beating K.H.  The indictment alleges that their actions involved the use of a dangerous weapon and resulted in bodily injury to the victim. A third officer, Deonte Pate, 23, was charged along with Marsher and Sturdivant for conspiring to cover up the beating.  The indictment alleges that all three officers submitted false reports and that all three lied to the FBI. If convicted, Marsher and Sturdivant face a maximum sentence of 10 years in prison on the excessive force charges.  Each of the three officers faces up to five years in prison on the conspiracy and false statement charges, and up to 20 years in prison on the false report charges. An indictment is merely an accusation, and the defendants are presumed innocent unless and until proven guilty. This case is being investigated by the FBI’s Jackson Division, with the cooperation of the Mississippi Department of Corrections.  It is being prosecuted by Assistant U.S. Attorney Robert Coleman of the Northern District of Mississippi and Trial Attorney Dana Mulhauser of the Civil Rights Division’s Criminal Section.     Marsher Indictment</td>\n",
       "      <td>indict unseal today mississippi correct offic charg beat inmat third charg help cover indict charg lawardrick marsher robert sturdiv offic mississippi state penitentiari parchman mississippi beat includ kick punch throw victim ground marsher sturdiv charg violat right convict prison free cruel unusu punish sturdiv also charg fail interven marsher punch beat indict alleg action involv danger weapon result bodili injuri victim third offic deont pate charg along marsher sturdiv conspir cover beat indict alleg three offic submit fals report three lie convict marsher sturdiv face maximum sentenc year prison excess forc charg three offic face five year prison conspiraci fals statement charg year prison fals report charg indict mere accus defend presum innoc unless proven guilti investig jackson cooper mississippi correct prosecut robert coleman northern mississippi dana mulhaus crimin section marsher indict</td>\n",
       "    </tr>\n",
       "    <tr>\n",
       "      <th>688</th>\n",
       "      <td>16-217</td>\n",
       "      <td>The Justice Department has reached a comprehensive settlement agreement with the city of Miami and the Miami Police Department MPD resolving the Justice Department’s investigation of officer-involved shootings by MPD officers, announced Principal Deputy Assistant Attorney General Vanita Gupta, head of the Justice Department’s Civil Rights Division and U.S. Attorney Wifredo A. Ferrer of the Southern District of Florida. The settlement, which was approved by Miami’s city commission today and will go into effect when the agreement is signed by all parties, resolves claims stemming from the Justice Department’s investigation into officer-involved shootings by MPD officers, which was conducted under the Violent Crime Control and Law Enforcement Act of 1994.  The investigation’s findings, issued in July 2013, identified a pattern or practice of excessive use of force through officer-involved shootings in violation of the Fourth Amendment of the Constitution.  The city’s compliance with the settlement will be monitored by an independent reviewer, former Tampa, Florida, Police Chief Jane Castor.  Under the settlement agreement, the city will implement comprehensive reforms to ensure constitutional policing and support public trust.  The settlement agreement is designed to minimize officer-involved shootings and to more effectively and quickly investigate officer-involved shootings that do occur, through measures that include: “This settlement represents a renewed commitment by the city of Miami and Chief Rodolfo Llanes to provide constitutional policing for Miami residents and to protect public safety through sustainable reform,” said Principal Deputy Assistant Attorney General Gupta.  “The agreement will help to strengthen the relationship between the MPD and the communities they serve by improving accountability for officers who fire their weapons unlawfully, and provides for community participation in the enforcement of this agreement.”  “Today's agreement is the result of a joint effort between the Department of Justice and the City of Miami to ensure that the Miami Police Department continues its efforts to make our community safe while protecting the sacred Constitutional rights of all of our citizens,” said U.S. Attorney Ferrer.  “Through oversight and communication, the agreement seeks to make permanent the positive changes that former Chief Orosa and Chief Llanes have made, and we applaud the City Commission’s vote.” The settlement agreement builds upon important reforms implemented by the city since the Justice Department issued its findings, including:  The investigation was conducted by attorneys and staff from the Civil Rights Division’s Special Litigation Section and the Civil Division of the U. S. Attorney’s Office of the Southern District of Florida.</td>\n",
       "      <td>reach comprehens settlement agreement citi miami miami polic resolv shoot offic announc princip deputi general vanita gupta head wifredo ferrer southern florida settlement approv miami citi commiss today effect agreement sign parti resolv claim stem shoot offic conduct violent crime control enforc find issu juli identifi pattern practic excess forc shoot violat fourth amend constitut citi complianc settlement monitor independ review former tampa florida polic chief jane castor settlement agreement citi implement comprehens reform ensur constitut polic support public trust settlement agreement design minim shoot effect quick investig shoot occur measur includ settlement repres renew commit citi miami chief rodolfo llane provid constitut polic miami resid protect public safeti sustain reform said princip deputi general gupta agreement help strengthen relationship communiti serv improv account offic fire weapon unlaw provid communiti particip enforc today agreement result joint effort citi miami ensur miami polic continu effort make communiti safe protect sacr constitut citizen said ferrer oversight communic agreement seek make perman posit chang former chief orosa chief llane made applaud citi commiss settlement agreement build upon import reform implement citi sinc issu find includ conduct attorney staff special litig section southern florida</td>\n",
       "    </tr>\n",
       "  </tbody>\n",
       "</table>\n",
       "</div>\n",
       "      <button class=\"colab-df-convert\" onclick=\"convertToInteractive('df-bdc2b951-b748-4688-90e9-c0d7cd3bbd99')\"\n",
       "              title=\"Convert this dataframe to an interactive table.\"\n",
       "              style=\"display:none;\">\n",
       "        \n",
       "  <svg xmlns=\"http://www.w3.org/2000/svg\" height=\"24px\"viewBox=\"0 0 24 24\"\n",
       "       width=\"24px\">\n",
       "    <path d=\"M0 0h24v24H0V0z\" fill=\"none\"/>\n",
       "    <path d=\"M18.56 5.44l.94 2.06.94-2.06 2.06-.94-2.06-.94-.94-2.06-.94 2.06-2.06.94zm-11 1L8.5 8.5l.94-2.06 2.06-.94-2.06-.94L8.5 2.5l-.94 2.06-2.06.94zm10 10l.94 2.06.94-2.06 2.06-.94-2.06-.94-.94-2.06-.94 2.06-2.06.94z\"/><path d=\"M17.41 7.96l-1.37-1.37c-.4-.4-.92-.59-1.43-.59-.52 0-1.04.2-1.43.59L10.3 9.45l-7.72 7.72c-.78.78-.78 2.05 0 2.83L4 21.41c.39.39.9.59 1.41.59.51 0 1.02-.2 1.41-.59l7.78-7.78 2.81-2.81c.8-.78.8-2.07 0-2.86zM5.41 20L4 18.59l7.72-7.72 1.47 1.35L5.41 20z\"/>\n",
       "  </svg>\n",
       "      </button>\n",
       "      \n",
       "  <style>\n",
       "    .colab-df-container {\n",
       "      display:flex;\n",
       "      flex-wrap:wrap;\n",
       "      gap: 12px;\n",
       "    }\n",
       "\n",
       "    .colab-df-convert {\n",
       "      background-color: #E8F0FE;\n",
       "      border: none;\n",
       "      border-radius: 50%;\n",
       "      cursor: pointer;\n",
       "      display: none;\n",
       "      fill: #1967D2;\n",
       "      height: 32px;\n",
       "      padding: 0 0 0 0;\n",
       "      width: 32px;\n",
       "    }\n",
       "\n",
       "    .colab-df-convert:hover {\n",
       "      background-color: #E2EBFA;\n",
       "      box-shadow: 0px 1px 2px rgba(60, 64, 67, 0.3), 0px 1px 3px 1px rgba(60, 64, 67, 0.15);\n",
       "      fill: #174EA6;\n",
       "    }\n",
       "\n",
       "    [theme=dark] .colab-df-convert {\n",
       "      background-color: #3B4455;\n",
       "      fill: #D2E3FC;\n",
       "    }\n",
       "\n",
       "    [theme=dark] .colab-df-convert:hover {\n",
       "      background-color: #434B5C;\n",
       "      box-shadow: 0px 1px 3px 1px rgba(0, 0, 0, 0.15);\n",
       "      filter: drop-shadow(0px 1px 2px rgba(0, 0, 0, 0.3));\n",
       "      fill: #FFFFFF;\n",
       "    }\n",
       "  </style>\n",
       "\n",
       "      <script>\n",
       "        const buttonEl =\n",
       "          document.querySelector('#df-bdc2b951-b748-4688-90e9-c0d7cd3bbd99 button.colab-df-convert');\n",
       "        buttonEl.style.display =\n",
       "          google.colab.kernel.accessAllowed ? 'block' : 'none';\n",
       "\n",
       "        async function convertToInteractive(key) {\n",
       "          const element = document.querySelector('#df-bdc2b951-b748-4688-90e9-c0d7cd3bbd99');\n",
       "          const dataTable =\n",
       "            await google.colab.kernel.invokeFunction('convertToInteractive',\n",
       "                                                     [key], {});\n",
       "          if (!dataTable) return;\n",
       "\n",
       "          const docLinkHtml = 'Like what you see? Visit the ' +\n",
       "            '<a target=\"_blank\" href=https://colab.research.google.com/notebooks/data_table.ipynb>data table notebook</a>'\n",
       "            + ' to learn more about interactive tables.';\n",
       "          element.innerHTML = '';\n",
       "          dataTable['output_type'] = 'display_data';\n",
       "          await google.colab.output.renderOutput(dataTable, element);\n",
       "          const docLink = document.createElement('div');\n",
       "          docLink.innerHTML = docLinkHtml;\n",
       "          element.appendChild(docLink);\n",
       "        }\n",
       "      </script>\n",
       "    </div>\n",
       "  </div>\n",
       "  "
      ],
      "text/plain": [
       "         id  \\\n",
       "2    16-718   \n",
       "688  16-217   \n",
       "\n",
       "                                                                                                                                                                                                                                                                                                                                                                                                                                                                                                                                                                                                                                                                                                                                                                                                                                                                                                                                                                                                                                                                                                                                                                                                                                                                                                                                                                                                                                                                                                                                                                                                                                                                                                                                                                                                                                                                                                                                                                                                                                                                                                                                                                                                                                                                                                                                                                                                                                                                                                                                                                                                                                                                                                                                                                                                                                                                                                                     contents  \\\n",
       "2                                                                                                                                                                                                                                                                                                                                                                                                                                                                                                                                                                                                                                                                                                                                                                                                                                                                                                                                                                                                                                                                                                                            In a nine-count indictment unsealed today, two Mississippi correctional officers were charged with beating an inmate and a third was charged with helping to cover it up.  The indictment charged Lawardrick Marsher, 28, and Robert Sturdivant, 47, officers at Mississippi State Penitentiary, in Parchman, Mississippi, with a beating that included kicking, punching and throwing the victim to the ground.  Marsher and Sturdivant were charged with violating the right of K.H., a convicted prisoner, to be free from cruel and unusual punishment.  Sturdivant was also charged with failing to intervene while Marsher was punching and beating K.H.  The indictment alleges that their actions involved the use of a dangerous weapon and resulted in bodily injury to the victim. A third officer, Deonte Pate, 23, was charged along with Marsher and Sturdivant for conspiring to cover up the beating.  The indictment alleges that all three officers submitted false reports and that all three lied to the FBI. If convicted, Marsher and Sturdivant face a maximum sentence of 10 years in prison on the excessive force charges.  Each of the three officers faces up to five years in prison on the conspiracy and false statement charges, and up to 20 years in prison on the false report charges. An indictment is merely an accusation, and the defendants are presumed innocent unless and until proven guilty. This case is being investigated by the FBI’s Jackson Division, with the cooperation of the Mississippi Department of Corrections.  It is being prosecuted by Assistant U.S. Attorney Robert Coleman of the Northern District of Mississippi and Trial Attorney Dana Mulhauser of the Civil Rights Division’s Criminal Section.     Marsher Indictment   \n",
       "688  The Justice Department has reached a comprehensive settlement agreement with the city of Miami and the Miami Police Department MPD resolving the Justice Department’s investigation of officer-involved shootings by MPD officers, announced Principal Deputy Assistant Attorney General Vanita Gupta, head of the Justice Department’s Civil Rights Division and U.S. Attorney Wifredo A. Ferrer of the Southern District of Florida. The settlement, which was approved by Miami’s city commission today and will go into effect when the agreement is signed by all parties, resolves claims stemming from the Justice Department’s investigation into officer-involved shootings by MPD officers, which was conducted under the Violent Crime Control and Law Enforcement Act of 1994.  The investigation’s findings, issued in July 2013, identified a pattern or practice of excessive use of force through officer-involved shootings in violation of the Fourth Amendment of the Constitution.  The city’s compliance with the settlement will be monitored by an independent reviewer, former Tampa, Florida, Police Chief Jane Castor.  Under the settlement agreement, the city will implement comprehensive reforms to ensure constitutional policing and support public trust.  The settlement agreement is designed to minimize officer-involved shootings and to more effectively and quickly investigate officer-involved shootings that do occur, through measures that include: “This settlement represents a renewed commitment by the city of Miami and Chief Rodolfo Llanes to provide constitutional policing for Miami residents and to protect public safety through sustainable reform,” said Principal Deputy Assistant Attorney General Gupta.  “The agreement will help to strengthen the relationship between the MPD and the communities they serve by improving accountability for officers who fire their weapons unlawfully, and provides for community participation in the enforcement of this agreement.”  “Today's agreement is the result of a joint effort between the Department of Justice and the City of Miami to ensure that the Miami Police Department continues its efforts to make our community safe while protecting the sacred Constitutional rights of all of our citizens,” said U.S. Attorney Ferrer.  “Through oversight and communication, the agreement seeks to make permanent the positive changes that former Chief Orosa and Chief Llanes have made, and we applaud the City Commission’s vote.” The settlement agreement builds upon important reforms implemented by the city since the Justice Department issued its findings, including:  The investigation was conducted by attorneys and staff from the Civil Rights Division’s Special Litigation Section and the Civil Division of the U. S. Attorney’s Office of the Southern District of Florida.   \n",
       "\n",
       "                                                                                                                                                                                                                                                                                                                                                                                                                                                                                                                                                                                                                                                                                                                                                                                                                                                                                                                                                                                                                                                                                                                                                                                                                                                                                                                                                                                                          processed_text  \n",
       "2                                                                                                                                                                                                                                                                                                                                                                                                                                                                     indict unseal today mississippi correct offic charg beat inmat third charg help cover indict charg lawardrick marsher robert sturdiv offic mississippi state penitentiari parchman mississippi beat includ kick punch throw victim ground marsher sturdiv charg violat right convict prison free cruel unusu punish sturdiv also charg fail interven marsher punch beat indict alleg action involv danger weapon result bodili injuri victim third offic deont pate charg along marsher sturdiv conspir cover beat indict alleg three offic submit fals report three lie convict marsher sturdiv face maximum sentenc year prison excess forc charg three offic face five year prison conspiraci fals statement charg year prison fals report charg indict mere accus defend presum innoc unless proven guilti investig jackson cooper mississippi correct prosecut robert coleman northern mississippi dana mulhaus crimin section marsher indict  \n",
       "688  reach comprehens settlement agreement citi miami miami polic resolv shoot offic announc princip deputi general vanita gupta head wifredo ferrer southern florida settlement approv miami citi commiss today effect agreement sign parti resolv claim stem shoot offic conduct violent crime control enforc find issu juli identifi pattern practic excess forc shoot violat fourth amend constitut citi complianc settlement monitor independ review former tampa florida polic chief jane castor settlement agreement citi implement comprehens reform ensur constitut polic support public trust settlement agreement design minim shoot effect quick investig shoot occur measur includ settlement repres renew commit citi miami chief rodolfo llane provid constitut polic miami resid protect public safeti sustain reform said princip deputi general gupta agreement help strengthen relationship communiti serv improv account offic fire weapon unlaw provid communiti particip enforc today agreement result joint effort citi miami ensur miami polic continu effort make communiti safe protect sacr constitut citizen said ferrer oversight communic agreement seek make perman posit chang former chief orosa chief llane made applaud citi commiss settlement agreement build upon import reform implement citi sinc issu find includ conduct attorney staff special litig section southern florida  "
      ]
     },
     "execution_count": 33,
     "metadata": {},
     "output_type": "execute_result"
    }
   ],
   "source": [
    "## your code showing the examples\n",
    "doj_subset_wscores[doj_subset_wscores.id.isin(['16-718', '16-217'])][[ 'id', 'contents', 'processed_text' ]]\n"
   ]
  },
  {
   "cell_type": "markdown",
   "metadata": {
    "id": "gSgn2Aywquy_"
   },
   "source": [
    "## 2.2 Create a document-term matrix from the preprocessed press releases and to explore top words (5 points)\n",
    "\n",
    "A. Use the `create_dtm` function I provide (alternately, feel free to write your own!) and create a document-term matrix using the preprocessed press releases; make sure metadata contains the following columns: `id`, `compound` sentiment column you added, and the `topics_clean` column\n",
    "\n",
    "B. Print the top 10 words for press releases with compound sentiment in the top 5% (so the most positive sentiment)\n",
    "\n",
    "C. Print the top 10 words for press releases with compound sentiment in the bottom 5% (so the most negative sentiment)\n",
    "\n",
    "**Hint**: for these, remember the pandas quantile function from pset two.  \n",
    "\n",
    "D. Print the top 10 words for press releases in each of the three `topics_clean`\n",
    "\n",
    "For steps B - D, to receive full credit, write a function `get_topwords` that helps you avoid duplicated code when you find top words for the different subsets of the data. There are different ways to structure it but one way is to feed it subsetted data (so data subsetted to one topic etc.) and for it to get the top words for that subset.\n",
    "\n",
    "**Resources**:\n",
    "\n",
    "- Here contains an example of applying the create_dtm function: \n",
    "https://github.com/rebeccajohnson88/PPOL564_slides_activities/blob/main/activities/fall_22/solutions/09_textasdata_partII_topicmodeling_solution.ipynb\n"
   ]
  },
  {
   "cell_type": "code",
   "execution_count": 34,
   "metadata": {
    "id": "bJhIcHglquzB"
   },
   "outputs": [],
   "source": [
    "def create_dtm(list_of_strings, metadata):\n",
    "    vectorizer = CountVectorizer(lowercase = True)\n",
    "    dtm_sparse = vectorizer.fit_transform(list_of_strings)\n",
    "    dtm_dense_named = pd.DataFrame(dtm_sparse.todense(), \n",
    "        columns=vectorizer.get_feature_names())\n",
    "    dtm_dense_named_withid = pd.concat([metadata.reset_index(drop=True).add_prefix('metadata_'), dtm_dense_named], axis = 1)\n",
    "    return dtm_dense_named_withid"
   ]
  },
  {
   "cell_type": "code",
   "execution_count": 35,
   "metadata": {
    "colab": {
     "base_uri": "https://localhost:8080/"
    },
    "id": "7wBP414GquzD",
    "outputId": "9353b621-2af8-4cbe-ff4f-00ae663c4279"
   },
   "outputs": [
    {
     "data": {
      "text/plain": [
       "0     -0.9950\n",
       "1     -0.9983\n",
       "2     -0.9964\n",
       "3     -0.9986\n",
       "4     -0.9968\n",
       "        ...  \n",
       "712    0.9854\n",
       "713    0.7003\n",
       "714    0.8519\n",
       "715    0.7717\n",
       "716    0.8481\n",
       "Name: metadata_compound, Length: 717, dtype: float64"
      ]
     },
     "execution_count": 35,
     "metadata": {},
     "output_type": "execute_result"
    }
   ],
   "source": [
    "## your code \n",
    "dtm_doj = create_dtm(list_of_strings = doj_subset_wscores.processed_text, \n",
    "                     metadata=doj_subset_wscores[[ 'id', 'compound', 'topics_clean']])\n",
    "dtm_doj.metadata_compound"
   ]
  },
  {
   "cell_type": "code",
   "execution_count": 36,
   "metadata": {
    "id": "dsvAX_pX8PVQ"
   },
   "outputs": [],
   "source": [
    "def get_topwords(subset, top_n):\n",
    "    top_terms = subset[[col for col in subset.columns\n",
    "                      if \"metadata\" not in col]].sum(axis = 0)\n",
    "\n",
    "    return top_terms.sort_values(ascending = False).head(top_n)\n"
   ]
  },
  {
   "cell_type": "code",
   "execution_count": 37,
   "metadata": {
    "colab": {
     "base_uri": "https://localhost:8080/"
    },
    "id": "3Drl9Zp88RJt",
    "outputId": "cef3f747-bc9f-4cd4-8279-50b18431fac3"
   },
   "outputs": [
    {
     "data": {
      "text/plain": [
       "agreement    171\n",
       "state        119\n",
       "enforc       116\n",
       "ensur        105\n",
       "disabl       102\n",
       "student       86\n",
       "servic        86\n",
       "court         85\n",
       "general       82\n",
       "communiti     81\n",
       "dtype: int64"
      ]
     },
     "execution_count": 37,
     "metadata": {},
     "output_type": "execute_result"
    }
   ],
   "source": [
    "#BPrint the top 10 words for press releases with compound sentiment in the top 5% (so the most positive sentiment)\n",
    "\n",
    "top5per = dtm_doj[ dtm_doj.metadata_compound > dtm_doj.metadata_compound.quantile(0.95)]\n",
    "\n",
    "get_topwords(top5per, 10)"
   ]
  },
  {
   "cell_type": "code",
   "execution_count": 38,
   "metadata": {
    "colab": {
     "base_uri": "https://localhost:8080/"
    },
    "id": "Rw6opRgY8glx",
    "outputId": "82411b04-3785-4bbc-c992-f0bc835e75ee"
   },
   "outputs": [
    {
     "data": {
      "text/plain": [
       "assault     190\n",
       "victim      166\n",
       "crime       166\n",
       "hate        128\n",
       "defend      124\n",
       "offic       111\n",
       "sentenc     104\n",
       "anderson     93\n",
       "guilti       92\n",
       "charg        92\n",
       "dtype: int64"
      ]
     },
     "execution_count": 38,
     "metadata": {},
     "output_type": "execute_result"
    }
   ],
   "source": [
    "# C. Print the top 10 words for press releases with compound sentiment in the bottom 5% (so the most negative sentiment)\n",
    "\n",
    "bottom5per = dtm_doj[ dtm_doj.metadata_compound < dtm_doj.metadata_compound.quantile(0.05)]\n",
    "\n",
    "get_topwords(bottom5per, 10)"
   ]
  },
  {
   "cell_type": "code",
   "execution_count": 39,
   "metadata": {
    "colab": {
     "base_uri": "https://localhost:8080/"
    },
    "id": "2zCMOqxC8pK-",
    "outputId": "f882414a-5a50-4656-94f4-aca9bca768b9"
   },
   "outputs": [
    {
     "name": "stdout",
     "output_type": "stream",
     "text": [
      "Hate Crimes:\n",
      "victim      590\n",
      "crime       533\n",
      "prosecut    476\n",
      "hate        472\n",
      "defend      459\n",
      "sentenc     455\n",
      "charg       452\n",
      "guilti      430\n",
      "feder       426\n",
      "said        424\n",
      "dtype: int64\n",
      "\n",
      "\n",
      "Civil Rights:\n",
      "offic        627\n",
      "hous         620\n",
      "discrimin    541\n",
      "enforc       531\n",
      "disabl       509\n",
      "said         497\n",
      "feder        475\n",
      "violat       470\n",
      "state        443\n",
      "general      408\n",
      "dtype: int64\n",
      "\n",
      "\n",
      "Project Safe Childhood:\n",
      "child          1018\n",
      "exploit         698\n",
      "sexual          570\n",
      "safe            476\n",
      "childhood       472\n",
      "project         472\n",
      "pornographi     447\n",
      "children        416\n",
      "crimin          404\n",
      "prosecut        374\n",
      "dtype: int64\n",
      "\n",
      "\n"
     ]
    }
   ],
   "source": [
    "# D. Print the top 10 words for press releases in each of the three topics_clean\n",
    "topics = list(dtm_doj.metadata_topics_clean.unique())\n",
    "for topic in topics:\n",
    "    subset = dtm_doj[ dtm_doj.metadata_topics_clean == topic]\n",
    "    print(topic + ':')\n",
    "    print(get_topwords(subset, 10))\n",
    "    print('\\n')\n"
   ]
  },
  {
   "cell_type": "markdown",
   "metadata": {
    "id": "i3fkQFnwquzD"
   },
   "source": [
    "## 2.3 Estimate a topic model using those preprocessed words (5 points)\n",
    "\n",
    "A. Going back to the preprocessed words from part 2.1, estimate a topic model with 3 topics, since you want to see if the unsupervised topic models recover different themes for each of the three manually-labeled topics (civil rights; hate crimes; project safe childhood). You have free rein over the other topic model parameters beyond the number of topics.\n",
    "\n",
    "B. After estimating the topic model, print the top 15 words in each topic.\n",
    "\n",
    "**Hints and Resources**:\n",
    "\n",
    "- Same topic modeling resources linked to above\n",
    "- Make sure to use the `random_state` argument within the model so that the numbering of topics does not move around between runs of your code"
   ]
  },
  {
   "cell_type": "code",
   "execution_count": 40,
   "metadata": {
    "id": "Y_dqb9AeS0zm"
   },
   "outputs": [],
   "source": [
    "adoj_lda = doj_subset_wscores[doj_subset_wscores.processed_text != \"\"].copy(deep=True)\n",
    "\n",
    "tokenized_text = [wordpunct_tokenize(one_text) \n",
    "                for one_text in \n",
    "                adoj_lda.processed_text]"
   ]
  },
  {
   "cell_type": "code",
   "execution_count": 41,
   "metadata": {
    "colab": {
     "base_uri": "https://localhost:8080/"
    },
    "id": "J76kmoKlTvqb",
    "outputId": "c7984d5b-7f04-4d51-c194-d6cc43bb0407"
   },
   "outputs": [
    {
     "name": "stderr",
     "output_type": "stream",
     "text": [
      "WARNING:gensim.models.ldamodel:too few updates, training might not converge; consider increasing the number of passes or iterations to improve accuracy\n"
     ]
    },
    {
     "name": "stdout",
     "output_type": "stream",
     "text": [
      "(0, '0.016*\"child\" + 0.011*\"exploit\" + 0.009*\"state\" + 0.008*\"disabl\" + 0.008*\"enforc\" + 0.008*\"children\" + 0.008*\"feder\" + 0.007*\"offic\" + 0.007*\"sexual\" + 0.007*\"general\" + 0.007*\"safe\" + 0.007*\"project\" + 0.007*\"agreement\" + 0.007*\"individu\" + 0.007*\"childhood\"')\n",
      "(1, '0.018*\"sexual\" + 0.017*\"hous\" + 0.013*\"discrimin\" + 0.012*\"alleg\" + 0.012*\"charg\" + 0.011*\"child\" + 0.009*\"victim\" + 0.009*\"feder\" + 0.009*\"indict\" + 0.008*\"defend\" + 0.008*\"complaint\" + 0.007*\"court\" + 0.007*\"fair\" + 0.007*\"crimin\" + 0.007*\"inform\"')\n",
      "(2, '0.013*\"victim\" + 0.012*\"sentenc\" + 0.011*\"prosecut\" + 0.011*\"charg\" + 0.011*\"said\" + 0.011*\"feder\" + 0.010*\"guilti\" + 0.010*\"defend\" + 0.010*\"crime\" + 0.009*\"hate\" + 0.008*\"prison\" + 0.008*\"investig\" + 0.008*\"today\" + 0.008*\"indict\" + 0.008*\"year\"')\n"
     ]
    }
   ],
   "source": [
    "## preprocess and estimate topicmod\n",
    "### create dictionary\n",
    "text_proc_dict = corpora.Dictionary(tokenized_text)\n",
    "### filter dictionary- using 2% as bounds\n",
    "text_proc_dict.filter_extremes(no_below = round(adoj_lda.shape[0]*0.02),\n",
    "                             no_above = round(adoj_lda.shape[0]*0.98))\n",
    "\n",
    "### create corpus from dictionary\n",
    "corpus_fromdict_proc = [text_proc_dict.doc2bow(one_text) \n",
    "                       for one_text in tokenized_text]\n",
    "### estimate model\n",
    "n_topics = 3\n",
    "ldamod_proc = gensim.models.ldamodel.LdaModel(corpus_fromdict_proc, \n",
    "                                         num_topics = n_topics, id2word=text_proc_dict, \n",
    "                                         passes=6, alpha = 'auto',\n",
    "                                        per_word_topics = True, random_state = 1988)\n",
    "\n",
    "### print topics and words\n",
    "topics = ldamod_proc.print_topics(num_words = 15)\n",
    "for topic in topics:\n",
    "    print(topic)"
   ]
  },
  {
   "cell_type": "markdown",
   "metadata": {
    "id": "j_64Sk64quzE"
   },
   "source": [
    "## 2.4 Add topics back to main data and explore correlation between manual labels and our estimated topics (10 points)\n",
    "\n",
    "A. Extract the document-level topic probabilities. Within `get_document_topics`, use the argument `minimum_probability` = 0 to make sure all 3 topic probabilities are returned. Write an assert statement to make sure the length of the list is equal to the number of rows in the `doj_subset_wscores` dataframe\n",
    "\n",
    "B. Add the topic probabilities to the `doj_subset_wscores` dataframe as columns and create a column, `top_topic`, that reflects each document to its highest-probability topic (eg topic 1, 2, or 3)\n",
    "\n",
    "C. For each of the manual labels in `topics_clean` (Hate Crime, Civil Rights, Project Safe Childhood), print the breakdown of the % of documents with each top topic (so, for instance, Hate Crime has 246 documents-- if 123 of those documents are coded to topic_1, that would be 50%; and so on). \n",
    "**Hint**:    \n",
    "pd.crosstab and normalize may be helpful: https://pandas.pydata.org/pandas-docs/version/0.23/generated/pandas.crosstab.html\n",
    "\n",
    "D. Using a couple press releases as examples, write a 1-2 sentence interpretation of why some of the manual topics map on more cleanly to an estimated topic than other manual topic(s)\n",
    "\n",
    "**Resources**:\n",
    "\n",
    "- End of this code (`Additional summaries of topics and documents`) contains example of how to use `get_document_topics` and other steps to add topic probabilities back to data: \n",
    "https://github.com/rebeccajohnson88/PPOL564_slides_activities/blob/main/activities/fall_22/solutions/09_textasdata_partII_topicmodeling_solution.ipynb\n",
    "- If you're getting errors, use shape, len, and other commands to check the dimensionality of things at different steps since documents may be dropped if they contain no words post-processing "
   ]
  },
  {
   "cell_type": "code",
   "execution_count": 42,
   "metadata": {
    "colab": {
     "base_uri": "https://localhost:8080/"
    },
    "id": "Tno6PYiNquzE",
    "outputId": "6bd16189-aefd-4fa2-efcb-457ba513c8ca"
   },
   "outputs": [
    {
     "data": {
      "text/plain": [
       "True"
      ]
     },
     "execution_count": 42,
     "metadata": {},
     "output_type": "execute_result"
    }
   ],
   "source": [
    "## your code here to get doc-level topic probabilities \n",
    "topic_probs_bydoc =[ldamod_proc.get_document_topics(item, minimum_probability = 0 ) for item in corpus_fromdict_proc]\n",
    " \n",
    "len(topic_probs_bydoc) == len(doj_subset_wscores)"
   ]
  },
  {
   "cell_type": "code",
   "execution_count": 43,
   "metadata": {
    "colab": {
     "base_uri": "https://localhost:8080/",
     "height": 175
    },
    "id": "sqsKTgsxquzE",
    "outputId": "02a9830f-1ccf-4714-f524-f99ad3658fe5"
   },
   "outputs": [
    {
     "data": {
      "text/html": [
       "\n",
       "  <div id=\"df-cd103525-4cc4-4063-8cda-5728a7925b4f\">\n",
       "    <div class=\"colab-df-container\">\n",
       "      <div>\n",
       "<style scoped>\n",
       "    .dataframe tbody tr th:only-of-type {\n",
       "        vertical-align: middle;\n",
       "    }\n",
       "\n",
       "    .dataframe tbody tr th {\n",
       "        vertical-align: top;\n",
       "    }\n",
       "\n",
       "    .dataframe thead th {\n",
       "        text-align: right;\n",
       "    }\n",
       "</style>\n",
       "<table border=\"1\" class=\"dataframe\">\n",
       "  <thead>\n",
       "    <tr style=\"text-align: right;\">\n",
       "      <th></th>\n",
       "      <th>compound</th>\n",
       "    </tr>\n",
       "    <tr>\n",
       "      <th>toptopic</th>\n",
       "      <th></th>\n",
       "    </tr>\n",
       "  </thead>\n",
       "  <tbody>\n",
       "    <tr>\n",
       "      <th>topic_0</th>\n",
       "      <td>0.004039</td>\n",
       "    </tr>\n",
       "    <tr>\n",
       "      <th>topic_1</th>\n",
       "      <td>-0.603468</td>\n",
       "    </tr>\n",
       "    <tr>\n",
       "      <th>topic_2</th>\n",
       "      <td>-0.929828</td>\n",
       "    </tr>\n",
       "  </tbody>\n",
       "</table>\n",
       "</div>\n",
       "      <button class=\"colab-df-convert\" onclick=\"convertToInteractive('df-cd103525-4cc4-4063-8cda-5728a7925b4f')\"\n",
       "              title=\"Convert this dataframe to an interactive table.\"\n",
       "              style=\"display:none;\">\n",
       "        \n",
       "  <svg xmlns=\"http://www.w3.org/2000/svg\" height=\"24px\"viewBox=\"0 0 24 24\"\n",
       "       width=\"24px\">\n",
       "    <path d=\"M0 0h24v24H0V0z\" fill=\"none\"/>\n",
       "    <path d=\"M18.56 5.44l.94 2.06.94-2.06 2.06-.94-2.06-.94-.94-2.06-.94 2.06-2.06.94zm-11 1L8.5 8.5l.94-2.06 2.06-.94-2.06-.94L8.5 2.5l-.94 2.06-2.06.94zm10 10l.94 2.06.94-2.06 2.06-.94-2.06-.94-.94-2.06-.94 2.06-2.06.94z\"/><path d=\"M17.41 7.96l-1.37-1.37c-.4-.4-.92-.59-1.43-.59-.52 0-1.04.2-1.43.59L10.3 9.45l-7.72 7.72c-.78.78-.78 2.05 0 2.83L4 21.41c.39.39.9.59 1.41.59.51 0 1.02-.2 1.41-.59l7.78-7.78 2.81-2.81c.8-.78.8-2.07 0-2.86zM5.41 20L4 18.59l7.72-7.72 1.47 1.35L5.41 20z\"/>\n",
       "  </svg>\n",
       "      </button>\n",
       "      \n",
       "  <style>\n",
       "    .colab-df-container {\n",
       "      display:flex;\n",
       "      flex-wrap:wrap;\n",
       "      gap: 12px;\n",
       "    }\n",
       "\n",
       "    .colab-df-convert {\n",
       "      background-color: #E8F0FE;\n",
       "      border: none;\n",
       "      border-radius: 50%;\n",
       "      cursor: pointer;\n",
       "      display: none;\n",
       "      fill: #1967D2;\n",
       "      height: 32px;\n",
       "      padding: 0 0 0 0;\n",
       "      width: 32px;\n",
       "    }\n",
       "\n",
       "    .colab-df-convert:hover {\n",
       "      background-color: #E2EBFA;\n",
       "      box-shadow: 0px 1px 2px rgba(60, 64, 67, 0.3), 0px 1px 3px 1px rgba(60, 64, 67, 0.15);\n",
       "      fill: #174EA6;\n",
       "    }\n",
       "\n",
       "    [theme=dark] .colab-df-convert {\n",
       "      background-color: #3B4455;\n",
       "      fill: #D2E3FC;\n",
       "    }\n",
       "\n",
       "    [theme=dark] .colab-df-convert:hover {\n",
       "      background-color: #434B5C;\n",
       "      box-shadow: 0px 1px 3px 1px rgba(0, 0, 0, 0.15);\n",
       "      filter: drop-shadow(0px 1px 2px rgba(0, 0, 0, 0.3));\n",
       "      fill: #FFFFFF;\n",
       "    }\n",
       "  </style>\n",
       "\n",
       "      <script>\n",
       "        const buttonEl =\n",
       "          document.querySelector('#df-cd103525-4cc4-4063-8cda-5728a7925b4f button.colab-df-convert');\n",
       "        buttonEl.style.display =\n",
       "          google.colab.kernel.accessAllowed ? 'block' : 'none';\n",
       "\n",
       "        async function convertToInteractive(key) {\n",
       "          const element = document.querySelector('#df-cd103525-4cc4-4063-8cda-5728a7925b4f');\n",
       "          const dataTable =\n",
       "            await google.colab.kernel.invokeFunction('convertToInteractive',\n",
       "                                                     [key], {});\n",
       "          if (!dataTable) return;\n",
       "\n",
       "          const docLinkHtml = 'Like what you see? Visit the ' +\n",
       "            '<a target=\"_blank\" href=https://colab.research.google.com/notebooks/data_table.ipynb>data table notebook</a>'\n",
       "            + ' to learn more about interactive tables.';\n",
       "          element.innerHTML = '';\n",
       "          dataTable['output_type'] = 'display_data';\n",
       "          await google.colab.output.renderOutput(dataTable, element);\n",
       "          const docLink = document.createElement('div');\n",
       "          docLink.innerHTML = docLinkHtml;\n",
       "          element.appendChild(docLink);\n",
       "        }\n",
       "      </script>\n",
       "    </div>\n",
       "  </div>\n",
       "  "
      ],
      "text/plain": [
       "          compound\n",
       "toptopic          \n",
       "topic_0   0.004039\n",
       "topic_1  -0.603468\n",
       "topic_2  -0.929828"
      ]
     },
     "execution_count": 43,
     "metadata": {},
     "output_type": "execute_result"
    }
   ],
   "source": [
    "## your code here to add those topic probabilities to the dataframe\n",
    "one_list_tup = topic_probs_bydoc[0]\n",
    "\n",
    "## create a long for dataframe by flattening the list\n",
    "topic_probs_bydoc_long = pd.DataFrame([t for lst in topic_probs_bydoc for t in lst],\n",
    "                                     columns = ['topic', 'probability'])\n",
    "\n",
    "## add id var- we're repeating each id in the original data k times\n",
    "## for the number of topics\n",
    "topic_probs_bydoc_long['doc_id'] = list(np.concatenate([[one_id] * \n",
    "                                    n_topics for one_id in doj_subset_wscores.id]).flat)\n",
    "\n",
    "## pivot to wide format\n",
    "topic_probs_bydoc_wide = pd.pivot_table(topic_probs_bydoc_long, index = ['doc_id'],\n",
    "                        columns = ['topic']).reset_index().reset_index(drop = True)\n",
    "topic_probs_bydoc_wide.columns = ['doc_id'] + [\"topic_\" + str(i) for i in np.arange(0, n_topics)]\n",
    "\n",
    "## merge with original data using doc id\n",
    "topic_wmeta = pd.merge(topic_probs_bydoc_wide,\n",
    "                      doj_subset_wscores,\n",
    "                      left_on = 'doc_id',\n",
    "                      right_on = 'id')\n",
    "\n",
    "## create indicator for listing's top topic\n",
    "topic_wmeta['toptopic'] = topic_wmeta[[col for col in topic_wmeta.columns if \n",
    "                                    \"topic_\" in col]].idxmax(axis=1)\n",
    "\n",
    "topic_wmeta.groupby('toptopic').agg({'compound': np.mean})\n"
   ]
  },
  {
   "cell_type": "code",
   "execution_count": 44,
   "metadata": {
    "colab": {
     "base_uri": "https://localhost:8080/"
    },
    "id": "683Ba5IUZcg-",
    "outputId": "3aae383b-093a-4cfa-87b8-5e02c1585243"
   },
   "outputs": [
    {
     "data": {
      "text/plain": [
       "Index(['doc_id', 'topic_0', 'topic_1', 'topic_2', 'id', 'title', 'contents',\n",
       "       'date', 'topics_clean', 'components_clean', 'neg', 'neu', 'pos',\n",
       "       'compound', 'processed_text', 'toptopic'],\n",
       "      dtype='object')"
      ]
     },
     "execution_count": 44,
     "metadata": {},
     "output_type": "execute_result"
    }
   ],
   "source": [
    "topic_wmeta.columns"
   ]
  },
  {
   "cell_type": "code",
   "execution_count": 45,
   "metadata": {
    "colab": {
     "base_uri": "https://localhost:8080/",
     "height": 175
    },
    "id": "5wrssmIPquzE",
    "outputId": "642c5aa3-1121-4237-9a54-0dbd75a81534"
   },
   "outputs": [
    {
     "data": {
      "text/html": [
       "\n",
       "  <div id=\"df-9f16ac35-98a6-42d2-95f2-fb70ec088cdf\">\n",
       "    <div class=\"colab-df-container\">\n",
       "      <div>\n",
       "<style scoped>\n",
       "    .dataframe tbody tr th:only-of-type {\n",
       "        vertical-align: middle;\n",
       "    }\n",
       "\n",
       "    .dataframe tbody tr th {\n",
       "        vertical-align: top;\n",
       "    }\n",
       "\n",
       "    .dataframe thead th {\n",
       "        text-align: right;\n",
       "    }\n",
       "</style>\n",
       "<table border=\"1\" class=\"dataframe\">\n",
       "  <thead>\n",
       "    <tr style=\"text-align: right;\">\n",
       "      <th>toptopic</th>\n",
       "      <th>topic_0</th>\n",
       "      <th>topic_1</th>\n",
       "      <th>topic_2</th>\n",
       "    </tr>\n",
       "    <tr>\n",
       "      <th>topics_clean</th>\n",
       "      <th></th>\n",
       "      <th></th>\n",
       "      <th></th>\n",
       "    </tr>\n",
       "  </thead>\n",
       "  <tbody>\n",
       "    <tr>\n",
       "      <th>Civil Rights</th>\n",
       "      <td>0.538206</td>\n",
       "      <td>0.13289</td>\n",
       "      <td>0.328904</td>\n",
       "    </tr>\n",
       "    <tr>\n",
       "      <th>Hate Crimes</th>\n",
       "      <td>0.000000</td>\n",
       "      <td>0.00813</td>\n",
       "      <td>0.991870</td>\n",
       "    </tr>\n",
       "    <tr>\n",
       "      <th>Project Safe Childhood</th>\n",
       "      <td>0.812500</td>\n",
       "      <td>0.18750</td>\n",
       "      <td>0.000000</td>\n",
       "    </tr>\n",
       "  </tbody>\n",
       "</table>\n",
       "</div>\n",
       "      <button class=\"colab-df-convert\" onclick=\"convertToInteractive('df-9f16ac35-98a6-42d2-95f2-fb70ec088cdf')\"\n",
       "              title=\"Convert this dataframe to an interactive table.\"\n",
       "              style=\"display:none;\">\n",
       "        \n",
       "  <svg xmlns=\"http://www.w3.org/2000/svg\" height=\"24px\"viewBox=\"0 0 24 24\"\n",
       "       width=\"24px\">\n",
       "    <path d=\"M0 0h24v24H0V0z\" fill=\"none\"/>\n",
       "    <path d=\"M18.56 5.44l.94 2.06.94-2.06 2.06-.94-2.06-.94-.94-2.06-.94 2.06-2.06.94zm-11 1L8.5 8.5l.94-2.06 2.06-.94-2.06-.94L8.5 2.5l-.94 2.06-2.06.94zm10 10l.94 2.06.94-2.06 2.06-.94-2.06-.94-.94-2.06-.94 2.06-2.06.94z\"/><path d=\"M17.41 7.96l-1.37-1.37c-.4-.4-.92-.59-1.43-.59-.52 0-1.04.2-1.43.59L10.3 9.45l-7.72 7.72c-.78.78-.78 2.05 0 2.83L4 21.41c.39.39.9.59 1.41.59.51 0 1.02-.2 1.41-.59l7.78-7.78 2.81-2.81c.8-.78.8-2.07 0-2.86zM5.41 20L4 18.59l7.72-7.72 1.47 1.35L5.41 20z\"/>\n",
       "  </svg>\n",
       "      </button>\n",
       "      \n",
       "  <style>\n",
       "    .colab-df-container {\n",
       "      display:flex;\n",
       "      flex-wrap:wrap;\n",
       "      gap: 12px;\n",
       "    }\n",
       "\n",
       "    .colab-df-convert {\n",
       "      background-color: #E8F0FE;\n",
       "      border: none;\n",
       "      border-radius: 50%;\n",
       "      cursor: pointer;\n",
       "      display: none;\n",
       "      fill: #1967D2;\n",
       "      height: 32px;\n",
       "      padding: 0 0 0 0;\n",
       "      width: 32px;\n",
       "    }\n",
       "\n",
       "    .colab-df-convert:hover {\n",
       "      background-color: #E2EBFA;\n",
       "      box-shadow: 0px 1px 2px rgba(60, 64, 67, 0.3), 0px 1px 3px 1px rgba(60, 64, 67, 0.15);\n",
       "      fill: #174EA6;\n",
       "    }\n",
       "\n",
       "    [theme=dark] .colab-df-convert {\n",
       "      background-color: #3B4455;\n",
       "      fill: #D2E3FC;\n",
       "    }\n",
       "\n",
       "    [theme=dark] .colab-df-convert:hover {\n",
       "      background-color: #434B5C;\n",
       "      box-shadow: 0px 1px 3px 1px rgba(0, 0, 0, 0.15);\n",
       "      filter: drop-shadow(0px 1px 2px rgba(0, 0, 0, 0.3));\n",
       "      fill: #FFFFFF;\n",
       "    }\n",
       "  </style>\n",
       "\n",
       "      <script>\n",
       "        const buttonEl =\n",
       "          document.querySelector('#df-9f16ac35-98a6-42d2-95f2-fb70ec088cdf button.colab-df-convert');\n",
       "        buttonEl.style.display =\n",
       "          google.colab.kernel.accessAllowed ? 'block' : 'none';\n",
       "\n",
       "        async function convertToInteractive(key) {\n",
       "          const element = document.querySelector('#df-9f16ac35-98a6-42d2-95f2-fb70ec088cdf');\n",
       "          const dataTable =\n",
       "            await google.colab.kernel.invokeFunction('convertToInteractive',\n",
       "                                                     [key], {});\n",
       "          if (!dataTable) return;\n",
       "\n",
       "          const docLinkHtml = 'Like what you see? Visit the ' +\n",
       "            '<a target=\"_blank\" href=https://colab.research.google.com/notebooks/data_table.ipynb>data table notebook</a>'\n",
       "            + ' to learn more about interactive tables.';\n",
       "          element.innerHTML = '';\n",
       "          dataTable['output_type'] = 'display_data';\n",
       "          await google.colab.output.renderOutput(dataTable, element);\n",
       "          const docLink = document.createElement('div');\n",
       "          docLink.innerHTML = docLinkHtml;\n",
       "          element.appendChild(docLink);\n",
       "        }\n",
       "      </script>\n",
       "    </div>\n",
       "  </div>\n",
       "  "
      ],
      "text/plain": [
       "toptopic                 topic_0  topic_1   topic_2\n",
       "topics_clean                                       \n",
       "Civil Rights            0.538206  0.13289  0.328904\n",
       "Hate Crimes             0.000000  0.00813  0.991870\n",
       "Project Safe Childhood  0.812500  0.18750  0.000000"
      ]
     },
     "execution_count": 45,
     "metadata": {},
     "output_type": "execute_result"
    }
   ],
   "source": [
    "## your code here to summarize the topic proportions for each of the topics_clean \n",
    "# print the breakdown of the % of documents with each top topic (so, for instance, Hate Crime has 246 documents-- if 123 of those documents are coded to topic_1, that would be 50%; and so on)\n",
    "\n",
    "pd.crosstab(topic_wmeta.topics_clean, topic_wmeta.toptopic, normalize='index')"
   ]
  },
  {
   "cell_type": "markdown",
   "metadata": {
    "id": "zMH5wmP6quzR"
   },
   "source": [
    "# 3. Extend the analysis from unigrams to bigrams (9 points)\n",
    "\n",
    "In the previous question, you found top words via a unigram representation of the text. Now, we want to see how those top words change with bigrams (pairs of words)\n",
    "\n",
    "A. Using the `doj_subset_wscores` data and the `processed_text` column (so the words after stemming/other preprocessing), create a column in the data called `processed_text_bigrams` that combines each consecutive pairs of word into a bigram separated by an underscore. Eg:\n",
    "\n",
    "\"depart reach settlem\" would become \"depart_reach reach_settlem\"\n",
    "\n",
    "Do this by writing a function `create_bigram_onedoc` that takes in a single `processed_text` string and returns a string with its bigrams structured similarly to above example\n",
    " \n",
    "**Hint**: there are many ways to solve but `zip` may be helpful: https://stackoverflow.com/questions/21303224/iterate-over-all-pairs-of-consecutive-items-in-a-list\n",
    "\n",
    "B. Print the `id`, `processed_text`, and `processed_text_bigram` columns for press release with id = 16-217"
   ]
  },
  {
   "cell_type": "code",
   "execution_count": 46,
   "metadata": {
    "colab": {
     "base_uri": "https://localhost:8080/"
    },
    "id": "RREiCc6OqKmG",
    "outputId": "6811c8ea-6067-4e28-e3a9-e664a2ade8a6"
   },
   "outputs": [
    {
     "data": {
      "text/plain": [
       "Index(['id', 'title', 'contents', 'date', 'topics_clean', 'components_clean',\n",
       "       'neg', 'neu', 'pos', 'compound', 'processed_text'],\n",
       "      dtype='object')"
      ]
     },
     "execution_count": 46,
     "metadata": {},
     "output_type": "execute_result"
    }
   ],
   "source": [
    "doj_subset_wscores.columns"
   ]
  },
  {
   "cell_type": "code",
   "execution_count": 47,
   "metadata": {
    "colab": {
     "base_uri": "https://localhost:8080/",
     "height": 680
    },
    "id": "6i1n9C2CquzS",
    "outputId": "771e9e21-6eca-4e07-dec2-b096fa338f6b"
   },
   "outputs": [
    {
     "data": {
      "text/html": [
       "\n",
       "  <div id=\"df-b069b5d1-14c6-495c-9b1a-17d14e93b188\">\n",
       "    <div class=\"colab-df-container\">\n",
       "      <div>\n",
       "<style scoped>\n",
       "    .dataframe tbody tr th:only-of-type {\n",
       "        vertical-align: middle;\n",
       "    }\n",
       "\n",
       "    .dataframe tbody tr th {\n",
       "        vertical-align: top;\n",
       "    }\n",
       "\n",
       "    .dataframe thead th {\n",
       "        text-align: right;\n",
       "    }\n",
       "</style>\n",
       "<table border=\"1\" class=\"dataframe\">\n",
       "  <thead>\n",
       "    <tr style=\"text-align: right;\">\n",
       "      <th></th>\n",
       "      <th>id</th>\n",
       "      <th>processed_text</th>\n",
       "      <th>processed_text_bigrams</th>\n",
       "    </tr>\n",
       "  </thead>\n",
       "  <tbody>\n",
       "    <tr>\n",
       "      <th>688</th>\n",
       "      <td>16-217</td>\n",
       "      <td>reach comprehens settlement agreement citi miami miami polic resolv shoot offic announc princip deputi general vanita gupta head wifredo ferrer southern florida settlement approv miami citi commiss today effect agreement sign parti resolv claim stem shoot offic conduct violent crime control enforc find issu juli identifi pattern practic excess forc shoot violat fourth amend constitut citi complianc settlement monitor independ review former tampa florida polic chief jane castor settlement agreement citi implement comprehens reform ensur constitut polic support public trust settlement agreement design minim shoot effect quick investig shoot occur measur includ settlement repres renew commit citi miami chief rodolfo llane provid constitut polic miami resid protect public safeti sustain reform said princip deputi general gupta agreement help strengthen relationship communiti serv improv account offic fire weapon unlaw provid communiti particip enforc today agreement result joint effort citi miami ensur miami polic continu effort make communiti safe protect sacr constitut citizen said ferrer oversight communic agreement seek make perman posit chang former chief orosa chief llane made applaud citi commiss settlement agreement build upon import reform implement citi sinc issu find includ conduct attorney staff special litig section southern florida</td>\n",
       "      <td>reach_comprehens comprehens_settlement settlement_agreement agreement_citi citi_miami miami_miami miami_polic polic_resolv resolv_shoot shoot_offic offic_announc announc_princip princip_deputi deputi_general general_vanita vanita_gupta gupta_head head_wifredo wifredo_ferrer ferrer_southern southern_florida florida_settlement settlement_approv approv_miami miami_citi citi_commiss commiss_today today_effect effect_agreement agreement_sign sign_parti parti_resolv resolv_claim claim_stem stem_shoot shoot_offic offic_conduct conduct_violent violent_crime crime_control control_enforc enforc_find find_issu issu_juli juli_identifi identifi_pattern pattern_practic practic_excess excess_forc forc_shoot shoot_violat violat_fourth fourth_amend amend_constitut constitut_citi citi_complianc complianc_settlement settlement_monitor monitor_independ independ_review review_former former_tampa tampa_florida florida_polic polic_chief chief_jane jane_castor castor_settlement settlement_agreement agreement_citi citi_implement implement_comprehens comprehens_reform reform_ensur ensur_constitut constitut_polic polic_support support_public public_trust trust_settlement settlement_agreement agreement_design design_minim minim_shoot shoot_effect effect_quick quick_investig investig_shoot shoot_occur occur_measur measur_includ includ_settlement settlement_repres repres_renew renew_commit commit_citi citi_miami miami_chief chief_rodolfo rodolfo_llane llane_provid provid_constitut constitut_polic polic_miami miami_resid resid_protect protect_public public_safeti safeti_sustain sustain_reform reform_said said_princip princip_deputi deputi_general general_gupta gupta_agreement agreement_help help_strengthen strengthen_relationship relationship_communiti communiti_serv serv_improv improv_account account_offic offic_fire fire_weapon weapon_unlaw unlaw_provid provid_communiti communiti_particip particip_enforc enforc_today today_agreement agreement_result result_joint joint_effort effort_citi citi_miami miami_ensur ensur_miami miami_polic polic_continu continu_effort effort_make make_communiti communiti_safe safe_protect protect_sacr sacr_constitut constitut_citizen citizen_said said_ferrer ferrer_oversight oversight_communic communic_agreement agreement_seek seek_make make_perman perman_posit posit_chang chang_former former_chief chief_orosa orosa_chief chief_llane llane_made made_applaud applaud_citi citi_commiss commiss_settlement settlement_agreement agreement_build build_upon upon_import import_reform reform_implement implement_citi citi_sinc sinc_issu issu_find find_includ includ_conduct conduct_attorney attorney_staff staff_special special_litig litig_section section_southern southern_florida</td>\n",
       "    </tr>\n",
       "  </tbody>\n",
       "</table>\n",
       "</div>\n",
       "      <button class=\"colab-df-convert\" onclick=\"convertToInteractive('df-b069b5d1-14c6-495c-9b1a-17d14e93b188')\"\n",
       "              title=\"Convert this dataframe to an interactive table.\"\n",
       "              style=\"display:none;\">\n",
       "        \n",
       "  <svg xmlns=\"http://www.w3.org/2000/svg\" height=\"24px\"viewBox=\"0 0 24 24\"\n",
       "       width=\"24px\">\n",
       "    <path d=\"M0 0h24v24H0V0z\" fill=\"none\"/>\n",
       "    <path d=\"M18.56 5.44l.94 2.06.94-2.06 2.06-.94-2.06-.94-.94-2.06-.94 2.06-2.06.94zm-11 1L8.5 8.5l.94-2.06 2.06-.94-2.06-.94L8.5 2.5l-.94 2.06-2.06.94zm10 10l.94 2.06.94-2.06 2.06-.94-2.06-.94-.94-2.06-.94 2.06-2.06.94z\"/><path d=\"M17.41 7.96l-1.37-1.37c-.4-.4-.92-.59-1.43-.59-.52 0-1.04.2-1.43.59L10.3 9.45l-7.72 7.72c-.78.78-.78 2.05 0 2.83L4 21.41c.39.39.9.59 1.41.59.51 0 1.02-.2 1.41-.59l7.78-7.78 2.81-2.81c.8-.78.8-2.07 0-2.86zM5.41 20L4 18.59l7.72-7.72 1.47 1.35L5.41 20z\"/>\n",
       "  </svg>\n",
       "      </button>\n",
       "      \n",
       "  <style>\n",
       "    .colab-df-container {\n",
       "      display:flex;\n",
       "      flex-wrap:wrap;\n",
       "      gap: 12px;\n",
       "    }\n",
       "\n",
       "    .colab-df-convert {\n",
       "      background-color: #E8F0FE;\n",
       "      border: none;\n",
       "      border-radius: 50%;\n",
       "      cursor: pointer;\n",
       "      display: none;\n",
       "      fill: #1967D2;\n",
       "      height: 32px;\n",
       "      padding: 0 0 0 0;\n",
       "      width: 32px;\n",
       "    }\n",
       "\n",
       "    .colab-df-convert:hover {\n",
       "      background-color: #E2EBFA;\n",
       "      box-shadow: 0px 1px 2px rgba(60, 64, 67, 0.3), 0px 1px 3px 1px rgba(60, 64, 67, 0.15);\n",
       "      fill: #174EA6;\n",
       "    }\n",
       "\n",
       "    [theme=dark] .colab-df-convert {\n",
       "      background-color: #3B4455;\n",
       "      fill: #D2E3FC;\n",
       "    }\n",
       "\n",
       "    [theme=dark] .colab-df-convert:hover {\n",
       "      background-color: #434B5C;\n",
       "      box-shadow: 0px 1px 3px 1px rgba(0, 0, 0, 0.15);\n",
       "      filter: drop-shadow(0px 1px 2px rgba(0, 0, 0, 0.3));\n",
       "      fill: #FFFFFF;\n",
       "    }\n",
       "  </style>\n",
       "\n",
       "      <script>\n",
       "        const buttonEl =\n",
       "          document.querySelector('#df-b069b5d1-14c6-495c-9b1a-17d14e93b188 button.colab-df-convert');\n",
       "        buttonEl.style.display =\n",
       "          google.colab.kernel.accessAllowed ? 'block' : 'none';\n",
       "\n",
       "        async function convertToInteractive(key) {\n",
       "          const element = document.querySelector('#df-b069b5d1-14c6-495c-9b1a-17d14e93b188');\n",
       "          const dataTable =\n",
       "            await google.colab.kernel.invokeFunction('convertToInteractive',\n",
       "                                                     [key], {});\n",
       "          if (!dataTable) return;\n",
       "\n",
       "          const docLinkHtml = 'Like what you see? Visit the ' +\n",
       "            '<a target=\"_blank\" href=https://colab.research.google.com/notebooks/data_table.ipynb>data table notebook</a>'\n",
       "            + ' to learn more about interactive tables.';\n",
       "          element.innerHTML = '';\n",
       "          dataTable['output_type'] = 'display_data';\n",
       "          await google.colab.output.renderOutput(dataTable, element);\n",
       "          const docLink = document.createElement('div');\n",
       "          docLink.innerHTML = docLinkHtml;\n",
       "          element.appendChild(docLink);\n",
       "        }\n",
       "      </script>\n",
       "    </div>\n",
       "  </div>\n",
       "  "
      ],
      "text/plain": [
       "         id  \\\n",
       "688  16-217   \n",
       "\n",
       "                                                                                                                                                                                                                                                                                                                                                                                                                                                                                                                                                                                                                                                                                                                                                                                                                                                                                                                                                                                                                                                                                                                                                                                                                                                                                                                                                                                                          processed_text  \\\n",
       "688  reach comprehens settlement agreement citi miami miami polic resolv shoot offic announc princip deputi general vanita gupta head wifredo ferrer southern florida settlement approv miami citi commiss today effect agreement sign parti resolv claim stem shoot offic conduct violent crime control enforc find issu juli identifi pattern practic excess forc shoot violat fourth amend constitut citi complianc settlement monitor independ review former tampa florida polic chief jane castor settlement agreement citi implement comprehens reform ensur constitut polic support public trust settlement agreement design minim shoot effect quick investig shoot occur measur includ settlement repres renew commit citi miami chief rodolfo llane provid constitut polic miami resid protect public safeti sustain reform said princip deputi general gupta agreement help strengthen relationship communiti serv improv account offic fire weapon unlaw provid communiti particip enforc today agreement result joint effort citi miami ensur miami polic continu effort make communiti safe protect sacr constitut citizen said ferrer oversight communic agreement seek make perman posit chang former chief orosa chief llane made applaud citi commiss settlement agreement build upon import reform implement citi sinc issu find includ conduct attorney staff special litig section southern florida   \n",
       "\n",
       "                                                                                                                                                                                                                                                                                                                                                                                                                                                                                                                                                                                                                                                                                                                                                                                                                                                                                                                                                                                                                                                                                                                                                                                                                                                                                                                                                                                                                                                                                                                                                                                                                                                                                                                                                                                                                                                                                                                                                                                                                                                                                                                                                                                                                                                                                                                                                                                                                                                                                                                                                                                                                                                                                                                                                                                                        processed_text_bigrams  \n",
       "688  reach_comprehens comprehens_settlement settlement_agreement agreement_citi citi_miami miami_miami miami_polic polic_resolv resolv_shoot shoot_offic offic_announc announc_princip princip_deputi deputi_general general_vanita vanita_gupta gupta_head head_wifredo wifredo_ferrer ferrer_southern southern_florida florida_settlement settlement_approv approv_miami miami_citi citi_commiss commiss_today today_effect effect_agreement agreement_sign sign_parti parti_resolv resolv_claim claim_stem stem_shoot shoot_offic offic_conduct conduct_violent violent_crime crime_control control_enforc enforc_find find_issu issu_juli juli_identifi identifi_pattern pattern_practic practic_excess excess_forc forc_shoot shoot_violat violat_fourth fourth_amend amend_constitut constitut_citi citi_complianc complianc_settlement settlement_monitor monitor_independ independ_review review_former former_tampa tampa_florida florida_polic polic_chief chief_jane jane_castor castor_settlement settlement_agreement agreement_citi citi_implement implement_comprehens comprehens_reform reform_ensur ensur_constitut constitut_polic polic_support support_public public_trust trust_settlement settlement_agreement agreement_design design_minim minim_shoot shoot_effect effect_quick quick_investig investig_shoot shoot_occur occur_measur measur_includ includ_settlement settlement_repres repres_renew renew_commit commit_citi citi_miami miami_chief chief_rodolfo rodolfo_llane llane_provid provid_constitut constitut_polic polic_miami miami_resid resid_protect protect_public public_safeti safeti_sustain sustain_reform reform_said said_princip princip_deputi deputi_general general_gupta gupta_agreement agreement_help help_strengthen strengthen_relationship relationship_communiti communiti_serv serv_improv improv_account account_offic offic_fire fire_weapon weapon_unlaw unlaw_provid provid_communiti communiti_particip particip_enforc enforc_today today_agreement agreement_result result_joint joint_effort effort_citi citi_miami miami_ensur ensur_miami miami_polic polic_continu continu_effort effort_make make_communiti communiti_safe safe_protect protect_sacr sacr_constitut constitut_citizen citizen_said said_ferrer ferrer_oversight oversight_communic communic_agreement agreement_seek seek_make make_perman perman_posit posit_chang chang_former former_chief chief_orosa orosa_chief chief_llane llane_made made_applaud applaud_citi citi_commiss commiss_settlement settlement_agreement agreement_build build_upon upon_import import_reform reform_implement implement_citi citi_sinc sinc_issu issu_find find_includ includ_conduct conduct_attorney attorney_staff staff_special special_litig litig_section section_southern southern_florida  "
      ]
     },
     "execution_count": 47,
     "metadata": {},
     "output_type": "execute_result"
    }
   ],
   "source": [
    "## your code here \n",
    "def create_bigram_onedoc(text): \n",
    "    t_list = text.split(\" \")\n",
    "    return \" \".join([a+'_'+b for a, b in zip(t_list, t_list[1:])])\n",
    "\n",
    "# create_bigram_onedoc(doj_subset_wscores.processed_text[1])\n",
    "doj_subset_wscores[\"processed_text_bigrams\"] = doj_subset_wscores.processed_text.apply(create_bigram_onedoc)\n",
    "#B\n",
    "doj_subset_wscores[doj_subset_wscores.id == \"16-217\"][[\"id\", \"processed_text\", \"processed_text_bigrams\"]]"
   ]
  },
  {
   "cell_type": "markdown",
   "metadata": {
    "id": "EX5N2HUVquzc"
   },
   "source": [
    "C. Use the create_dtm function and the `processed_text_bigrams` column to create a document-term matrix (`dtm_bigram`) with these bigrams. Keep the following three columns in the data: `id`, `topics_clean`, and `compound` \n",
    "\n",
    "D. Print the \n",
    " (1) dimensions of the `dtm` matrix from question 2.2  and \n",
    " (2) the dimensions of the `dtm_bigram` matrix. Comment on why the bigram matrix has more dimensions than the unigram matrix "
   ]
  },
  {
   "cell_type": "markdown",
   "metadata": {
    "id": "rZfH8pwUquzd"
   },
   "source": [
    "E. Find and print the 10 most prevelant bigrams for each of the three topics_clean using the `get_topwords` function from 2.2\n"
   ]
  },
  {
   "cell_type": "code",
   "execution_count": 48,
   "metadata": {
    "colab": {
     "base_uri": "https://localhost:8080/"
    },
    "id": "q6blgmOwquzd",
    "outputId": "f312f1b8-8ff1-45b7-c193-28b89419d8a2"
   },
   "outputs": [
    {
     "name": "stdout",
     "output_type": "stream",
     "text": [
      "dimension of dtm_doj: (717, 6758)\n",
      "\n",
      "dimension of dtm_bigram: (717, 71331)\n"
     ]
    }
   ],
   "source": [
    "## your code here\n",
    "dtm_bigram = create_dtm(list_of_strings = doj_subset_wscores.processed_text_bigrams, \n",
    "                     metadata=doj_subset_wscores[[ 'id','topics_clean', 'compound' ]])\n",
    "print(\"dimension of dtm_doj:\", dtm_doj.shape)\n",
    "print(\"\\ndimension of dtm_bigram:\", dtm_bigram.shape)"
   ]
  },
  {
   "cell_type": "code",
   "execution_count": 49,
   "metadata": {
    "colab": {
     "base_uri": "https://localhost:8080/"
    },
    "id": "cvrBLNX_twst",
    "outputId": "c0e3a031-35ca-4ca9-fcc5-101ba9a0dac0"
   },
   "outputs": [
    {
     "data": {
      "text/plain": [
       "plead_guilti         551\n",
       "safe_childhood       472\n",
       "project_safe         472\n",
       "child_pornographi    446\n",
       "hate_crime           378\n",
       "year_prison          315\n",
       "unit_state           289\n",
       "child_exploit        280\n",
       "fair_hous            253\n",
       "special_agent        241\n",
       "dtype: int64"
      ]
     },
     "execution_count": 49,
     "metadata": {},
     "output_type": "execute_result"
    }
   ],
   "source": [
    "get_topwords(dtm_bigram, 10)"
   ]
  },
  {
   "cell_type": "markdown",
   "metadata": {
    "id": "WlbKfN_uquzd"
   },
   "source": [
    "# 4. Optional extra credit 1 (1 point)\n",
    "\n",
    "You notice that the pharmaceutical kickbacks press release we analyzed in question 1 was for an indictment, and that in the original data, there's not a clear label for whether a press release outlines an indictment (charging someone with a crime), a conviction (convicting them after that charge either via a settlement or trial), or a sentencing (how many years of prison or supervised release a defendant is sentenced to after their conviction).\n",
    "\n",
    "You want to see if you can identify pairs of press releases where one press release is from one stage (e.g., indictment) and another is from a different stage (e.g., a sentencing).\n",
    "\n",
    "You decide that one way to approach is to find the pairwise string similarity between each of the processed press releases in `doj_subset`. There are many ways to do this, so Google for some approaches, focusing on ones that work well for entire documents rather than small strings.\n",
    "\n",
    "Find the top two pairs (so four press releases total)-- do they seem like different stages of the same crime or just press releases covering similar crimes?"
   ]
  },
  {
   "cell_type": "code",
   "execution_count": 50,
   "metadata": {
    "id": "S2IKNe_9EGEQ"
   },
   "outputs": [],
   "source": [
    "from sklearn.metrics.pairwise import cosine_similarity\n",
    "from sklearn.feature_extraction.text import CountVectorizer"
   ]
  },
  {
   "cell_type": "code",
   "execution_count": 51,
   "metadata": {
    "colab": {
     "base_uri": "https://localhost:8080/"
    },
    "id": "xjHJhMD3HFGr",
    "outputId": "6b7216c6-26c7-4e02-c4cb-e36f39e566b2"
   },
   "outputs": [
    {
     "data": {
      "text/plain": [
       "id\n",
       "14-248      14-429\n",
       "13-312     12-1334\n",
       "16-718     16-1346\n",
       "11-626      11-648\n",
       "11-1531    11-1683\n",
       "            ...   \n",
       "16-539      16-379\n",
       "15-667     15-1386\n",
       "16-294      16-471\n",
       "16-471      16-294\n",
       "15-1559     17-057\n",
       "Length: 717, dtype: object"
      ]
     },
     "execution_count": 51,
     "metadata": {},
     "output_type": "execute_result"
    }
   ],
   "source": [
    "doj_similarity = doj_subset_wscores[[ 'id', 'processed_text', 'topics_clean']]\n",
    "\n",
    "vectorizer = CountVectorizer()\n",
    "X = vectorizer.fit_transform(doj_similarity.processed_text)\n",
    "arr = X.toarray()\n",
    "sim = cosine_similarity(arr)\n",
    "sim = np.round(sim, 5)\n",
    "sim[sim >= 1] = -1\n",
    "\n",
    "sim_matrix = pd.DataFrame(sim, columns =doj_subset_wscores.id, index = doj_subset_wscores.id) \n",
    "sim_matrix.idxmax()"
   ]
  },
  {
   "cell_type": "code",
   "execution_count": 52,
   "metadata": {
    "colab": {
     "base_uri": "https://localhost:8080/"
    },
    "id": "gKRABINcO4cK",
    "outputId": "1155d68d-1296-4f91-a453-22db333167db"
   },
   "outputs": [
    {
     "data": {
      "text/plain": [
       "id\n",
       "17-546     0.98046\n",
       "17-231     0.98046\n",
       "18-705     0.97681\n",
       "17-1089    0.97681\n",
       "17-260     0.97298\n",
       "dtype: float64"
      ]
     },
     "execution_count": 52,
     "metadata": {},
     "output_type": "execute_result"
    }
   ],
   "source": [
    "sim_matrix.max().sort_values(ascending=False)[:5]"
   ]
  },
  {
   "cell_type": "code",
   "execution_count": 53,
   "metadata": {
    "colab": {
     "base_uri": "https://localhost:8080/"
    },
    "id": "54GtGnUCSg05",
    "outputId": "a5b130ff-4d2f-4714-ef6e-30ab474441a2"
   },
   "outputs": [
    {
     "data": {
      "text/plain": [
       "179    A man who solicited sexually explicit photos and videos from a minor and distributed them on the Internet was sentenced to 200 months in prison followed by 10 years of supervised release after pleading guilty to coercion and enticement of a minor to engage in sexual activity.     Acting Assistant Attorney General John P. Cronan of the Justice Department’s Criminal Division and U.S. Attorney David C. Weiss of the District of Delaware made the announcement after sentencing by U.S. District Judge Leonard P. Stark of the District of Delaware.   Justin R. Gulisano aka Emma Alexander Gulisano, 26, of Newark, New York, was charged on March 10, 2016, and pleaded guilty on Sept. 28, 2017.    According to admissions made in connection with the plea agreement, Gulisano met the victim online when the victim was 15 years old. Gulisano began requesting and received sexually explicit images and videos from the victim. Gulisano posted the sexually explicit videos of the victim on a pornography website where they were downloaded, posted, and reposted by other viewers to additional pornographic websites.  Eventually, the victim refused to make and send additional images and videos.  Mr. Gulisano responded by threatening the victim on more than one occasion.  He threatened to post the victim’s images and videos on the Internet again, he threatened to share the images and videos with the victim’s brother, and he threatened the victim’s life.   U.S. Immigration and Customs Enforcement’s Homeland Security Investigations and the Delaware Child Predator Task Force investigated the case.   Trial Attorney Lauren Britsch of the Criminal Division’s Child Exploitation and Obscenity Section CEOS and Assistant U.S. Attorney Graham L. Robinson of the District of Delaware prosecuted the case.   This case was brought as part of Project Safe Childhood, a nationwide initiative to combat the growing epidemic of child sexual exploitation and abuse launched in May 2006 by the Department of Justice. Led by U.S. Attorneys’ Offices and CEOS, Project Safe Childhood marshals federal, state and local resources to better locate, apprehend and prosecute individuals who exploit children via the Internet, as well as to identify and rescue victims. For more information about Project Safe Childhood, please visit www.justice.gov/psc.\n",
       "Name: contents, dtype: object"
      ]
     },
     "execution_count": 53,
     "metadata": {},
     "output_type": "execute_result"
    }
   ],
   "source": [
    "doj_subset_wscores[doj_subset_wscores.id == '18-705'].contents"
   ]
  },
  {
   "cell_type": "code",
   "execution_count": 54,
   "metadata": {
    "colab": {
     "base_uri": "https://localhost:8080/"
    },
    "id": "fs8YBf2tQjwn",
    "outputId": "9f919058-93fa-4a8a-9633-03dc6db012e4"
   },
   "outputs": [
    {
     "data": {
      "text/plain": [
       "533    A Church Hill, Maryland, resident was sentenced today to 20 years in prison to be followed by a lifetime term of supervised release for enticement of a minor to engage in sexual activity and attempting to transfer obscene materials to a minor, announced Acting Assistant Attorney General Kenneth A. Blanco of the Justice Department’s Criminal Division and Acting U.S. Attorney Benjamin G. Greenberg of the Southern District of Florida.    Lee Robert Moore, 38, pleaded guilty March 1, 2017, before U.S. District Judge Daniel T. K. Hurley of the Southern District of Florida. Moore was employed by the U.S. Secret Service-Uniformed Division and was assigned to the White House at the time of his arrest on Nov. 9, 2015, and has remained in custody since that time. Moore has since been terminated from his Secret Service position.   According to admissions made in connection with his plea, Moore maintained a profile on the social media application “Meet24,” which provides a mobile-based platform for exchanging digital images, as well as voice and text messages. Delaware State Police Detectives with the Delaware Child Predator Task Force created a profile on this site, posing as a 14-year-old girl, with whom Moore engaged in a number of online chat sessions, via the “Meet24” and “Kik” mobile apps over a two-month period, including while Moore was at work. A number of the online chats between Moore and the undercover officers posing as a female minor were sexual in nature and, on several occasions, Moore sent pictures of himself, including one sexually explicit image.    According to the plea documents, after his arrest, law enforcement discovered that Moore had communicated with a minor in Florida. Moore admitted that in those communications, he sent sexually explicit images of himself and enticed the minor to send sexually explicit photos of herself as well. Moore engaged in the same type of behavior with a 14-year-old girl in Texas and another 17-year-old girl in Missouri. Moore requested that his federal charges in Delaware be transferred to the Southern District of Florida so that he could plead guilty to both charges at one time.   U.S. Immigration and Customs Enforcement’s Homeland Security Investigations and the Delaware Child Predator Task Force investigated the case. Trial Attorney Austin M. Berry of the Criminal Division’s Child Exploitation and Obscenity Section CEOS and Assistant U.S. Attorney Corey Steinberg of the Southern District of Florida prosecuted the case, with assistance from the U.S. Attorney’s Office for the District of Delaware.    This case was brought as part of Project Safe Childhood, a nationwide initiative to combat the growing epidemic of child sexual exploitation and abuse, launched in May 2006 by the Department of Justice. Led by U.S. Attorneys’ Offices and CEOS, Project Safe Childhood marshals federal, state and local resources to better locate, apprehend and prosecute individuals who exploit children via the Internet, as well as to identify and rescue victims. For more information about Project Safe Childhood, please visit http://www.justice.gov/psc.\n",
       "556                                                                                                                                A Church Hill, Maryland resident pleaded guilty today in federal court to one count of enticement of a minor to engage in sexual activity and one count of attempting to transfer obscene materials to a minor, announced Acting Assistant Attorney General Kenneth A. Blanco of the Justice Department’s Criminal Division and U.S. Attorney Wifredo A. Ferrer of the Southern District of Florida.   Lee Robert Moore, 38, pleaded guilty today before U.S. District Judge Daniel T. K. Hurley of the Southern District of Florida.  Moore was employed by the U.S. Secret Service-Uniformed Division and was assigned to the White House at the time of his arrest on Nov. 9, 2015, and has remained in custody since that time.  Moore has since been terminated from his Secret Service position.   According to admissions made in connection with his plea, Moore maintained a profile on the social media application “Meet24,” which provides a mobile-based platform for exchanging digital images, as well as voice and text messages.  Delaware State Police Detectives with the Delaware Child Predator Task Force created a profile on this site, posing as a 14-year-old girl, with whom Moore engaged in a number of online chat sessions, via the “Meet24” and “Kik” mobile apps over a two-month period, including while Moore was at work.  A number of the online chats between Moore and the undercover officers posing as a female minor were sexual in nature and, on several occasions, Moore sent pictures of himself, including one sexually explicit image.   According to the plea documents, after his arrest, law enforcement discovered that Moore had communicated with a minor in Florida.  Moore admitted that in those communications, he sent sexually explicit images of himself and enticed the minor to send sexually explicit photos of herself as well.  Moore engaged in the same type of behavior with a 14-year-old girl in Texas and another 17-year-old girl in Missouri.  Moore requested that his federal charges in Delaware be transferred to the Southern District of Florida so that he could plead guilty to both charges at one time. U.S. Immigration and Customs Enforcement’s Homeland Security Investigations and the Delaware Child Predator Task Force investigated the case.  Trial Attorney Austin M. Berry of the Criminal Division’s Child Exploitation and Obscenity Section CEOS and Assistant U.S. Attorney Corey Steinberg of the Southern District of Florida are prosecuting the case.   This case was brought as part of Project Safe Childhood, a nationwide initiative to combat the growing epidemic of child sexual exploitation and abuse, launched in May 2006 by the Department of Justice.  Led by U.S. Attorneys’ Offices and CEOS, Project Safe Childhood marshals federal, state and local resources to better locate, apprehend and prosecute individuals who exploit children via the Internet, as well as to identify and rescue victims.  For more information about Project Safe Childhood, please visit http://www.justice.gov/psc.\n",
       "Name: contents, dtype: object"
      ]
     },
     "execution_count": 54,
     "metadata": {},
     "output_type": "execute_result"
    }
   ],
   "source": [
    "doj_subset_wscores[doj_subset_wscores.id.isin(['17-546', '17-231'])].contents"
   ]
  },
  {
   "cell_type": "code",
   "execution_count": 55,
   "metadata": {
    "colab": {
     "base_uri": "https://localhost:8080/"
    },
    "id": "CbuYKEm5SOlL",
    "outputId": "c7e4c1f7-5c83-467e-92f5-ee4bcbfa6aee"
   },
   "outputs": [
    {
     "name": "stdout",
     "output_type": "stream",
     "text": [
      "179    A man who solicited sexually explicit photos and videos from a minor and distributed them on the Internet was sentenced to 200 months in prison followed by 10 years of supervised release after pleading guilty to coercion and enticement of a minor to engage in sexual activity.     Acting Assistant Attorney General John P. Cronan of the Justice Department’s Criminal Division and U.S. Attorney David C. Weiss of the District of Delaware made the announcement after sentencing by U.S. District Judge Leonard P. Stark of the District of Delaware.   Justin R. Gulisano aka Emma Alexander Gulisano, 26, of Newark, New York, was charged on March 10, 2016, and pleaded guilty on Sept. 28, 2017.    According to admissions made in connection with the plea agreement, Gulisano met the victim online when the victim was 15 years old. Gulisano began requesting and received sexually explicit images and videos from the victim. Gulisano posted the sexually explicit videos of the victim on a pornography website where they were downloaded, posted, and reposted by other viewers to additional pornographic websites.  Eventually, the victim refused to make and send additional images and videos.  Mr. Gulisano responded by threatening the victim on more than one occasion.  He threatened to post the victim’s images and videos on the Internet again, he threatened to share the images and videos with the victim’s brother, and he threatened the victim’s life.   U.S. Immigration and Customs Enforcement’s Homeland Security Investigations and the Delaware Child Predator Task Force investigated the case.   Trial Attorney Lauren Britsch of the Criminal Division’s Child Exploitation and Obscenity Section CEOS and Assistant U.S. Attorney Graham L. Robinson of the District of Delaware prosecuted the case.   This case was brought as part of Project Safe Childhood, a nationwide initiative to combat the growing epidemic of child sexual exploitation and abuse launched in May 2006 by the Department of Justice. Led by U.S. Attorneys’ Offices and CEOS, Project Safe Childhood marshals federal, state and local resources to better locate, apprehend and prosecute individuals who exploit children via the Internet, as well as to identify and rescue victims. For more information about Project Safe Childhood, please visit www.justice.gov/psc.\n",
      "Name: contents, dtype: object\n",
      "188    A 25-year-old man who coerced sexually explicit photos and videos from a minor and distributed them on the Internet pleaded guilty on Oct. 2, to coercion and enticement of a minor to engage in sexual activity.    Acting Assistant Attorney General Kenneth A. Blanco of the Justice Department’s Criminal Division and Acting U.S. Attorney David C. Weiss of the District of Delaware made the announcement. Justin R. Gulisano of Newark, New York, was charged on March 10, 2016, and pleaded guilty before U.S. District Judge Leonard P. Stark of the District of Delaware.   According to admissions made in connection with the plea agreement, Gulisano met the victim online when the victim was 15 years old.  Gulisano began requesting and received sexually explicit images and videos from the victim.  Gulisano posted the sexually explicit videos of the victim on a pornography website where they were downloaded, posted, and reposted by other viewers to additional pornographic websites.  When the victim refused to make and send additional images and videos, Gulisano responded by threatening the victim on more than one occasion.  He threatened to post the victim’s images and videos on the Internet again, he threatened to share the images and videos with the victim’s brother, and he threatened the victim’s life.  U.S. Immigration and Customs Enforcement’s Homeland Security Investigations and the Delaware Child Predator Task Force investigated the case. Trial Attorney Lauren Britsch of the Criminal Division’s Child Exploitation and Obscenity Section CEOS and Assistant U.S. Attorney Graham Robinson of the District of Delaware prosecuted the case.   This case was brought as part of Project Safe Childhood, a nationwide initiative to combat the growing epidemic of child sexual exploitation and abuse launched in May 2006 by the Department of Justice. Led by U.S. Attorneys’ Offices and CEOS, Project Safe Childhood marshals federal, state and local resources to better locate, apprehend and prosecute individuals who exploit children via the Internet, as well as to identify and rescue victims. For more information about Project Safe Childhood, please visit www.justice.gov/psc.\n",
      "Name: contents, dtype: object\n"
     ]
    }
   ],
   "source": [
    "print(doj_subset_wscores[doj_subset_wscores.id == '18-705'].contents)\n",
    "print(doj_subset_wscores[doj_subset_wscores.id == '17-1089'].contents)\n"
   ]
  },
  {
   "cell_type": "markdown",
   "metadata": {
    "id": "iFPjBebaS-v7"
   },
   "source": [
    "I think both of the top matched pair are both belong to different phases of the same crime"
   ]
  },
  {
   "cell_type": "markdown",
   "metadata": {
    "id": "VtTVfaqvquzp"
   },
   "source": [
    "# 5. Optional extra credit 2 (3 points)\n",
    "\n",
    "Review the scraping code here: https://github.com/jbencina/dojreleases/blob/master/scraper.py\n",
    "    \n",
    "Write code to scrape press releases from more recent years from the DOJ website than the years available in the combined.json and produce a visualization of how top words or themes in the press releases changed across the Trump administration (2016-December 2020) versus Biden administration (January 2021 onwards)- you can do this in a .py file that you submit separately and just read in the data produced by that scraping"
   ]
  },
  {
   "cell_type": "code",
   "execution_count": 140,
   "metadata": {
    "id": "y-2c2sh2quzq"
   },
   "outputs": [],
   "source": [
    "## your code here\n",
    "#visual\n",
    "# !pip install pyLDAvis\n",
    "# import pyLDAvis.gensim as gensimvis\n",
    "import pyLDAvis.gensim_models as gensimvis \n",
    "import pyLDAvis\n",
    "import json\n"
   ]
  },
  {
   "cell_type": "code",
   "execution_count": null,
   "metadata": {
    "id": "IoRIDGlij0k3"
   },
   "outputs": [],
   "source": [
    "with open(\"/content/drive/MyDrive/DS_I/final.json\") as fp:\n",
    "    json_data = json.loads(''.join(line.strip() for line in fp))\n",
    "\n",
    "# recent_doj = pd.read_json('final.json')\n",
    "recent_doj = pd.read_json(json_data)"
   ]
  },
  {
   "cell_type": "code",
   "execution_count": 133,
   "metadata": {
    "colab": {
     "base_uri": "https://localhost:8080/"
    },
    "id": "hQh3C2sfhFmR",
    "outputId": "10354c48-57f6-4db3-eb50-4cd08c7fd2d7"
   },
   "outputs": [
    {
     "data": {
      "text/plain": [
       "0    2022-11-07\n",
       "1    2022-11-07\n",
       "2    2022-11-07\n",
       "Name: clean_date, dtype: object"
      ]
     },
     "execution_count": 133,
     "metadata": {},
     "output_type": "execute_result"
    }
   ],
   "source": [
    "recent_doj[\"clean_date\"] = recent_doj.DATE.str.split('T').str.get(0)\n",
    "recent_doj[\"clean_date\"] = pd.to_datetime(recent_doj.clean_date, format='%Y-%m-%d').dt.date\n",
    "recent_doj[\"clean_date\"].head(3)"
   ]
  },
  {
   "cell_type": "code",
   "execution_count": 137,
   "metadata": {
    "id": "sfHH_unUNQYD"
   },
   "outputs": [],
   "source": [
    "# recent_doj.DATE = recent_doj.DATE.dt.date\n",
    "# trump_doj = recent_doj.copy()\n",
    "trump_doj = recent_doj[(recent_doj.clean_date >= datetime.date(2016,1,1)) & (recent_doj.clean_date <=datetime.date(2020,12,31))]  \n",
    "biden_doj = recent_doj[recent_doj.clean_date >= datetime.date(2021,1,1)]  "
   ]
  },
  {
   "cell_type": "code",
   "execution_count": 138,
   "metadata": {
    "colab": {
     "base_uri": "https://localhost:8080/"
    },
    "id": "1PXynRhniNfK",
    "outputId": "e1cc043f-5e31-4a54-aaeb-fa87ff1b4005"
   },
   "outputs": [
    {
     "name": "stdout",
     "output_type": "stream",
     "text": [
      "6959 2532\n"
     ]
    }
   ],
   "source": [
    "print(len(trump_doj), len(biden_doj))"
   ]
  },
  {
   "cell_type": "code",
   "execution_count": 139,
   "metadata": {
    "id": "pm-M595JQZbE"
   },
   "outputs": [],
   "source": [
    "trump_doj['processed_text'] = trump_doj.CONTENT.apply(contents_preprocess)\n",
    "biden_doj['processed_text'] = biden_doj.CONTENT.apply(contents_preprocess)\n"
   ]
  },
  {
   "cell_type": "code",
   "execution_count": 150,
   "metadata": {
    "id": "Otvk5JeyjQD7"
   },
   "outputs": [],
   "source": [
    "def visualize_topic_model(tokenized_text,lda, n_topic=5):\n",
    "    ## preprocess and estimate topicmod\n",
    "    ### create dictionary\n",
    "    text_proc_dict = corpora.Dictionary(tokenized_text)\n",
    "    ### filter dictionary- using 2% as bounds\n",
    "    text_proc_dict.filter_extremes(no_below = round(lda.shape[0]*0.02),\n",
    "                                no_above = round(lda.shape[0]*0.98))\n",
    "\n",
    "    ### create corpus from dictionary\n",
    "    corpus_fromdict_proc = [text_proc_dict.doc2bow(one_text) \n",
    "                        for one_text in tokenized_text]\n",
    "    ### estimate model\n",
    "    n_topics = 5\n",
    "    ldamod_proc = gensim.models.ldamodel.LdaModel(corpus_fromdict_proc, \n",
    "                                            num_topics = n_topics, id2word=text_proc_dict, \n",
    "                                            passes=6, alpha = 'auto',\n",
    "                                            per_word_topics = True, random_state = 199082)\n",
    "\n",
    "    ### print topics and words\n",
    "    topics = ldamod_proc.print_topics(num_words = 15)\n",
    "    for topic in topics:\n",
    "        print(topic)\n",
    "    return ldamod_proc, corpus_fromdict_proc, text_proc_dict\n",
    "\n"
   ]
  },
  {
   "cell_type": "markdown",
   "metadata": {
    "id": "6iNc-BxXjE7e"
   },
   "source": [
    "## topic mode of **Trump**"
   ]
  },
  {
   "cell_type": "code",
   "execution_count": 153,
   "metadata": {
    "id": "rg1dQX3OUSJr"
   },
   "outputs": [],
   "source": [
    "trump_lda = trump_doj[trump_doj.processed_text != \"\"].copy()\n",
    "\n",
    "trump_tokenized_text = [wordpunct_tokenize(one_text) \n",
    "                for one_text in \n",
    "               trump_lda.processed_text]"
   ]
  },
  {
   "cell_type": "code",
   "execution_count": null,
   "metadata": {
    "id": "W-97WUnUU-6R"
   },
   "outputs": [],
   "source": [
    "trump_ldamod, trump_corpus_fromdic, trump_text_dict = visualize_topic_model(trump_tokenized_text,trump_lda, n_topic=5)"
   ]
  },
  {
   "cell_type": "code",
   "execution_count": 156,
   "metadata": {
    "colab": {
     "base_uri": "https://localhost:8080/",
     "height": 881
    },
    "id": "-iQSaOuOlXJj",
    "outputId": "511c9d27-ef2e-4cb2-b87c-db2eaabd81ca"
   },
   "outputs": [
    {
     "data": {
      "text/html": [
       "\n",
       "<link rel=\"stylesheet\" type=\"text/css\" href=\"https://cdn.jsdelivr.net/gh/bmabey/pyLDAvis@3.3.1/pyLDAvis/js/ldavis.v1.0.0.css\">\n",
       "\n",
       "\n",
       "<div id=\"ldavis_el731402978415132969758451422\"></div>\n",
       "<script type=\"text/javascript\">\n",
       "\n",
       "var ldavis_el731402978415132969758451422_data = {\"mdsDat\": {\"x\": [0.13672939850055874, 0.07309223751064285, 0.04203615806551663, -0.033117293422407344, -0.21874050065431092], \"y\": [0.10908586309177501, -0.10719165893051119, 0.04186657807476073, -0.09919304830072212, 0.05543226606469761], \"topics\": [1, 2, 3, 4, 5], \"cluster\": [1, 1, 1, 1, 1], \"Freq\": [23.751944573023888, 22.07679538300819, 22.071487694620746, 20.27155368122263, 11.828218668124538]}, \"tinfo\": {\"Term\": [\"sentenc\", \"fraud\", \"prison\", \"distribut\", \"return\", \"possess\", \"drug\", \"health\", \"month\", \"imprison\", \"victim\", \"medicar\", \"year\", \"cocain\", \"fals\", \"releas\", \"grant\", \"supervis\", \"offens\", \"crime\", \"intent\", \"care\", \"incom\", \"traffick\", \"polic\", \"charg\", \"firearm\", \"conspiraci\", \"scheme\", \"settlement\", \"decre\", \"reform\", \"discrimin\", \"environment\", \"propos\", \"environ\", \"comment\", \"worker\", \"water\", \"polici\", \"food\", \"clean\", \"implement\", \"equal\", \"religi\", \"adequ\", \"discharg\", \"student\", \"consent\", \"disabl\", \"religion\", \"fish\", \"standard\", \"review\", \"fair\", \"guidanc\", \"compli\", \"hous\", \"impair\", \"principl\", \"remedi\", \"hire\", \"opportun\", \"citizenship\", \"requir\", \"complianc\", \"must\", \"ensur\", \"settlement\", \"competit\", \"school\", \"protect\", \"practic\", \"consum\", \"product\", \"effect\", \"employ\", \"law\", \"violat\", \"communiti\", \"complaint\", \"agreement\", \"public\", \"court\", \"said\", \"state\", \"general\", \"work\", \"enforc\", \"today\", \"feder\", \"includ\", \"also\", \"nation\", \"provid\", \"unit\", \"inform\", \"alleg\", \"servic\", \"program\", \"file\", \"compani\", \"medicar\", \"medicaid\", \"kickback\", \"bribe\", \"physician\", \"briberi\", \"whistleblow\", \"patient\", \"healthcar\", \"beneficiari\", \"insur\", \"clinic\", \"loan\", \"mortgag\", \"caption\", \"doctor\", \"investor\", \"pharmaci\", \"inspector\", \"contract\", \"care\", \"medic\", \"incept\", \"dcis\", \"submiss\", \"bill\", \"strike\", \"induc\", \"fraud\", \"health\", \"corrupt\", \"payment\", \"scheme\", \"billion\", \"financi\", \"million\", \"claim\", \"compani\", \"paid\", \"bank\", \"launder\", \"crimin\", \"servic\", \"charg\", \"alleg\", \"fals\", \"program\", \"govern\", \"provid\", \"general\", \"fraudul\", \"investig\", \"admit\", \"account\", \"guilti\", \"unit\", \"section\", \"state\", \"today\", \"said\", \"childhood\", \"pornographi\", \"ceo\", \"obscen\", \"dirti\", \"alphabet\", \"export\", \"rig\", \"cyber\", \"smuggl\", \"child\", \"tribal\", \"chines\", \"china\", \"rescu\", \"exploit\", \"extradit\", \"internet\", \"counterintellig\", \"apprehend\", \"imag\", \"intellig\", \"transnat\", \"minor\", \"alien\", \"comput\", \"digit\", \"launch\", \"border\", \"scam\", \"sexual\", \"victim\", \"homeland\", \"network\", \"children\", \"safe\", \"crime\", \"secur\", \"custom\", \"nation\", \"project\", \"task\", \"combat\", \"state\", \"unit\", \"crimin\", \"enforc\", \"local\", \"partner\", \"identifi\", \"feder\", \"investig\", \"inform\", \"prosecut\", \"intern\", \"said\", \"work\", \"includ\", \"general\", \"today\", \"charg\", \"defend\", \"oper\", \"servic\", \"individu\", \"announc\", \"effort\", \"also\", \"ciraolo\", \"carolin\", \"goldberg\", \"isi\", \"zuckerman\", \"refund\", \"tax\", \"syria\", \"incom\", \"iraq\", \"withheld\", \"evas\", \"nomine\", \"theft\", \"aggrav\", \"counterterror\", \"check\", \"statutori\", \"ident\", \"return\", \"gross\", \"deduct\", \"terrorist\", \"stolen\", \"islam\", \"maximum\", \"stuart\", \"airport\", \"revenu\", \"sit\", \"prepar\", \"attack\", \"client\", \"name\", \"face\", \"materi\", \"restitut\", \"file\", \"fals\", \"indict\", \"account\", \"busi\", \"act\", \"prison\", \"count\", \"sentenc\", \"accord\", \"year\", \"agent\", \"person\", \"guilti\", \"charg\", \"inform\", \"court\", \"general\", \"also\", \"special\", \"prosecut\", \"alleg\", \"deputi\", \"addit\", \"use\", \"intern\", \"state\", \"feder\", \"provid\", \"servic\", \"cocain\", \"gang\", \"racket\", \"shot\", \"hate\", \"possess\", \"tobacco\", \"firearm\", \"murder\", \"alcohol\", \"imprison\", \"assault\", \"shoot\", \"distribut\", \"sheriff\", \"inmat\", \"intent\", \"offens\", \"grant\", \"life\", \"narcot\", \"substanc\", \"residenti\", \"quantiti\", \"drug\", \"interst\", \"wit\", \"month\", \"death\", \"traffick\", \"decemb\", \"supervis\", \"releas\", \"sentenc\", \"prison\", \"polic\", \"counti\", \"member\", \"base\", \"year\", \"five\", \"offic\", \"conspiraci\", \"crime\", \"defend\", \"charg\", \"count\", \"crimin\", \"prosecut\"], \"Freq\": [12501.0, 10157.0, 7710.0, 4363.0, 6423.0, 3153.0, 4209.0, 5620.0, 4524.0, 2953.0, 6422.0, 3695.0, 9168.0, 2458.0, 6508.0, 3895.0, 2811.0, 3513.0, 2763.0, 5647.0, 2574.0, 3843.0, 2612.0, 2557.0, 3799.0, 13142.0, 1859.0, 6172.0, 5198.0, 4118.0, 979.2238790791922, 439.0958996148603, 1778.153005022833, 1085.0614218521064, 1126.9719428512497, 806.6634006183926, 534.5909008470743, 878.6220232274914, 848.7451258333646, 1148.5041028337625, 1018.1976379465549, 712.7727951997891, 1052.0459310765095, 607.3562160383017, 556.813840478255, 202.79579797906692, 494.8391791815587, 698.6625412502195, 1050.0619497680154, 1299.608582343154, 270.8763514776419, 425.0402593584138, 511.7149007018478, 897.2134458879879, 1051.1794299503817, 359.5176730175217, 690.4764952397152, 2193.0172291042786, 250.78578519954544, 227.79978973359522, 452.75393050251427, 656.8198695207792, 822.180013631654, 624.1605648248153, 2970.112351643199, 1111.9589141646525, 1149.092702024329, 2161.236486622998, 3040.2609075166115, 1182.0635622550078, 911.6901852737099, 3291.252973468553, 1468.6881493360593, 1442.287284767265, 1596.2947372914346, 1087.031851375706, 1721.1749771618183, 1489.4195795217968, 2519.6898702138633, 1869.8675099957607, 2425.160930554132, 2065.4522903011443, 2221.945230520122, 3068.090130213242, 3325.2231423173216, 4164.120547449085, 3682.364713130439, 2487.2490654630083, 3030.312090499701, 2812.839912757114, 2983.4276127182657, 2442.5576278583662, 2448.1868586129035, 2236.112627829328, 2246.5128096284443, 2380.473829520656, 2123.4156232691917, 2069.6880361876397, 1989.697993433678, 1726.932317456221, 1776.7289834661626, 1736.3029249843173, 3693.9183944475376, 1101.9207040074464, 1041.2733002417988, 1056.1376121842166, 853.6913466993318, 587.949700019946, 371.286012221869, 2139.3004063472154, 683.9302850318555, 658.0135948490861, 963.9797514653192, 523.0597465960221, 1533.1483229762523, 796.3164730486367, 191.31442734816696, 511.7622917823084, 734.7742479824083, 512.9823003470126, 2251.8906918838034, 1650.710845642156, 3545.614863737658, 2290.0972773402073, 325.8051619119757, 353.5540062652966, 225.47361749150375, 1325.991061828466, 996.2222891335147, 339.1883077967456, 8608.54569234238, 4730.745887245957, 1174.2054871949865, 1911.707277469452, 3668.0545655643846, 1227.9978846514834, 2402.019469946294, 4124.606231948614, 3183.514877389769, 4054.310024513612, 1219.0764591827333, 2126.818757653923, 1323.983340124676, 4539.557105202876, 4054.557578304351, 4677.200707686317, 3717.053421436577, 2827.1418817231497, 2435.9427366245427, 2325.1996994898104, 2776.4314785772676, 3499.9248984931014, 1804.535128190003, 2470.782153864853, 1769.4550429835263, 2005.4982542406856, 2179.8854563792247, 2218.8330237384366, 1850.191168152518, 2168.527540666823, 1950.8797257823949, 1887.2107046313497, 837.8237785897015, 725.7396833121247, 569.147336052165, 320.64843508657594, 231.38061697347763, 206.22424702727685, 1239.2134846548836, 447.0319150215178, 416.1010494751336, 459.3455946869214, 2166.4003263556065, 762.4003183479443, 547.4627071463966, 853.1837870295819, 398.98973360539117, 1750.6378184883404, 591.9534128929347, 778.1073896537699, 316.3172433145524, 441.7645182302423, 379.80750016290983, 569.2672213382244, 314.8515449485379, 974.0472967256924, 535.2754611230138, 1394.1006568131952, 204.5458110458039, 745.5714632939911, 514.5327040830023, 488.8329255336214, 1948.9826512636655, 4889.75075229949, 994.7661270804608, 835.4243098496, 1312.158811931723, 1244.5052278978096, 3353.951060374056, 3445.969229967511, 2006.0151377415898, 3843.887299933863, 1179.888989637247, 1265.1910646129274, 991.1074430703275, 5643.936661813761, 4190.1291027854495, 4321.092863878786, 3983.4794434922173, 1398.8577016059025, 1514.2619812623861, 1312.7239014698644, 3046.997378411091, 2531.376471892583, 2567.1662595388407, 2462.984266887556, 1903.1805952592504, 2571.994244854461, 2123.3830007003453, 2205.491996565392, 2770.2297704572024, 2320.957813977255, 2570.8059701073425, 2059.696545032996, 1641.0702228253517, 1939.7578646864865, 1609.6669941403024, 1634.6598860589968, 1527.5316369448478, 1538.5676316182776, 1238.9516562695724, 535.1440384018005, 454.6894907963939, 698.1521755308783, 516.6473326796577, 1548.7245961351607, 1304.9364047257584, 485.822972469963, 2580.0097792121032, 359.8827705803403, 266.5378810634298, 332.3493318169324, 229.0511591064221, 1004.37912440603, 450.9372003605603, 378.38734120378393, 877.5722412358014, 1047.1991168973789, 1272.796022918489, 5762.995633251954, 274.7883552952341, 297.7172798813584, 1283.4557400286894, 697.2471721331493, 405.5493561479143, 1758.8354343879769, 264.6301605799963, 306.32930825237634, 1532.517964615331, 162.10556259792716, 2840.6873064170013, 1099.2725513035818, 1030.8449028178443, 1141.5588100027285, 1632.8016247514988, 1040.7596132969759, 1126.8744995258705, 3513.996263517185, 3526.981369778677, 3423.5215232269647, 2906.2497405160807, 2222.6772414320085, 2687.58574499169, 3292.0385706989896, 2862.2426876764284, 4432.06094910053, 2600.041991252928, 3551.1290841923724, 2790.06355837705, 1777.7108890825696, 2716.374368027904, 3694.3245711086083, 2856.280475635363, 2810.3195345705726, 3640.1588416357463, 2720.356783933664, 2232.664123946607, 2356.9044276589843, 2544.5768567141613, 1762.850389395197, 1913.4129756240854, 1953.1254839259589, 1868.985690312965, 2247.559475941705, 2133.751424056807, 2028.3051501784958, 2037.0008009559922, 2457.7760325914205, 1379.958805334843, 555.7831990153222, 251.26085595800572, 435.5695608159555, 3090.7259989143886, 219.38632417899998, 1800.9083235597786, 1047.2245333734677, 244.98007072389962, 2780.492703828907, 960.9511876140187, 450.93933303026694, 3948.912668479002, 698.9471389674317, 573.5991755832099, 2262.180824019273, 2376.380338499011, 2374.9278498313233, 1005.6854450588816, 367.75176084306327, 670.234348023569, 535.2655593323937, 164.29234338135285, 2989.1981028300456, 289.69610682350117, 315.20513536068006, 3054.8178011862583, 358.62948054065225, 1717.0510831909928, 1083.3957483470233, 2328.990623671412, 2402.8744444546955, 6905.711689741398, 4164.868633200927, 1985.792260540784, 1391.7153072793403, 1727.1072861722498, 1628.9053029943045, 3106.0808791156596, 1266.2673289555735, 1797.502506680087, 2154.8510716398505, 1732.1680511114207, 1758.2613774533097, 2057.3021774688486, 1422.785265435367, 1384.8273688247398, 1253.7171861952536], \"Total\": [12501.0, 10157.0, 7710.0, 4363.0, 6423.0, 3153.0, 4209.0, 5620.0, 4524.0, 2953.0, 6422.0, 3695.0, 9168.0, 2458.0, 6508.0, 3895.0, 2811.0, 3513.0, 2763.0, 5647.0, 2574.0, 3843.0, 2612.0, 2557.0, 3799.0, 13142.0, 1859.0, 6172.0, 5198.0, 4118.0, 980.0356995894887, 440.9920754789016, 1787.7635655439108, 1093.0558780429963, 1142.3439558843895, 821.1059634415367, 549.0751484341134, 908.6014886657866, 881.6206349453363, 1195.1328097479034, 1062.9897220275077, 745.7376798669507, 1104.1172876685189, 641.4406549413361, 591.0417001296405, 215.7518766366698, 526.6247398445038, 746.5159790065034, 1133.7518651748542, 1403.4230096522929, 293.7982558887456, 463.4322255693486, 560.7065460102059, 985.36269081075, 1159.7976938934419, 396.9978195204611, 763.6234479850533, 2430.8974807272957, 279.7432432135045, 255.73031828174567, 509.72199432760016, 743.2962627156679, 938.0227747595284, 713.2534094581686, 3757.875979700579, 1337.5001402332118, 1387.8268416945625, 2785.8148936120247, 4118.325666663246, 1448.183146936899, 1092.1280598558453, 5135.758385914926, 1961.6547644663042, 1990.4330651191258, 2346.866387715008, 1405.9711142520466, 2656.5187555699445, 2186.7234305542693, 4806.682700404883, 3226.7189315591168, 4870.939065320531, 3899.879928490484, 4537.530754273396, 8060.722047516821, 9477.089467243783, 14969.963233533179, 14284.72163239676, 6693.045264865935, 10663.84716001454, 9630.907738787913, 11120.706083954963, 8121.782339130869, 8850.369394495627, 7210.892668353032, 8655.380879019507, 10645.886170253321, 8264.0833249992, 9837.487193230076, 10108.991931291033, 5163.389530820575, 6457.593008172928, 6960.216681325517, 3695.8970594158945, 1102.8499537426007, 1042.1690011742112, 1057.1047778974103, 855.0249637229662, 589.019994205232, 372.14100818191326, 2144.9986747970515, 696.2411239350552, 670.40027154209, 993.259259962156, 541.7139041592375, 1588.7938170103575, 832.6596080447828, 202.57727168525582, 545.3005289778058, 784.4733901928761, 553.4126084980934, 2433.187698940038, 1786.8311221927793, 3843.662162716066, 2548.9976330441855, 363.85270444040896, 395.78165159417233, 253.49680015059272, 1513.5144319098738, 1140.3987933969818, 391.77525586157, 10157.43952001385, 5620.258694896744, 1423.6979139950286, 2387.513717643495, 5198.599990966831, 1603.009099191035, 3440.864059054354, 6368.214637355602, 4912.4394858596515, 6960.216681325517, 1664.5593403902724, 3668.880985534016, 1878.0248442613374, 11698.099041538797, 10108.991931291033, 13142.592323241068, 9837.487193230076, 6508.3611410411595, 5163.389530820575, 5358.167519723295, 8655.380879019507, 14284.72163239676, 3588.3299115678633, 7970.145585323202, 3816.1715684983915, 5626.510703230821, 7519.766293147583, 10645.886170253321, 5004.4568156368905, 14969.963233533179, 9630.907738787913, 9477.089467243783, 838.6801298103433, 726.5450425869437, 569.9446371632002, 321.4678626837956, 232.19954544164943, 206.99450330073228, 1244.4886055420948, 450.9928566683414, 421.62015890811074, 465.82223575291664, 2199.4160084576247, 774.3332811545486, 560.4129898754161, 875.8976488314846, 413.2286158996975, 1821.959046378636, 619.0003382032949, 813.734396195878, 331.2667891520384, 467.4743474061495, 401.97511152900233, 603.8863101311398, 334.7098815379528, 1050.9759922559047, 578.2678738006346, 1517.4379262120287, 224.76604636501875, 819.376760160933, 570.8518792195466, 552.4542379505035, 2234.8467522205574, 6422.630742120343, 1258.2968889089946, 1029.0540601606053, 1748.7394723687596, 1665.5333786716897, 5647.704761549165, 6051.528233808696, 3131.6484570996145, 7210.892668353032, 1650.0702887557957, 1817.65123304978, 1327.2865978731163, 14969.963233533179, 10645.886170253321, 11698.099041538797, 10663.84716001454, 2349.9316522970207, 2801.615337197414, 2289.6769216420053, 11120.706083954963, 7970.145585323202, 8264.0833249992, 7650.774131379683, 4711.036671575117, 9477.089467243783, 6693.045264865935, 8121.782339130869, 14284.72163239676, 9630.907738787913, 13142.592323241068, 8395.496708511366, 4859.615580171659, 10108.991931291033, 5661.710091829363, 6982.592930694407, 4817.985108553497, 8850.369394495627, 1239.8876584251843, 535.9714331612611, 455.5352857077946, 699.5322669935259, 518.4152953377381, 1554.2918925336828, 1310.9140319086368, 488.8575761025923, 2612.2136027897836, 366.90540419357984, 273.206738048021, 343.9658813536408, 248.563986354919, 1101.5854473802392, 494.60275862216105, 416.5461642032126, 966.6446769426759, 1156.0719166152362, 1412.923453183308, 6423.998879926425, 307.6779387645121, 338.07802137671774, 1466.4389257530186, 798.8790627548326, 467.7423110736083, 2057.2246753940685, 320.4944255077212, 372.3492323441239, 1886.752864549894, 201.76690677607465, 3682.447787943794, 1431.6703664991192, 1376.0153916455065, 1585.796189861755, 2405.0916010061746, 1425.6660432986669, 1571.2232111005767, 6457.593008172928, 6508.3611410411595, 6319.736214667878, 5626.510703230821, 4365.687076680039, 5738.98662775248, 7710.226293680705, 6485.212132014589, 12501.40021289123, 5653.94527748057, 9168.66419951378, 6545.449313175929, 3252.127724070434, 7519.766293147583, 13142.592323241068, 8264.0833249992, 8060.722047516821, 14284.72163239676, 8850.369394495627, 6225.425472541667, 7650.774131379683, 9837.487193230076, 3699.719301682927, 4993.395356748365, 5475.62067930651, 4711.036671575117, 14969.963233533179, 11120.706083954963, 8655.380879019507, 10108.991931291033, 2458.628552213041, 1387.0482314790897, 561.7430701229156, 255.30254831832227, 442.860081746481, 3153.913343553854, 224.49182921316654, 1859.9026521896085, 1095.8338069690847, 257.27076378149053, 2953.6644876651526, 1050.8716492991132, 495.029665081045, 4363.816160220163, 781.4607302641164, 648.4904671750096, 2574.324117846528, 2763.384788598936, 2811.374936974458, 1298.643982871516, 485.41056783268743, 895.9890271162417, 728.233577734244, 228.88018598967952, 4209.457699009633, 420.6045723230012, 465.16790464655537, 4524.101079847265, 533.1851243379622, 2557.4223764216363, 1617.0317004771114, 3513.938781543628, 3895.677426691789, 12501.40021289123, 7710.226293680705, 3799.5551026975018, 2552.191296584673, 3441.307822021702, 3413.503877988661, 9168.66419951378, 2474.2977190720876, 4490.117222969687, 6172.058862461099, 5647.704761549165, 8395.496708511366, 13142.592323241068, 6485.212132014589, 11698.099041538797, 7650.774131379683], \"Category\": [\"Default\", \"Default\", \"Default\", \"Default\", \"Default\", \"Default\", \"Default\", \"Default\", \"Default\", \"Default\", \"Default\", \"Default\", \"Default\", \"Default\", \"Default\", \"Default\", \"Default\", \"Default\", \"Default\", \"Default\", \"Default\", \"Default\", \"Default\", \"Default\", \"Default\", \"Default\", \"Default\", \"Default\", \"Default\", \"Default\", \"Topic1\", \"Topic1\", \"Topic1\", \"Topic1\", \"Topic1\", \"Topic1\", \"Topic1\", \"Topic1\", \"Topic1\", \"Topic1\", \"Topic1\", \"Topic1\", \"Topic1\", \"Topic1\", \"Topic1\", \"Topic1\", \"Topic1\", \"Topic1\", \"Topic1\", \"Topic1\", \"Topic1\", \"Topic1\", \"Topic1\", \"Topic1\", \"Topic1\", \"Topic1\", \"Topic1\", \"Topic1\", \"Topic1\", \"Topic1\", \"Topic1\", \"Topic1\", \"Topic1\", \"Topic1\", \"Topic1\", \"Topic1\", \"Topic1\", \"Topic1\", \"Topic1\", \"Topic1\", \"Topic1\", \"Topic1\", \"Topic1\", \"Topic1\", \"Topic1\", \"Topic1\", \"Topic1\", \"Topic1\", \"Topic1\", \"Topic1\", \"Topic1\", \"Topic1\", \"Topic1\", \"Topic1\", \"Topic1\", \"Topic1\", \"Topic1\", \"Topic1\", \"Topic1\", \"Topic1\", \"Topic1\", \"Topic1\", \"Topic1\", \"Topic1\", \"Topic1\", \"Topic1\", \"Topic1\", \"Topic1\", \"Topic1\", \"Topic1\", \"Topic1\", \"Topic1\", \"Topic2\", \"Topic2\", \"Topic2\", \"Topic2\", \"Topic2\", \"Topic2\", \"Topic2\", \"Topic2\", \"Topic2\", \"Topic2\", \"Topic2\", \"Topic2\", \"Topic2\", \"Topic2\", \"Topic2\", \"Topic2\", \"Topic2\", \"Topic2\", \"Topic2\", \"Topic2\", \"Topic2\", \"Topic2\", \"Topic2\", \"Topic2\", \"Topic2\", \"Topic2\", \"Topic2\", \"Topic2\", \"Topic2\", \"Topic2\", \"Topic2\", \"Topic2\", \"Topic2\", \"Topic2\", \"Topic2\", \"Topic2\", \"Topic2\", \"Topic2\", \"Topic2\", \"Topic2\", \"Topic2\", \"Topic2\", \"Topic2\", \"Topic2\", \"Topic2\", \"Topic2\", \"Topic2\", \"Topic2\", \"Topic2\", \"Topic2\", \"Topic2\", \"Topic2\", \"Topic2\", \"Topic2\", \"Topic2\", \"Topic2\", \"Topic2\", \"Topic2\", \"Topic2\", \"Topic2\", \"Topic3\", \"Topic3\", \"Topic3\", \"Topic3\", \"Topic3\", \"Topic3\", \"Topic3\", \"Topic3\", \"Topic3\", \"Topic3\", \"Topic3\", \"Topic3\", \"Topic3\", \"Topic3\", \"Topic3\", \"Topic3\", \"Topic3\", \"Topic3\", \"Topic3\", \"Topic3\", \"Topic3\", \"Topic3\", \"Topic3\", \"Topic3\", \"Topic3\", \"Topic3\", \"Topic3\", \"Topic3\", \"Topic3\", \"Topic3\", \"Topic3\", \"Topic3\", \"Topic3\", \"Topic3\", \"Topic3\", \"Topic3\", \"Topic3\", \"Topic3\", \"Topic3\", \"Topic3\", \"Topic3\", \"Topic3\", \"Topic3\", \"Topic3\", \"Topic3\", \"Topic3\", \"Topic3\", \"Topic3\", \"Topic3\", \"Topic3\", \"Topic3\", \"Topic3\", \"Topic3\", \"Topic3\", \"Topic3\", \"Topic3\", \"Topic3\", \"Topic3\", \"Topic3\", \"Topic3\", \"Topic3\", \"Topic3\", \"Topic3\", \"Topic3\", \"Topic3\", \"Topic3\", \"Topic3\", \"Topic3\", \"Topic4\", \"Topic4\", \"Topic4\", \"Topic4\", \"Topic4\", \"Topic4\", \"Topic4\", \"Topic4\", \"Topic4\", \"Topic4\", \"Topic4\", \"Topic4\", \"Topic4\", \"Topic4\", \"Topic4\", \"Topic4\", \"Topic4\", \"Topic4\", \"Topic4\", \"Topic4\", \"Topic4\", \"Topic4\", \"Topic4\", \"Topic4\", \"Topic4\", \"Topic4\", \"Topic4\", \"Topic4\", \"Topic4\", \"Topic4\", \"Topic4\", \"Topic4\", \"Topic4\", \"Topic4\", \"Topic4\", \"Topic4\", \"Topic4\", \"Topic4\", \"Topic4\", \"Topic4\", \"Topic4\", \"Topic4\", \"Topic4\", \"Topic4\", \"Topic4\", \"Topic4\", \"Topic4\", \"Topic4\", \"Topic4\", \"Topic4\", \"Topic4\", \"Topic4\", \"Topic4\", \"Topic4\", \"Topic4\", \"Topic4\", \"Topic4\", \"Topic4\", \"Topic4\", \"Topic4\", \"Topic4\", \"Topic4\", \"Topic4\", \"Topic4\", \"Topic4\", \"Topic4\", \"Topic4\", \"Topic5\", \"Topic5\", \"Topic5\", \"Topic5\", \"Topic5\", \"Topic5\", \"Topic5\", \"Topic5\", \"Topic5\", \"Topic5\", \"Topic5\", \"Topic5\", \"Topic5\", \"Topic5\", \"Topic5\", \"Topic5\", \"Topic5\", \"Topic5\", \"Topic5\", \"Topic5\", \"Topic5\", \"Topic5\", \"Topic5\", \"Topic5\", \"Topic5\", \"Topic5\", \"Topic5\", \"Topic5\", \"Topic5\", \"Topic5\", \"Topic5\", \"Topic5\", \"Topic5\", \"Topic5\", \"Topic5\", \"Topic5\", \"Topic5\", \"Topic5\", \"Topic5\", \"Topic5\", \"Topic5\", \"Topic5\", \"Topic5\", \"Topic5\", \"Topic5\", \"Topic5\", \"Topic5\", \"Topic5\", \"Topic5\"], \"logprob\": [30.0, 29.0, 28.0, 27.0, 26.0, 25.0, 24.0, 23.0, 22.0, 21.0, 20.0, 19.0, 18.0, 17.0, 16.0, 15.0, 14.0, 13.0, 12.0, 11.0, 10.0, 9.0, 8.0, 7.0, 6.0, 5.0, 4.0, 3.0, 2.0, 1.0, -5.9821, -6.7841, -5.3855, -5.8794, -5.8415, -6.1759, -6.5873, -6.0905, -6.1251, -5.8226, -5.943, -6.2997, -5.9103, -6.4597, -6.5466, -7.5566, -6.6646, -6.3197, -5.9122, -5.699, -7.2672, -6.8167, -6.6311, -6.0695, -5.9112, -6.9841, -6.3315, -5.1758, -7.3442, -7.4404, -6.7535, -6.3814, -6.1569, -6.4324, -4.8725, -5.855, -5.8221, -5.1904, -4.8491, -5.7938, -6.0535, -4.7698, -5.5767, -5.5949, -5.4934, -5.8776, -5.4181, -5.5627, -5.0369, -5.3352, -5.0752, -5.2357, -5.1627, -4.84, -4.7595, -4.5346, -4.6575, -5.0499, -4.8524, -4.9269, -4.868, -5.068, -5.0657, -5.1563, -5.1517, -5.0938, -5.2081, -5.2337, -5.2731, -5.4147, -5.3863, -5.4093, -4.5813, -5.7909, -5.8475, -5.8333, -6.0461, -6.4191, -6.8787, -5.1275, -6.2678, -6.3065, -5.9246, -6.536, -5.4606, -6.1157, -7.5418, -6.5578, -6.1961, -6.5555, -5.0762, -5.3867, -4.6222, -5.0594, -7.0094, -6.9277, -7.3775, -5.6058, -5.8917, -6.9691, -3.7352, -4.3339, -5.7274, -5.2399, -4.5883, -5.6826, -5.0116, -4.471, -4.73, -4.4882, -5.6899, -5.1333, -5.6073, -4.3751, -4.4881, -4.3452, -4.575, -4.8487, -4.9976, -5.0441, -4.8668, -4.6352, -5.2976, -4.9834, -5.3173, -5.1921, -5.1087, -5.091, -5.2727, -5.1139, -5.2197, -5.2528, -6.0647, -6.2083, -6.4513, -7.0251, -7.3514, -7.4665, -5.6732, -6.6928, -6.7645, -6.6657, -5.1146, -6.159, -6.4902, -6.0465, -6.8065, -5.3277, -6.412, -6.1386, -7.0387, -6.7047, -6.8558, -6.4511, -7.0434, -5.914, -6.5127, -5.5555, -7.4747, -6.1813, -6.5522, -6.6034, -5.2204, -4.3006, -5.893, -6.0675, -5.616, -5.669, -4.6776, -4.6505, -5.1916, -4.5412, -5.7223, -5.6525, -5.8966, -4.1571, -4.455, -4.4242, -4.5055, -5.552, -5.4728, -5.6156, -4.7735, -4.9589, -4.9449, -4.9863, -5.2442, -4.943, -5.1347, -5.0968, -4.8688, -5.0457, -4.9435, -5.1651, -5.3924, -5.2251, -5.4117, -5.3963, -5.4641, -5.4569, -5.5884, -6.4279, -6.5908, -6.162, -6.463, -5.3652, -5.5365, -6.5245, -4.8548, -6.8246, -7.1249, -6.9042, -7.2764, -5.7983, -6.5991, -6.7745, -5.9332, -5.7565, -5.5614, -4.0512, -7.0944, -7.0142, -5.5531, -6.1633, -6.7051, -5.238, -7.1321, -6.9857, -5.3757, -7.6221, -4.7586, -5.708, -5.7723, -5.6702, -5.3123, -5.7627, -5.6832, -4.5459, -4.5422, -4.572, -4.7358, -5.0039, -4.814, -4.6111, -4.751, -4.3138, -4.8471, -4.5354, -4.7766, -5.2273, -4.8033, -4.4958, -4.7531, -4.7693, -4.5106, -4.8019, -4.9994, -4.9453, -4.8687, -5.2357, -5.1537, -5.1332, -5.1772, -4.9928, -5.0448, -5.0954, -5.0912, -4.3646, -4.9419, -5.8513, -6.6452, -6.095, -4.1355, -6.7808, -4.6756, -5.2178, -6.6705, -4.2413, -5.3037, -6.0603, -3.8905, -5.6221, -5.8197, -4.4476, -4.3983, -4.3989, -5.2582, -6.2643, -5.664, -5.8889, -7.07, -4.1689, -6.5028, -6.4184, -4.1472, -6.2894, -4.7233, -5.1838, -4.4185, -4.3872, -3.3316, -3.8372, -4.5779, -4.9334, -4.7175, -4.776, -4.1305, -5.0278, -4.6775, -4.4962, -4.7145, -4.6996, -4.5425, -4.9113, -4.9383, -5.0378], \"loglift\": [30.0, 29.0, 28.0, 27.0, 26.0, 25.0, 24.0, 23.0, 22.0, 21.0, 20.0, 19.0, 18.0, 17.0, 16.0, 15.0, 14.0, 13.0, 12.0, 11.0, 10.0, 9.0, 8.0, 7.0, 6.0, 5.0, 4.0, 3.0, 2.0, 1.0, 1.4367, 1.4332, 1.4321, 1.4302, 1.424, 1.4198, 1.4108, 1.404, 1.3995, 1.3977, 1.3945, 1.3923, 1.3892, 1.3829, 1.3779, 1.3756, 1.3753, 1.3713, 1.3608, 1.3607, 1.3563, 1.351, 1.3461, 1.3438, 1.3392, 1.3383, 1.3368, 1.3345, 1.3282, 1.3218, 1.319, 1.3138, 1.3057, 1.3041, 1.2023, 1.2528, 1.2487, 1.1836, 1.134, 1.2345, 1.2569, 0.9925, 1.1481, 1.1154, 1.0521, 1.1802, 1.0035, 1.0535, 0.7916, 0.8919, 0.7401, 0.8019, 0.7235, 0.4716, 0.3902, 0.158, 0.0819, 0.4476, 0.1793, 0.2067, 0.1218, 0.236, 0.1524, 0.2667, 0.0887, -0.0604, 0.0786, -0.1213, -0.1879, 0.3423, 0.147, 0.0491, 1.5101, 1.5098, 1.5098, 1.5097, 1.5091, 1.5088, 1.5083, 1.508, 1.4928, 1.492, 1.4807, 1.4756, 1.475, 1.466, 1.4534, 1.4472, 1.4452, 1.4348, 1.4332, 1.4314, 1.4299, 1.4035, 1.4002, 1.3978, 1.3935, 1.3784, 1.3755, 1.3665, 1.3452, 1.3383, 1.318, 1.2884, 1.1619, 1.2441, 1.1512, 1.0763, 1.0769, 0.9702, 1.1992, 0.9654, 1.1611, 0.564, 0.5971, 0.4775, 0.5374, 0.6768, 0.7594, 0.6758, 0.3736, 0.1042, 0.8233, 0.3395, 0.7421, 0.479, 0.2724, -0.0575, 0.5156, -0.4214, -0.0861, -0.1031, 1.5099, 1.5098, 1.5095, 1.5083, 1.5074, 1.5072, 1.5066, 1.5021, 1.4977, 1.4969, 1.4958, 1.4954, 1.4875, 1.4846, 1.4758, 1.471, 1.4662, 1.4661, 1.4647, 1.4543, 1.4542, 1.4518, 1.4497, 1.4349, 1.4336, 1.4261, 1.4166, 1.4165, 1.407, 1.3885, 1.374, 1.2382, 1.2759, 1.3024, 1.2237, 1.2195, 0.9898, 0.9478, 1.0655, 0.8818, 1.1755, 1.1486, 1.2188, 0.5354, 0.5784, 0.515, 0.5262, 0.9922, 0.8956, 0.9546, 0.2162, 0.3639, 0.3418, 0.3775, 0.6045, 0.2067, 0.3628, 0.2073, -0.1294, 0.0879, -0.1208, 0.1057, 0.4253, -0.14, 0.2532, 0.0589, 0.3622, -0.2387, 1.5952, 1.5944, 1.5941, 1.594, 1.5925, 1.5924, 1.5914, 1.5897, 1.5835, 1.5766, 1.5712, 1.5616, 1.5142, 1.5036, 1.5035, 1.4999, 1.4993, 1.497, 1.4915, 1.4874, 1.4829, 1.4688, 1.4627, 1.4599, 1.4533, 1.4392, 1.4044, 1.4008, 1.388, 1.3771, 1.3364, 1.3318, 1.3071, 1.2673, 1.2087, 1.2813, 1.2635, 0.9874, 0.9833, 0.9829, 0.9353, 0.9209, 0.8373, 0.7449, 0.778, 0.559, 0.8191, 0.6474, 0.7432, 0.992, 0.5777, 0.3269, 0.5336, 0.5422, 0.2288, 0.4163, 0.5705, 0.4185, 0.2437, 0.8546, 0.6367, 0.5651, 0.6714, -0.3002, -0.055, 0.145, -0.006, 2.1343, 2.1296, 2.124, 2.1187, 2.1181, 2.1144, 2.1117, 2.1024, 2.0893, 2.0857, 2.0743, 2.0452, 2.0414, 2.0348, 2.0231, 2.012, 2.0054, 1.9838, 1.966, 1.879, 1.8571, 1.8444, 1.8268, 1.8031, 1.7924, 1.7618, 1.7455, 1.742, 1.7381, 1.7363, 1.7342, 1.7234, 1.6515, 1.5412, 1.5188, 1.4858, 1.5283, 1.4453, 1.3949, 1.0523, 1.4648, 1.2192, 1.0824, 0.9528, 0.5713, 0.2802, 0.6178, 0.0008, 0.326]}, \"token.table\": {\"Topic\": [1, 2, 3, 4, 5, 1, 2, 3, 4, 5, 1, 2, 3, 4, 5, 1, 2, 3, 4, 5, 1, 2, 1, 2, 3, 4, 5, 1, 2, 3, 4, 5, 1, 2, 3, 4, 5, 1, 2, 3, 4, 5, 1, 2, 3, 4, 1, 2, 3, 4, 5, 1, 2, 3, 4, 5, 1, 2, 3, 4, 5, 3, 1, 2, 3, 4, 5, 1, 2, 3, 4, 5, 3, 4, 5, 1, 3, 4, 5, 1, 3, 4, 5, 1, 2, 3, 4, 5, 1, 2, 3, 4, 5, 1, 2, 3, 1, 2, 3, 4, 5, 1, 2, 3, 5, 1, 2, 3, 4, 5, 2, 2, 1, 2, 3, 4, 5, 1, 2, 1, 2, 3, 4, 5, 4, 3, 1, 2, 3, 4, 5, 1, 2, 3, 4, 1, 3, 4, 5, 3, 1, 3, 4, 5, 1, 2, 3, 4, 1, 2, 3, 4, 4, 1, 3, 4, 1, 2, 3, 4, 5, 1, 4, 5, 1, 2, 3, 4, 1, 2, 5, 5, 1, 2, 3, 4, 5, 1, 3, 4, 5, 1, 2, 3, 4, 5, 1, 2, 3, 4, 1, 2, 3, 5, 1, 2, 3, 4, 5, 1, 2, 3, 4, 5, 1, 2, 3, 1, 3, 4, 5, 1, 2, 3, 4, 2, 3, 4, 5, 1, 2, 3, 1, 2, 3, 4, 1, 2, 3, 4, 5, 1, 2, 3, 4, 5, 3, 4, 3, 4, 1, 2, 3, 4, 5, 1, 2, 3, 4, 5, 1, 2, 3, 4, 5, 1, 2, 3, 4, 5, 1, 2, 3, 4, 5, 1, 3, 4, 2, 3, 1, 3, 4, 5, 1, 2, 3, 4, 5, 1, 2, 3, 4, 1, 2, 3, 4, 5, 1, 2, 3, 4, 5, 1, 2, 3, 4, 3, 1, 2, 3, 4, 5, 1, 4, 5, 1, 2, 3, 1, 2, 3, 4, 5, 1, 2, 4, 5, 1, 2, 3, 4, 5, 1, 2, 3, 4, 5, 1, 2, 3, 4, 5, 1, 2, 3, 4, 1, 2, 3, 4, 5, 1, 2, 3, 4, 5, 1, 3, 5, 1, 2, 3, 4, 5, 1, 2, 3, 4, 5, 2, 4, 2, 3, 4, 5, 1, 3, 4, 2, 3, 4, 5, 1, 2, 3, 4, 5, 1, 2, 3, 4, 5, 1, 2, 3, 4, 5, 1, 2, 3, 4, 5, 1, 2, 3, 4, 5, 1, 2, 3, 4, 5, 3, 4, 5, 1, 3, 4, 5, 1, 2, 3, 4, 5, 1, 2, 3, 4, 5, 1, 2, 3, 4, 5, 2, 3, 4, 5, 4, 5, 1, 2, 3, 4, 5, 4, 1, 2, 3, 4, 5, 1, 2, 3, 4, 5, 1, 2, 3, 4, 5, 1, 3, 4, 1, 2, 3, 4, 5, 4, 5, 1, 2, 3, 4, 5, 1, 2, 1, 2, 3, 4, 5, 1, 2, 3, 4, 5, 1, 2, 3, 4, 5, 1, 2, 3, 4, 1, 2, 3, 4, 5, 1, 2, 3, 4, 1, 4, 1, 2, 3, 3, 4, 5, 1, 2, 5, 1, 2, 3, 4, 5, 2, 3, 4, 1, 2, 3, 4, 5, 1, 2, 3, 4, 5, 2, 3, 4, 5, 1, 2, 3, 4, 5, 1, 4, 5, 1, 2, 3, 4, 5, 1, 2, 4, 5, 1, 3, 4, 1, 2, 3, 4, 5, 1, 2, 3, 4, 5, 1, 3, 4, 5, 1, 2, 3, 4, 5, 1, 2, 3, 4, 5, 2, 3, 4, 2, 3, 4, 3, 4, 1, 3, 4, 5, 2, 1, 3, 4, 5, 2, 3, 4, 5, 1, 2, 3, 4, 5, 1, 2, 3, 4, 5, 1, 2, 4, 1, 2, 3, 4, 5, 1, 2, 3, 4, 5, 1, 2, 3, 4, 5, 1, 2, 3, 4, 5, 2, 2, 5, 1, 2, 3, 4, 5, 1, 2, 3, 4, 5, 1, 3, 4, 5, 1, 2, 3, 4, 5, 1, 2, 3, 4, 3, 4, 5, 1, 2, 3, 4, 5, 1, 2, 3, 4, 5, 2, 3, 4, 5, 1, 2, 3, 4, 5, 1, 2, 3, 4, 5, 2, 3, 4, 3, 1, 2, 3, 4, 5, 1, 2, 3, 4, 5, 1, 2, 3, 4, 5, 1, 2, 3, 4, 5, 1, 2, 3, 4, 5, 1, 2, 3, 4, 5, 1, 2, 5, 1, 2, 3, 4, 5, 1, 2, 3, 4, 5, 1, 2, 5, 2, 5, 1, 3, 4, 5, 1, 2, 3, 4, 3, 3, 4, 5, 1, 2, 3, 4, 5, 1, 2, 3, 4, 1, 3, 4, 5, 1, 2, 3, 4, 5, 1, 2, 3, 4, 5, 1, 2, 3, 4, 5, 1, 2, 3, 4, 5, 1, 2, 3, 1, 2, 3, 4, 5, 1, 2, 3, 4, 5, 1, 2, 3, 4, 5, 1, 2, 3, 4, 5, 1, 2, 3, 4, 5, 4, 5, 1, 2, 3, 3, 4, 1, 2, 3, 4, 5, 1, 4, 5, 1, 5, 1, 2, 1, 2, 3, 4, 5, 3, 5, 1, 2, 4, 5, 1, 2, 3, 4, 5, 1, 2, 3, 4, 5, 1, 2, 3, 4, 1, 2, 3, 4, 2, 3, 1, 2, 3, 4, 5, 1, 2, 3, 4, 5, 2, 3, 4, 2, 3, 4, 5, 1, 2, 3, 4, 5, 1, 2, 3, 4, 5, 1, 2, 3, 4, 5, 1, 2, 3, 4, 5, 1, 2, 3, 4, 5, 1, 2, 1, 3, 5, 1, 3, 4, 5, 1, 3, 4, 5, 4, 5, 1, 2, 3, 4, 5, 3, 5, 1, 2, 3, 4, 5, 1, 2, 4, 5, 1, 2, 3, 4, 5, 1, 2, 3, 4, 5, 2, 3, 4, 5, 2, 3, 4, 5, 1, 2, 3, 4, 5, 1, 2, 3, 4, 5, 1, 2, 3, 4, 5, 1, 2, 3, 4, 5, 1, 2, 3, 4, 5, 3, 4, 1, 2, 3, 4, 5, 2, 4, 1, 3, 4, 2, 3, 4, 5, 3, 4, 5, 1, 2, 3, 4, 5, 3, 4, 5, 2, 3, 4, 5, 1, 3, 5, 1, 2, 3, 4, 5, 1, 2, 3, 4, 5, 1, 2, 3, 4, 5, 1, 2, 3, 4, 5, 1, 2, 3, 4, 5, 2, 1, 2, 3, 4, 5, 2, 4, 5, 1, 2, 3, 4, 5, 1, 2, 4, 5, 1, 2, 3, 4, 5, 1, 2, 4], \"Freq\": [0.08542707371501612, 0.17209222096213395, 0.19048645629621608, 0.4598558833520537, 0.09214804431785384, 0.052608093294843054, 0.35634874005459566, 0.06149459554059357, 0.51648351052302, 0.012796563233880743, 0.10820725683467884, 0.11674534956398523, 0.16204951506642726, 0.46837537257909295, 0.14462483602702647, 0.2493293462768644, 0.22489707298708334, 0.11675422399952767, 0.383106055765174, 0.02583412503591607, 0.9408956397716799, 0.05561944668601063, 0.0028824699840024073, 0.46355358197275076, 0.09538355219789785, 0.28667474204533033, 0.1514606955230356, 0.0018333347988569876, 0.27958355682569064, 0.17462513959112808, 0.4262503407342496, 0.11779176082656145, 0.0121309473014556, 0.010109122751213, 0.0222400700526686, 0.9118428721594126, 0.0444801401053372, 0.5295034816108541, 0.31436865300479766, 0.04718093976580976, 0.07897679047755111, 0.02974450550453224, 0.07251257060480977, 0.0026856507631411023, 0.09936907823622079, 0.8218091335211773, 0.01943477730041134, 0.003886955460082268, 0.003886955460082268, 0.023321732760493607, 0.9523040877201556, 0.03631534960083227, 0.0017293023619443938, 0.9251767636402507, 0.02248093070527712, 0.01383441889555515, 0.2104195877809655, 0.3778403902327772, 0.1255401888451654, 0.2587042757983368, 0.027547685163595, 0.9951955086493895, 0.2765986244057228, 0.18146135244917924, 0.17389104696095073, 0.30733180489524753, 0.06067543353998085, 0.20350606345008343, 0.2279955334359837, 0.2341537042511516, 0.26823846364673204, 0.0661645329443621, 0.9455064271494305, 0.021391548125552724, 0.03208732218832908, 0.01808022893440145, 0.04948273182046713, 0.01808022893440145, 0.9144789476820944, 0.022351513832230798, 0.0838181768708655, 0.7676348031756766, 0.12572726530629824, 0.0005451253414558211, 0.5797408006382657, 0.003815877390190748, 0.4153855101893357, 0.0005451253414558211, 0.2613150685874109, 0.16493316548734566, 0.026951778374486327, 0.0694301247255789, 0.4772222496960677, 0.016408107912452393, 0.981503182399425, 0.0014916461738593086, 0.08391066336892554, 0.876106611237758, 0.016517847119867233, 0.0059464249631522035, 0.017178561004661922, 0.19650543478447255, 0.7660592822708961, 0.03680577984852026, 0.0006238267770935636, 0.017517679040790286, 0.007007071616316115, 0.9021604706006998, 0.06306364454684503, 0.010510607424474173, 0.9989549021814018, 0.9982683198953063, 0.10903209314809212, 0.2673118754282006, 0.11452950960934045, 0.5091981997231276, 0.00022905901921868092, 0.05430026729301939, 0.9428500957242458, 0.05541590050918699, 0.9225576676318171, 0.003902528204872323, 0.003902528204872323, 0.01456943863152334, 0.9981875281010195, 0.9983425808374967, 0.010880654020373285, 0.3558658661068941, 0.19562350689776026, 0.2810708807780344, 0.1565140232161388, 0.03310420132991398, 0.04448377053707191, 0.014483088081837365, 0.9082965239895148, 0.010911987503823972, 0.9848068722201134, 0.0004546661459926655, 0.003637329167941324, 0.9991890474256293, 0.21501201633579428, 0.7502546952993673, 0.02630466157299611, 0.008005766565694468, 0.004566743620486149, 0.010275173146093837, 0.9738580770686713, 0.011416859051215374, 0.007137593296845652, 0.001784398324211413, 0.9760658833436429, 0.014275186593691303, 0.9992840815704934, 0.874864377408345, 0.08131752225910899, 0.04346281362124791, 0.1276351600472241, 0.6481504778155688, 0.023613522432979265, 0.20071494068032375, 0.00020356484856016605, 0.9561002739290423, 0.04156957712734967, 0.0013409541008822473, 0.011627776910886452, 0.218020817079121, 0.021075345650981694, 0.7492648746952458, 0.009229964307008526, 0.965454266513092, 0.02399790719822217, 0.9997443484447964, 0.06856092734291232, 0.16123119177344214, 0.746636032932155, 0.005273917487916332, 0.018835419599701184, 0.9743657157417271, 0.010927465970935258, 0.012748710299424468, 0.0018212443284892096, 0.5795360673377385, 0.008987457728767068, 0.2535082904183263, 0.006818071380443983, 0.15123721971166654, 0.24941752239664366, 0.5824531312188902, 0.09266952877064237, 0.0754286862086624, 0.8161951079876106, 0.03314497900457302, 0.1505334463124358, 0.0006905203959286046, 0.49785061309126094, 0.08109319264785488, 0.30199515540504945, 0.11886824947622272, 0.0002052992218933035, 0.9035867112523575, 0.05369138429180675, 0.00130954595833675, 0.0392863787501025, 0.00130954595833675, 0.8314017819886788, 0.1667289544815426, 0.0014953269460228034, 0.002636022160053147, 0.9186537227785218, 0.07776265372156783, 0.0006590055400132867, 0.9261285756192009, 0.006174190504128006, 0.023814734801636595, 0.044101360743771474, 0.27948534491327887, 0.1782225387852793, 0.19312842384732082, 0.3491541555293426, 0.7244654569249217, 0.07284846827608436, 0.20196609825507528, 0.06659834750021844, 0.9239821153181568, 0.0011192999579868646, 0.008394749684901484, 0.0014047923933440446, 0.8246131348929542, 0.04916773376704156, 0.09903786373075514, 0.025988659276864827, 0.0001541969606612323, 0.2812552562460877, 0.057823860247962114, 0.44131170141244686, 0.21942227502093356, 0.9539139157561866, 0.042262008925907, 0.09122638320938097, 0.9074624435038423, 0.2296066132598217, 0.018807367639029765, 0.1144114864707644, 0.0916859172402701, 0.5454136615318632, 0.38061106460619437, 0.05942395695774678, 0.17789969577747156, 0.34860400637008027, 0.03337170025393295, 0.011154974039882196, 0.004603640079951382, 0.5938695703137283, 0.08357377375911741, 0.3066732545567613, 0.012993564121851164, 0.38809724416581765, 0.3693762537534137, 0.11121465080610766, 0.11839530466292014, 0.081107443405459, 0.09739279621521653, 0.640557210517129, 0.17083654418078964, 0.01021826058651452, 0.002371803100187966, 0.9866700896781939, 0.011859015500939832, 0.8944325705199327, 0.10611911853626321, 0.2306891066263803, 0.03375938145751907, 0.06189219933878496, 0.673312107958297, 0.03648660689990915, 0.10884140363362729, 0.059986455411715045, 0.12430183028613118, 0.6697456825864679, 0.9989432021813873, 0.044368456544194024, 0.07394742757365672, 0.881453336677988, 0.12042170166954468, 0.19998816726326954, 0.24536963940579826, 0.2248824656301685, 0.20939797382300648, 0.32786271094897146, 0.060815424537113416, 0.10865689183964264, 0.4765226375952487, 0.026218205244888895, 0.06228698785431355, 0.004449070561022396, 0.9120594650095913, 0.022245352805111984, 0.9948339888462405, 0.9263066025417978, 0.03847735118250544, 0.01140069664666828, 0.017101044970002418, 0.007125435404167674, 0.9399482450181859, 0.00759554137388433, 0.051269904273719226, 0.9945386706989185, 0.0011187161650156564, 0.003915506577554797, 0.07218452575328188, 0.0032082011445903062, 0.018561735193701058, 0.0011457861230679664, 0.9049418799990799, 0.033009320628648454, 0.938931786770445, 0.014670809168288203, 0.012836958022252177, 0.11878014598356362, 0.16344148087338353, 0.007364369050980944, 0.00023756029196712723, 0.7100677126897433, 0.7731311041751139, 0.06899146007818403, 0.13869417232212256, 0.0014225043315089492, 0.01707005197810739, 0.19074363645675757, 0.1868000792285983, 0.3171450234014424, 0.28621923250693004, 0.01930267485362182, 0.6478403347958923, 0.033878925120064095, 0.024844545088047003, 0.29324091853922146, 0.2841376057377653, 0.09414988652168858, 0.3735049781034717, 0.1333477476432681, 0.11478033974357253, 0.775715574267067, 0.13604636864748654, 0.07215124036449813, 0.003230652553634245, 0.01292261021453698, 0.9828207757955943, 0.01217869610651294, 0.004871478442605177, 0.9926299485645514, 0.003659465248164245, 0.0027445989361231837, 0.0009148663120410612, 0.0009148663120410612, 0.9463073400851308, 0.010912934729153074, 0.006235962702373185, 0.03273880418745922, 0.004676972026779889, 0.03197991602164343, 0.9652120108350563, 0.02908956713672786, 0.9610534350266129, 0.0005488597572967521, 0.008781756116748033, 0.001607085827136848, 0.9955896699112774, 0.002410628740705272, 0.0016155080026330705, 0.9563807375587777, 0.04038770006582676, 0.0016155080026330705, 0.07858328552680967, 0.006236768692603941, 0.09105682291201754, 0.6789762183348157, 0.1455246028274253, 0.9061925243805168, 0.04742206359745806, 0.0008622193381356011, 0.04483540558305126, 0.0008622193381356011, 0.0013828366012523156, 0.4343643413044774, 0.012906474945021612, 0.5419182991796575, 0.009526207697515953, 0.26823836341686025, 0.1626695271274221, 0.2739933936745468, 0.19189429015473675, 0.10323085524725295, 0.2751799312454306, 0.11320007301092279, 0.0672077040858283, 0.5441656040497711, 0.00015485646102725414, 0.026737470129896437, 0.698080470130557, 0.15635607532482915, 0.11741236883128435, 0.0014531233766248064, 0.00698961313093214, 0.02473247723252911, 0.968330249908368, 0.9170704507608793, 0.06473438475959148, 0.01078906412659858, 0.006473438475959148, 0.052540160789039024, 0.07193960477268421, 0.07436453527063985, 0.28937503942270726, 0.5116603350686416, 0.9576762398589368, 0.027281543178692698, 0.0028222286046923483, 0.0056444572093846965, 0.0056444572093846965, 0.00019690001560523918, 0.847556117172752, 0.051390904072967425, 0.09608720761535672, 0.00482405038232836, 0.503019522865258, 0.022573175264313516, 0.4743153617266865, 0.000278681176102636, 0.0043257327783056635, 0.9949185390103026, 0.25775791049714813, 0.24501702518740318, 0.1939134742197448, 0.2548177061948993, 0.04844336612276657, 0.9988249303081694, 0.17263364696887426, 0.43391700454338666, 0.24392667739277693, 0.1466919421811191, 0.002612833575745124, 0.07825352538596625, 0.004268374111961796, 0.0711395685326966, 0.0014227913706539319, 0.844782376325772, 0.02925136600998989, 0.05200242846220425, 0.022751062452214362, 0.8937917391941356, 0.006500303557775531, 0.9068059880904352, 0.0730482601517295, 0.020151244179787448, 0.0010638628500050636, 0.28990262662637983, 0.18298441020087092, 0.36118143757671906, 0.16489874175078484, 0.015806346718797767, 0.9845095956279751, 0.15568678374084624, 0.8417761987176497, 0.0001779277528466814, 0.0001779277528466814, 0.002313060787006858, 0.01723540823354087, 0.9824182693118296, 0.8839005830590612, 0.05112362580859106, 0.009417510017372037, 0.03901539864339844, 0.014798944313013202, 0.019073400094638385, 0.013510325067035521, 0.7907513789235496, 0.08900920044164579, 0.08741975043375926, 0.9021359466561627, 0.023448129940447458, 0.01275249172199774, 0.01727756942980339, 0.044428035676637286, 0.04812716488412476, 0.01061628637149811, 0.040341888211692815, 0.9009688367278061, 0.19304033500194726, 0.047168226652059504, 0.5734433480940198, 0.13364330884750195, 0.052845883563881486, 0.004975432415187478, 0.02985259449112487, 0.9453321588856208, 0.019901729660749913, 0.8972513406103353, 0.10009178301629239, 0.9527973266512555, 0.03713373611473524, 0.009962709689319211, 0.0006771249775836874, 0.05755562309461343, 0.9412037188413255, 0.05221893301362497, 0.8959669559179864, 0.05221893301362497, 0.3007960442659968, 0.17656222983112543, 0.2714921316440945, 0.17089844840000146, 0.08027794550201797, 0.005359439207057311, 0.0068907075519308286, 0.9876680824434187, 0.00015823445252019164, 0.1628232516432772, 0.1647220650735195, 0.5417947654291362, 0.1307016577816783, 0.21989822506042983, 0.14942481799287038, 0.28436637939541526, 0.2852495047972644, 0.06093565272758899, 0.8652920135410043, 0.11230928789322768, 0.020419870526041398, 0.0025524838157551747, 0.25689479601177734, 0.08530891718714227, 0.3106212630062329, 0.3455918687751465, 0.0014520666755258257, 0.10640094726539567, 0.007710213569956209, 0.8851325178309727, 0.006164752520545129, 0.9255348450845086, 0.019316224564374734, 0.03739949862464045, 0.011507538038350907, 0.0050339324298778795, 0.9705421724804552, 0.022149302691462668, 0.002013572971951152, 0.009935645003605135, 0.9422303345085536, 0.046366343350157296, 0.03534908420005918, 0.010099738342874053, 0.02680315175608883, 0.048944885815466556, 0.8786772358300425, 0.02292489053452658, 0.17533295908813848, 0.4039450619185563, 0.39672796675027944, 0.0010613375247466009, 0.0012289022126567267, 0.9560859214469334, 0.04055377301767198, 0.0024578044253134534, 0.17831475199086547, 0.011887650132724364, 0.0523056605839872, 0.06657084074325645, 0.6894837076980131, 0.046925115231108254, 0.31003197790392645, 0.3175600712565107, 0.17967049468167653, 0.14579407459504756, 0.9369342659529698, 0.042066436430541504, 0.02039584796632315, 0.008176494447100582, 0.010901992596134108, 0.9811793336520698, 0.0014295266239795267, 0.9978095835377097, 0.1197240417944301, 0.00427585863551536, 0.8679993030096181, 0.00855171727103072, 0.9988782998027248, 0.08176946583991544, 0.910448082336969, 0.0024408795773109087, 0.006102198943277272, 0.7049959983467387, 0.19275570347546783, 0.047922688709370456, 0.05377990621829351, 0.6809274456910094, 0.0827722415514256, 0.07957110513783455, 0.14725227502518806, 0.009603409240773134, 0.12551553940101437, 0.025411121473824995, 0.017710781633271964, 0.05621248083603711, 0.7746541879596347, 0.01888224870893013, 0.9648829090263298, 0.015735207257441777, 0.23830480322804662, 0.004680987206265201, 0.5953364637786379, 0.017021771659146187, 0.1446850591027426, 0.14940385302799697, 0.04348844548232776, 0.07645549286409235, 0.7301850281790838, 0.001402853080075089, 0.01263838622537405, 0.0019443671115960078, 0.09332962135660838, 0.8550354373243445, 0.03694297512032415, 0.048254262148178254, 0.8983923603197415, 0.0007846221487508659, 0.010200087933761258, 0.041977284958171324, 0.9992293115308059, 0.9994867120524741, 0.0002705703064570856, 0.1513959305430348, 0.020631691110471154, 0.19963340553371384, 0.1264054314514782, 0.5018440922223054, 0.13614490863957773, 0.647748267748856, 0.10787952968326402, 0.10662329061853897, 0.0017273287139969492, 0.0218844199767407, 0.9267576111889323, 0.005708979124367139, 0.045671832994937114, 0.022987992125832666, 0.07868966535381182, 0.015251648621946673, 0.20755504428996996, 0.6752722686963346, 0.0012009709493993098, 0.9559728757218506, 0.007205825696395859, 0.034828157532579986, 0.01003801847510471, 0.03376424396171584, 0.9554368494031483, 0.8279130835926545, 0.07133454767247414, 0.03530699834294175, 0.03530699834294175, 0.029542590450216566, 0.05423143311215625, 0.11603004293763662, 0.09774269921376999, 0.7201429838846795, 0.01198136312942987, 0.0020601117204038346, 0.2327926244056333, 0.008240446881615338, 0.7581211131086112, 0.31008643490330895, 0.01206508042781211, 0.5330824041897673, 0.13313192196206466, 0.011649043171680657, 0.09037426079003606, 0.06996716964389889, 0.8114248146202162, 0.02526592237140793, 0.0019435324901083022, 0.06839285227637956, 0.008046217914868184, 0.921291951252407, 0.9985446051126554, 0.0025331253283582956, 0.03039750394029955, 0.049576881426440934, 0.057538132458424145, 0.8598151114541872, 0.22850182947371275, 0.051891741001340225, 0.23696486019496138, 0.0821804825300195, 0.4004349799159216, 0.1979580450612554, 0.2084527023358126, 0.33768103112839926, 0.17058962510995918, 0.08539770135178897, 0.8763113456501395, 0.05970004301266157, 0.03837859907956815, 0.025585732719712102, 0.001066072196654671, 0.034844056677727886, 0.7323259498301775, 0.04325469104821393, 0.18683623494436852, 0.0024030383915674405, 0.09173279307397318, 0.24557261336534456, 0.5404025241789704, 0.074242883110453, 0.04782954969615722, 0.0013986022626721875, 0.9972034132852697, 0.000932401508448125, 0.0247118998998815, 0.8008330950605667, 0.008795760981313756, 0.15999908070770735, 0.00586384065420917, 0.20386653177636416, 0.07779522253306204, 0.15405299007535211, 0.546718994718515, 0.01752698689480054, 0.04517425085027879, 0.9269756274477208, 0.027104550510167275, 0.9988012470203171, 0.0011695564953399498, 0.14764886541630018, 0.2789800309113693, 0.05079542072254177, 0.522692774896207, 0.9613994282713781, 0.006693816732959987, 0.030958902389939938, 0.0016734541832399967, 0.9992498158338496, 0.008243726814225973, 0.011731457389475425, 0.9800522916450956, 0.748857559754997, 0.2079876680599311, 0.018351853064111568, 0.02293981633013946, 0.0020390947849012854, 0.04480715260653641, 0.0002715585006456752, 0.18357354643647644, 0.7714977003343633, 0.8915642131599181, 0.03519332420368098, 0.019551846779822767, 0.054745170983503746, 0.0011672809146180824, 0.008170966402326577, 0.023475316171763655, 0.4269654189914141, 0.5401916677093681, 0.6800557579052986, 0.11845582750480764, 0.18791014363172723, 0.01278300296814471, 0.000852200197876314, 0.33447021374069025, 0.47178311561802055, 0.18882944898504517, 0.0005810136891847543, 0.0042607670540215315, 0.20483975882922084, 0.07817848783718784, 0.7151210515339663, 0.0012120695788711293, 0.0006060347894355646, 0.9865680071178646, 0.009629323938151297, 0.003501572341145926, 0.004966817651058712, 0.2012868205955373, 0.3219282072252002, 0.30807340009329964, 0.1639049824849375, 0.6408011734013289, 0.058024536515829846, 0.2525430330907091, 0.020055460607820385, 0.028622841838345597, 0.25960729301314617, 0.3207253428591428, 0.17595990532221703, 0.23430511358729883, 0.009358340335587379, 0.48969365065070797, 0.15294662176039214, 0.22082494957336157, 0.11746476858543085, 0.018953039584140813, 0.17913302465530476, 0.03495278529859605, 0.0655364724348676, 0.004369098162324506, 0.716532098621219, 0.008900866367440804, 0.9897763400594173, 0.99548274087071, 0.0022676144438968336, 0.0022676144438968336, 0.0032168989776105686, 0.9965953032637541, 0.08984316760980392, 0.0012834738229971986, 0.016428464934364145, 0.2759468719443977, 0.6168375193324537, 0.9424038944761872, 0.027070847956227998, 0.030454703950756497, 0.9224016636185248, 0.07488131586571051, 0.8887197433918366, 0.10986380933762219, 0.7903400793542538, 0.10937029380962907, 0.033795686894946206, 0.055882631873533095, 0.010644310833053923, 0.9655672057736893, 0.031459583145508674, 0.17988733835588963, 0.02746371577952513, 0.05767380313700278, 0.7346543971022973, 0.0006364468096799191, 0.1769322130910175, 0.011456042574238543, 0.7172755545092687, 0.0935576810229481, 0.0015566627869826983, 0.0247509383130249, 0.07627647656215221, 0.897104764138129, 0.0001556662786982698, 0.08692182377532737, 0.08586180153416484, 0.014840311376275405, 0.8125070478510784, 0.9103247041573639, 0.04363875393396505, 0.0385644802207133, 0.006089128455902099, 0.006651990060690007, 0.991146519042811, 0.20473921709810297, 0.003002041306423797, 0.7475082852995255, 0.007805307396701873, 0.03722531219965508, 0.35084611277464367, 0.19911176385135418, 0.2713913389643259, 0.1005582993907475, 0.07808304464758987, 0.05611324499021656, 0.8851411871037387, 0.059733454344424085, 0.7055745789969559, 0.11791636230238112, 0.1744700499319081, 0.0021159542990639353, 0.8350669060919274, 0.005493861224288995, 0.07691405714004594, 0.03479445442049697, 0.04852910748121946, 0.13927585463864103, 0.3696704893565078, 0.28934209112876935, 0.09931147741091047, 0.10250862758912892, 0.05585365992538225, 0.059323857731397124, 0.5694429352155835, 0.3076908721333188, 0.007601385670318294, 0.00015998207928241782, 0.049834417696473156, 0.043035179326970395, 0.3545202876898379, 0.5524181197621888, 0.1968544453814649, 0.4011280281516785, 0.19190835378896579, 0.20150377147841406, 0.008705121202798448, 0.7381640613339527, 0.26151404409758783, 0.08233226722019149, 0.8720955913703978, 0.04564071335032354, 0.053745502970833775, 0.008957583828472296, 0.042228609477083685, 0.8944787280145907, 0.008080323831391257, 0.002020080957847814, 0.07878315735606475, 0.9110565119893642, 0.01175076402394335, 0.983147256669927, 0.019824856632407455, 0.014868642474305591, 0.004956214158101864, 0.8029066936125019, 0.15364263890115776, 0.9853544222896751, 0.012880449964570917, 0.03549958167112583, 0.29925665453985256, 0.17283959220873932, 0.35869034331051575, 0.13364548393835607, 0.9131336233600538, 0.05707085146000336, 0.00713385643250042, 0.02140156929750126, 0.2781569957815602, 0.14489013541071183, 0.3770216340516633, 0.1501673694805349, 0.049833121722633024, 0.02767993888623301, 0.005189988541168689, 0.05881987013324514, 0.9056530004339363, 0.001729996180389563, 0.04130787942570895, 0.06634295786553256, 0.8724724836278527, 0.020028062751858887, 0.8733786862691677, 0.02455281447343042, 0.0008768862311939436, 0.09996503035610957, 0.02808161167153647, 0.05616322334307294, 0.015600895373075819, 0.8268474547730184, 0.07488429779076393, 0.9363496826019186, 0.009376892386571432, 0.03750756954628573, 0.008037336331346942, 0.009376892386571432, 0.04339305266758919, 0.8875851682006879, 0.003944822969780835, 0.059172344546712524, 0.003944822969780835, 0.13058195631766473, 0.11718893515687862, 0.003348255290196532, 0.0011160850967321773, 0.7477770148105588, 0.00227664751646177, 0.05407037851596704, 0.001992066576904049, 0.27888932076656686, 0.6627890082299329, 0.004091171125841931, 0.9941545835795892, 0.0753719951930118, 0.007152087135103309, 0.6959530943004374, 0.11113243086852835, 0.11058227031967426, 0.0038141326420316106, 0.9954886195702504, 0.0006819240695527081, 0.12411018065859288, 0.8749085812361245, 0.022694562695480706, 0.0644525580551652, 0.9114136378505051, 0.0009077825078192282, 0.004454505108292599, 0.017818020433170396, 0.9755366187160791, 0.2920804638872002, 0.2025769587785025, 0.24099493660938204, 0.19489336321232661, 0.0694638572131308, 0.32806469816453815, 0.0003910187105655997, 0.6713791260411347, 0.00298766201764082, 0.9411135355568584, 0.00298766201764082, 0.053777916317534764, 0.014205769360189129, 0.984072386587647, 0.0012914335781990117, 0.2235605342700529, 0.20843732165766699, 0.39357925991240406, 0.15235932209496883, 0.022074254434227912, 0.10829822493750675, 0.206186671086754, 0.23358082579270006, 0.3566718942714177, 0.09514903067865264, 0.019773828684734988, 0.009341966307748813, 0.7613702540815283, 0.025690407346309237, 0.18403673626265163, 0.5242700958371419, 0.1643545141711675, 0.14292601422226844, 0.051802878517241406, 0.11671250943041135, 0.9629992383885628, 0.002268549442611455, 0.01814839554089164, 0.0011342747213057276, 0.01587984609828019, 0.9969339359091661, 0.08599045549024467, 0.07524164855396409, 0.008599045549024468, 0.1526330584951843, 0.6771748369856768, 0.018301159172440174, 0.9772818998083054, 0.003660231834488035, 0.37157973711235853, 0.16420029396320146, 0.3171949263729542, 0.10637908034740622, 0.040489790413127925, 0.9674208230615446, 0.012106517694740604, 0.007704147623925839, 0.012106517694740604, 0.11103035053393985, 0.04384499107528862, 0.11899225189835794, 0.3872974211650495, 0.3387625429846927, 0.001928955432050897, 0.001928955432050897, 0.9972699583703137], \"Term\": [\"accord\", \"accord\", \"accord\", \"accord\", \"accord\", \"account\", \"account\", \"account\", \"account\", \"account\", \"act\", \"act\", \"act\", \"act\", \"act\", \"addit\", \"addit\", \"addit\", \"addit\", \"addit\", \"adequ\", \"adequ\", \"admit\", \"admit\", \"admit\", \"admit\", \"admit\", \"agent\", \"agent\", \"agent\", \"agent\", \"agent\", \"aggrav\", \"aggrav\", \"aggrav\", \"aggrav\", \"aggrav\", \"agreement\", \"agreement\", \"agreement\", \"agreement\", \"agreement\", \"airport\", \"airport\", \"airport\", \"airport\", \"alcohol\", \"alcohol\", \"alcohol\", \"alcohol\", \"alcohol\", \"alien\", \"alien\", \"alien\", \"alien\", \"alien\", \"alleg\", \"alleg\", \"alleg\", \"alleg\", \"alleg\", \"alphabet\", \"also\", \"also\", \"also\", \"also\", \"also\", \"announc\", \"announc\", \"announc\", \"announc\", \"announc\", \"apprehend\", \"apprehend\", \"apprehend\", \"assault\", \"assault\", \"assault\", \"assault\", \"attack\", \"attack\", \"attack\", \"attack\", \"bank\", \"bank\", \"bank\", \"bank\", \"bank\", \"base\", \"base\", \"base\", \"base\", \"base\", \"beneficiari\", \"beneficiari\", \"beneficiari\", \"bill\", \"bill\", \"bill\", \"bill\", \"bill\", \"billion\", \"billion\", \"billion\", \"billion\", \"border\", \"border\", \"border\", \"border\", \"border\", \"bribe\", \"briberi\", \"busi\", \"busi\", \"busi\", \"busi\", \"busi\", \"caption\", \"caption\", \"care\", \"care\", \"care\", \"care\", \"care\", \"carolin\", \"ceo\", \"charg\", \"charg\", \"charg\", \"charg\", \"charg\", \"check\", \"check\", \"check\", \"check\", \"child\", \"child\", \"child\", \"child\", \"childhood\", \"children\", \"children\", \"children\", \"children\", \"china\", \"china\", \"china\", \"china\", \"chines\", \"chines\", \"chines\", \"chines\", \"ciraolo\", \"citizenship\", \"citizenship\", \"citizenship\", \"claim\", \"claim\", \"claim\", \"claim\", \"claim\", \"clean\", \"clean\", \"clean\", \"client\", \"client\", \"client\", \"client\", \"clinic\", \"clinic\", \"clinic\", \"cocain\", \"combat\", \"combat\", \"combat\", \"combat\", \"combat\", \"comment\", \"comment\", \"comment\", \"comment\", \"communiti\", \"communiti\", \"communiti\", \"communiti\", \"communiti\", \"compani\", \"compani\", \"compani\", \"compani\", \"competit\", \"competit\", \"competit\", \"competit\", \"complaint\", \"complaint\", \"complaint\", \"complaint\", \"complaint\", \"compli\", \"compli\", \"compli\", \"compli\", \"compli\", \"complianc\", \"complianc\", \"complianc\", \"comput\", \"comput\", \"comput\", \"comput\", \"consent\", \"consent\", \"consent\", \"consent\", \"conspiraci\", \"conspiraci\", \"conspiraci\", \"conspiraci\", \"consum\", \"consum\", \"consum\", \"contract\", \"contract\", \"contract\", \"contract\", \"corrupt\", \"corrupt\", \"corrupt\", \"corrupt\", \"corrupt\", \"count\", \"count\", \"count\", \"count\", \"count\", \"counterintellig\", \"counterintellig\", \"counterterror\", \"counterterror\", \"counti\", \"counti\", \"counti\", \"counti\", \"counti\", \"court\", \"court\", \"court\", \"court\", \"court\", \"crime\", \"crime\", \"crime\", \"crime\", \"crime\", \"crimin\", \"crimin\", \"crimin\", \"crimin\", \"crimin\", \"custom\", \"custom\", \"custom\", \"custom\", \"custom\", \"cyber\", \"cyber\", \"cyber\", \"dcis\", \"dcis\", \"death\", \"death\", \"death\", \"death\", \"decemb\", \"decemb\", \"decemb\", \"decemb\", \"decemb\", \"decre\", \"deduct\", \"deduct\", \"deduct\", \"defend\", \"defend\", \"defend\", \"defend\", \"defend\", \"deputi\", \"deputi\", \"deputi\", \"deputi\", \"deputi\", \"digit\", \"digit\", \"digit\", \"digit\", \"dirti\", \"disabl\", \"disabl\", \"disabl\", \"disabl\", \"disabl\", \"discharg\", \"discharg\", \"discharg\", \"discrimin\", \"discrimin\", \"discrimin\", \"distribut\", \"distribut\", \"distribut\", \"distribut\", \"distribut\", \"doctor\", \"doctor\", \"doctor\", \"doctor\", \"drug\", \"drug\", \"drug\", \"drug\", \"drug\", \"effect\", \"effect\", \"effect\", \"effect\", \"effect\", \"effort\", \"effort\", \"effort\", \"effort\", \"effort\", \"employ\", \"employ\", \"employ\", \"employ\", \"enforc\", \"enforc\", \"enforc\", \"enforc\", \"enforc\", \"ensur\", \"ensur\", \"ensur\", \"ensur\", \"ensur\", \"environ\", \"environ\", \"environ\", \"environment\", \"environment\", \"environment\", \"environment\", \"environment\", \"equal\", \"equal\", \"equal\", \"equal\", \"equal\", \"evas\", \"evas\", \"exploit\", \"exploit\", \"exploit\", \"exploit\", \"export\", \"export\", \"export\", \"extradit\", \"extradit\", \"extradit\", \"extradit\", \"face\", \"face\", \"face\", \"face\", \"face\", \"fair\", \"fair\", \"fair\", \"fair\", \"fair\", \"fals\", \"fals\", \"fals\", \"fals\", \"fals\", \"feder\", \"feder\", \"feder\", \"feder\", \"feder\", \"file\", \"file\", \"file\", \"file\", \"file\", \"financi\", \"financi\", \"financi\", \"financi\", \"financi\", \"firearm\", \"firearm\", \"firearm\", \"fish\", \"fish\", \"fish\", \"fish\", \"five\", \"five\", \"five\", \"five\", \"five\", \"food\", \"food\", \"food\", \"food\", \"food\", \"fraud\", \"fraud\", \"fraud\", \"fraud\", \"fraud\", \"fraudul\", \"fraudul\", \"fraudul\", \"fraudul\", \"gang\", \"gang\", \"general\", \"general\", \"general\", \"general\", \"general\", \"goldberg\", \"govern\", \"govern\", \"govern\", \"govern\", \"govern\", \"grant\", \"grant\", \"grant\", \"grant\", \"grant\", \"gross\", \"gross\", \"gross\", \"gross\", \"gross\", \"guidanc\", \"guidanc\", \"guidanc\", \"guilti\", \"guilti\", \"guilti\", \"guilti\", \"guilti\", \"hate\", \"hate\", \"health\", \"health\", \"health\", \"health\", \"health\", \"healthcar\", \"healthcar\", \"hire\", \"hire\", \"hire\", \"hire\", \"hire\", \"homeland\", \"homeland\", \"homeland\", \"homeland\", \"homeland\", \"hous\", \"hous\", \"hous\", \"hous\", \"hous\", \"ident\", \"ident\", \"ident\", \"ident\", \"identifi\", \"identifi\", \"identifi\", \"identifi\", \"identifi\", \"imag\", \"imag\", \"imag\", \"imag\", \"impair\", \"impair\", \"implement\", \"implement\", \"implement\", \"imprison\", \"imprison\", \"imprison\", \"incept\", \"incept\", \"incept\", \"includ\", \"includ\", \"includ\", \"includ\", \"includ\", \"incom\", \"incom\", \"incom\", \"indict\", \"indict\", \"indict\", \"indict\", \"indict\", \"individu\", \"individu\", \"individu\", \"individu\", \"individu\", \"induc\", \"induc\", \"induc\", \"induc\", \"inform\", \"inform\", \"inform\", \"inform\", \"inform\", \"inmat\", \"inmat\", \"inmat\", \"inspector\", \"inspector\", \"inspector\", \"inspector\", \"inspector\", \"insur\", \"insur\", \"insur\", \"insur\", \"intellig\", \"intellig\", \"intellig\", \"intent\", \"intent\", \"intent\", \"intent\", \"intent\", \"intern\", \"intern\", \"intern\", \"intern\", \"intern\", \"internet\", \"internet\", \"internet\", \"internet\", \"interst\", \"interst\", \"interst\", \"interst\", \"interst\", \"investig\", \"investig\", \"investig\", \"investig\", \"investig\", \"investor\", \"investor\", \"investor\", \"iraq\", \"iraq\", \"iraq\", \"isi\", \"isi\", \"islam\", \"islam\", \"islam\", \"islam\", \"kickback\", \"launch\", \"launch\", \"launch\", \"launch\", \"launder\", \"launder\", \"launder\", \"launder\", \"law\", \"law\", \"law\", \"law\", \"law\", \"life\", \"life\", \"life\", \"life\", \"life\", \"loan\", \"loan\", \"loan\", \"local\", \"local\", \"local\", \"local\", \"local\", \"materi\", \"materi\", \"materi\", \"materi\", \"materi\", \"maximum\", \"maximum\", \"maximum\", \"maximum\", \"maximum\", \"medic\", \"medic\", \"medic\", \"medic\", \"medic\", \"medicaid\", \"medicar\", \"medicar\", \"member\", \"member\", \"member\", \"member\", \"member\", \"million\", \"million\", \"million\", \"million\", \"million\", \"minor\", \"minor\", \"minor\", \"minor\", \"month\", \"month\", \"month\", \"month\", \"month\", \"mortgag\", \"mortgag\", \"mortgag\", \"mortgag\", \"murder\", \"murder\", \"murder\", \"must\", \"must\", \"must\", \"must\", \"must\", \"name\", \"name\", \"name\", \"name\", \"name\", \"narcot\", \"narcot\", \"narcot\", \"narcot\", \"nation\", \"nation\", \"nation\", \"nation\", \"nation\", \"network\", \"network\", \"network\", \"network\", \"network\", \"nomine\", \"nomine\", \"nomine\", \"obscen\", \"offens\", \"offens\", \"offens\", \"offens\", \"offens\", \"offic\", \"offic\", \"offic\", \"offic\", \"offic\", \"oper\", \"oper\", \"oper\", \"oper\", \"oper\", \"opportun\", \"opportun\", \"opportun\", \"opportun\", \"opportun\", \"paid\", \"paid\", \"paid\", \"paid\", \"paid\", \"partner\", \"partner\", \"partner\", \"partner\", \"partner\", \"patient\", \"patient\", \"patient\", \"payment\", \"payment\", \"payment\", \"payment\", \"payment\", \"person\", \"person\", \"person\", \"person\", \"person\", \"pharmaci\", \"pharmaci\", \"pharmaci\", \"physician\", \"physician\", \"polic\", \"polic\", \"polic\", \"polic\", \"polici\", \"polici\", \"polici\", \"polici\", \"pornographi\", \"possess\", \"possess\", \"possess\", \"practic\", \"practic\", \"practic\", \"practic\", \"practic\", \"prepar\", \"prepar\", \"prepar\", \"prepar\", \"principl\", \"principl\", \"principl\", \"principl\", \"prison\", \"prison\", \"prison\", \"prison\", \"prison\", \"product\", \"product\", \"product\", \"product\", \"product\", \"program\", \"program\", \"program\", \"program\", \"program\", \"project\", \"project\", \"project\", \"project\", \"project\", \"propos\", \"propos\", \"propos\", \"prosecut\", \"prosecut\", \"prosecut\", \"prosecut\", \"prosecut\", \"protect\", \"protect\", \"protect\", \"protect\", \"protect\", \"provid\", \"provid\", \"provid\", \"provid\", \"provid\", \"public\", \"public\", \"public\", \"public\", \"public\", \"quantiti\", \"quantiti\", \"quantiti\", \"quantiti\", \"quantiti\", \"racket\", \"racket\", \"reform\", \"reform\", \"reform\", \"refund\", \"refund\", \"releas\", \"releas\", \"releas\", \"releas\", \"releas\", \"religi\", \"religi\", \"religi\", \"religion\", \"religion\", \"remedi\", \"remedi\", \"requir\", \"requir\", \"requir\", \"requir\", \"requir\", \"rescu\", \"rescu\", \"residenti\", \"residenti\", \"residenti\", \"residenti\", \"restitut\", \"restitut\", \"restitut\", \"restitut\", \"restitut\", \"return\", \"return\", \"return\", \"return\", \"return\", \"revenu\", \"revenu\", \"revenu\", \"revenu\", \"review\", \"review\", \"review\", \"review\", \"rig\", \"rig\", \"safe\", \"safe\", \"safe\", \"safe\", \"safe\", \"said\", \"said\", \"said\", \"said\", \"said\", \"scam\", \"scam\", \"scam\", \"scheme\", \"scheme\", \"scheme\", \"scheme\", \"school\", \"school\", \"school\", \"school\", \"school\", \"section\", \"section\", \"section\", \"section\", \"section\", \"secur\", \"secur\", \"secur\", \"secur\", \"secur\", \"sentenc\", \"sentenc\", \"sentenc\", \"sentenc\", \"sentenc\", \"servic\", \"servic\", \"servic\", \"servic\", \"servic\", \"settlement\", \"settlement\", \"sexual\", \"sexual\", \"sexual\", \"sheriff\", \"sheriff\", \"sheriff\", \"sheriff\", \"shoot\", \"shoot\", \"shoot\", \"shoot\", \"shot\", \"shot\", \"sit\", \"sit\", \"sit\", \"sit\", \"sit\", \"smuggl\", \"smuggl\", \"special\", \"special\", \"special\", \"special\", \"special\", \"standard\", \"standard\", \"standard\", \"standard\", \"state\", \"state\", \"state\", \"state\", \"state\", \"statutori\", \"statutori\", \"statutori\", \"statutori\", \"statutori\", \"stolen\", \"stolen\", \"stolen\", \"stolen\", \"strike\", \"strike\", \"strike\", \"strike\", \"stuart\", \"stuart\", \"stuart\", \"stuart\", \"stuart\", \"student\", \"student\", \"student\", \"student\", \"student\", \"submiss\", \"submiss\", \"submiss\", \"submiss\", \"submiss\", \"substanc\", \"substanc\", \"substanc\", \"substanc\", \"substanc\", \"supervis\", \"supervis\", \"supervis\", \"supervis\", \"supervis\", \"syria\", \"syria\", \"task\", \"task\", \"task\", \"task\", \"task\", \"tax\", \"tax\", \"terrorist\", \"terrorist\", \"terrorist\", \"theft\", \"theft\", \"theft\", \"theft\", \"tobacco\", \"tobacco\", \"tobacco\", \"today\", \"today\", \"today\", \"today\", \"today\", \"traffick\", \"traffick\", \"traffick\", \"transnat\", \"transnat\", \"transnat\", \"transnat\", \"tribal\", \"tribal\", \"tribal\", \"unit\", \"unit\", \"unit\", \"unit\", \"unit\", \"use\", \"use\", \"use\", \"use\", \"use\", \"victim\", \"victim\", \"victim\", \"victim\", \"victim\", \"violat\", \"violat\", \"violat\", \"violat\", \"violat\", \"water\", \"water\", \"water\", \"water\", \"water\", \"whistleblow\", \"wit\", \"wit\", \"wit\", \"wit\", \"wit\", \"withheld\", \"withheld\", \"withheld\", \"work\", \"work\", \"work\", \"work\", \"work\", \"worker\", \"worker\", \"worker\", \"worker\", \"year\", \"year\", \"year\", \"year\", \"year\", \"zuckerman\", \"zuckerman\", \"zuckerman\"]}, \"R\": 30, \"lambda.step\": 0.01, \"plot.opts\": {\"xlab\": \"PC1\", \"ylab\": \"PC2\"}, \"topic.order\": [5, 4, 3, 2, 1]};\n",
       "\n",
       "function LDAvis_load_lib(url, callback){\n",
       "  var s = document.createElement('script');\n",
       "  s.src = url;\n",
       "  s.async = true;\n",
       "  s.onreadystatechange = s.onload = callback;\n",
       "  s.onerror = function(){console.warn(\"failed to load library \" + url);};\n",
       "  document.getElementsByTagName(\"head\")[0].appendChild(s);\n",
       "}\n",
       "\n",
       "if(typeof(LDAvis) !== \"undefined\"){\n",
       "   // already loaded: just create the visualization\n",
       "   !function(LDAvis){\n",
       "       new LDAvis(\"#\" + \"ldavis_el731402978415132969758451422\", ldavis_el731402978415132969758451422_data);\n",
       "   }(LDAvis);\n",
       "}else if(typeof define === \"function\" && define.amd){\n",
       "   // require.js is available: use it to load d3/LDAvis\n",
       "   require.config({paths: {d3: \"https://d3js.org/d3.v5\"}});\n",
       "   require([\"d3\"], function(d3){\n",
       "      window.d3 = d3;\n",
       "      LDAvis_load_lib(\"https://cdn.jsdelivr.net/gh/bmabey/pyLDAvis@3.3.1/pyLDAvis/js/ldavis.v3.0.0.js\", function(){\n",
       "        new LDAvis(\"#\" + \"ldavis_el731402978415132969758451422\", ldavis_el731402978415132969758451422_data);\n",
       "      });\n",
       "    });\n",
       "}else{\n",
       "    // require.js not available: dynamically load d3 & LDAvis\n",
       "    LDAvis_load_lib(\"https://d3js.org/d3.v5.js\", function(){\n",
       "         LDAvis_load_lib(\"https://cdn.jsdelivr.net/gh/bmabey/pyLDAvis@3.3.1/pyLDAvis/js/ldavis.v3.0.0.js\", function(){\n",
       "                 new LDAvis(\"#\" + \"ldavis_el731402978415132969758451422\", ldavis_el731402978415132969758451422_data);\n",
       "            })\n",
       "         });\n",
       "}\n",
       "</script>"
      ],
      "text/plain": [
       "<IPython.core.display.HTML object>"
      ]
     },
     "execution_count": 156,
     "metadata": {},
     "output_type": "execute_result"
    }
   ],
   "source": [
    "pyLDAvis.enable_notebook()\n",
    "lda_display_proc = gensimvis.prepare(trump_ldamod, trump_corpus_fromdic, trump_text_dict)\n",
    "pyLDAvis.display(lda_display_proc)"
   ]
  },
  {
   "cell_type": "markdown",
   "metadata": {
    "id": "BQU-G2fQkUi5"
   },
   "source": [
    "## topic mode of **Biden**"
   ]
  },
  {
   "cell_type": "code",
   "execution_count": 148,
   "metadata": {
    "id": "QNGCX7gGTxki"
   },
   "outputs": [],
   "source": [
    "biden_lda = biden_doj[biden_doj.processed_text != \"\"].copy(deep=True)\n",
    "\n",
    "biden_tokenized_text = [wordpunct_tokenize(one_text) \n",
    "                for one_text in \n",
    "               biden_lda.processed_text]\n"
   ]
  },
  {
   "cell_type": "code",
   "execution_count": null,
   "metadata": {
    "id": "e6GUdhkPVbRx"
   },
   "outputs": [],
   "source": [
    "biden_ldamod, biden_corpus_fromdic, biden_text_dict = visualize_topic_model(biden_tokenized_text,biden_lda, n_topic=5)"
   ]
  },
  {
   "cell_type": "code",
   "execution_count": 152,
   "metadata": {
    "colab": {
     "base_uri": "https://localhost:8080/",
     "height": 881
    },
    "id": "Ntg4WrpjkzHq",
    "outputId": "119ac0b1-127d-4197-ad5b-80273a7b00a3"
   },
   "outputs": [
    {
     "data": {
      "text/html": [
       "\n",
       "<link rel=\"stylesheet\" type=\"text/css\" href=\"https://cdn.jsdelivr.net/gh/bmabey/pyLDAvis@3.3.1/pyLDAvis/js/ldavis.v1.0.0.css\">\n",
       "\n",
       "\n",
       "<div id=\"ldavis_el731402974425077281509284917\"></div>\n",
       "<script type=\"text/javascript\">\n",
       "\n",
       "var ldavis_el731402974425077281509284917_data = {\"mdsDat\": {\"x\": [-0.09750879212807871, 0.10978795415983997, -0.001862439252953497, -0.10600592007106785, 0.09558919729226019], \"y\": [0.08423447446761972, 0.10379995861814377, 0.006021729001584965, -0.07628411258895929, -0.11777204949838925], \"topics\": [1, 2, 3, 4, 5], \"cluster\": [1, 1, 1, 1, 1], \"Freq\": [26.421931487332234, 22.237349710838895, 20.682523309357656, 16.560060187635457, 14.098135304835772]}, \"tinfo\": {\"Term\": [\"fraud\", \"health\", \"prepar\", \"return\", \"claim\", \"care\", \"crime\", \"fals\", \"victim\", \"offic\", \"medic\", \"consum\", \"discrimin\", \"compani\", \"loan\", \"violat\", \"sentenc\", \"file\", \"disabl\", \"patient\", \"fraudul\", \"medicar\", \"busi\", \"complaint\", \"hous\", \"polic\", \"drug\", \"settlement\", \"scheme\", \"alleg\", \"gang\", \"murder\", \"attack\", \"pornographi\", \"childhood\", \"traffick\", \"counterterror\", \"kidnap\", \"firearm\", \"ceo\", \"tobacco\", \"apprehend\", \"terrorist\", \"shoot\", \"obscen\", \"terror\", \"extort\", \"rescu\", \"racket\", \"heinous\", \"child\", \"brutal\", \"dismantl\", \"cyber\", \"kill\", \"imag\", \"monaco\", \"narcot\", \"violent\", \"islam\", \"violenc\", \"hate\", \"leader\", \"crime\", \"victim\", \"organ\", \"network\", \"smuggl\", \"disrupt\", \"threat\", \"member\", \"polic\", \"travel\", \"target\", \"task\", \"exploit\", \"fight\", \"comput\", \"children\", \"enforc\", \"support\", \"human\", \"state\", \"crimin\", \"countri\", \"prosecut\", \"sentenc\", \"nation\", \"investig\", \"charg\", \"includ\", \"commit\", \"feder\", \"secur\", \"defend\", \"said\", \"general\", \"communiti\", \"unit\", \"today\", \"act\", \"forc\", \"year\", \"court\", \"provid\", \"work\", \"guilti\", \"prison\", \"payrol\", \"goldberg\", \"coronavirus\", \"loan\", \"withheld\", \"culpabl\", \"paycheck\", \"stuart\", \"withhold\", \"tax\", \"subscrib\", \"har\", \"luxuri\", \"hotlin\", \"evas\", \"ncdf\", \"mortgag\", \"investor\", \"deposit\", \"wire\", \"augment\", \"disast\", \"client\", \"citizenship\", \"estat\", \"small\", \"cash\", \"bolster\", \"fraudul\", \"rent\", \"proceed\", \"defraud\", \"fraud\", \"factor\", \"expens\", \"count\", \"consid\", \"fals\", \"relief\", \"scheme\", \"busi\", \"statutori\", \"sentenc\", \"money\", \"indict\", \"maximum\", \"charg\", \"fund\", \"judg\", \"made\", \"return\", \"prison\", \"document\", \"year\", \"guilti\", \"conspiraci\", \"court\", \"face\", \"million\", \"crimin\", \"prosecut\", \"general\", \"alleg\", \"feder\", \"investig\", \"act\", \"defend\", \"accord\", \"section\", \"pollut\", \"china\", \"export\", \"clean\", \"counterintellig\", \"plant\", \"environment\", \"sanction\", \"engin\", \"armi\", \"hazard\", \"water\", \"environ\", \"sensit\", \"natur\", \"antitrust\", \"russian\", \"chines\", \"anticompetit\", \"procur\", \"kanter\", \"contract\", \"secret\", \"economi\", \"industri\", \"alloc\", \"instal\", \"briberi\", \"subsidiari\", \"agricultur\", \"competit\", \"trade\", \"militari\", \"corrupt\", \"regul\", \"discharg\", \"defens\", \"price\", \"compani\", \"govern\", \"foreign\", \"research\", \"transact\", \"unit\", \"violat\", \"said\", \"market\", \"state\", \"secur\", \"control\", \"nation\", \"requir\", \"offici\", \"crimin\", \"intern\", \"conduct\", \"includ\", \"today\", \"investig\", \"million\", \"work\", \"inform\", \"court\", \"also\", \"servic\", \"charg\", \"general\", \"feder\", \"enforc\", \"alleg\", \"protect\", \"public\", \"provid\", \"harass\", \"inmat\", \"disabl\", \"discriminatori\", \"student\", \"titl\", \"karlan\", \"equal\", \"discrimin\", \"mental\", \"barrier\", \"pamela\", \"color\", \"school\", \"constitut\", \"jail\", \"vote\", \"correct\", \"hous\", \"religion\", \"femal\", \"english\", \"kristen\", \"retali\", \"depriv\", \"uphold\", \"right\", \"pattern\", \"race\", \"conclud\", \"fair\", \"opportun\", \"access\", \"offic\", \"lawsuit\", \"ensur\", \"agreement\", \"violat\", \"peopl\", \"sexual\", \"employ\", \"communiti\", \"public\", \"practic\", \"said\", \"protect\", \"enforc\", \"work\", \"settlement\", \"inform\", \"general\", \"also\", \"today\", \"feder\", \"requir\", \"state\", \"provid\", \"court\", \"servic\", \"individu\", \"includ\", \"enjoin\", \"alphabet\", \"dirti\", \"directori\", \"whistleblow\", \"ghost\", \"physician\", \"medicaid\", \"beneficiari\", \"injunct\", \"caption\", \"threshold\", \"patient\", \"adjust\", \"medicar\", \"pharmaci\", \"unscrupul\", \"boynton\", \"prescript\", \"laboratori\", \"decreas\", \"scam\", \"kickback\", \"healthcar\", \"emphasi\", \"branch\", \"consum\", \"liabil\", \"bill\", \"health\", \"taxpay\", \"prepar\", \"claim\", \"medic\", \"care\", \"test\", \"food\", \"complaint\", \"drug\", \"file\", \"free\", \"return\", \"alleg\", \"resolv\", \"servic\", \"settlement\", \"fals\", \"program\", \"fraud\", \"websit\", \"feder\", \"inform\", \"provid\", \"state\", \"defend\", \"unit\", \"million\", \"general\", \"said\", \"busi\", \"court\", \"also\"], \"Freq\": [3922.0, 1972.0, 1560.0, 2095.0, 1430.0, 1629.0, 2275.0, 2173.0, 2520.0, 1798.0, 1110.0, 938.0, 805.0, 2310.0, 990.0, 2297.0, 3757.0, 2203.0, 695.0, 656.0, 1283.0, 623.0, 1912.0, 1749.0, 829.0, 1336.0, 1130.0, 1414.0, 1863.0, 4065.0, 406.9705737110444, 469.0630487489252, 619.3275628409205, 193.06860162741452, 179.53481669589308, 560.900108359352, 131.1669722829045, 149.40282375770008, 502.0946339453849, 124.2887648180881, 129.0981602099884, 84.50666883548374, 297.34556257254854, 140.8045836409918, 83.1661596639595, 378.97244752010175, 125.15120692636778, 89.68056971117733, 183.4565243601268, 67.97950784112764, 686.0720852274314, 50.13530001681048, 111.1533414243369, 229.28487625343044, 261.8068635870858, 189.63862408151599, 102.77536234353298, 109.05217684541286, 526.894958369832, 96.15399933468125, 707.2809230811213, 521.2047985641691, 247.3424174289691, 1874.85662275059, 1992.307216439316, 839.5966409785934, 332.6644638246788, 238.10465367350517, 226.92979564045817, 435.9381736459223, 872.597001330022, 944.3195962108188, 314.88476432732347, 402.6060536868166, 483.56032819873764, 494.8692817308827, 299.6496274532695, 383.3378766663573, 460.1331276985614, 1629.6545233386455, 714.6701969904791, 561.4908628462518, 1704.8548596380313, 1527.819429193905, 528.356267130798, 1132.9589902851055, 1314.4048514158626, 1005.4420380450549, 1140.9771668402984, 1314.6844414056377, 1029.5597866577962, 936.4956221072532, 1220.5975845063024, 796.8683952000304, 1030.666887490245, 1080.410548227356, 1107.0676844610866, 673.3156345958964, 987.0762345696342, 911.98590203561, 880.6081147063835, 707.7149239506922, 803.3336514668422, 863.5462719486584, 774.1531421463038, 753.1864104818591, 740.748851884685, 719.2409828163181, 291.67804886241504, 255.00994305117575, 110.30701840648325, 959.0303116870442, 58.01479264972402, 36.22025271806331, 126.28894408575468, 232.45602787754933, 68.1804144854667, 332.3236737070974, 56.131379604639385, 34.816008308896635, 133.43756922184127, 261.10086577498873, 116.87132707701055, 154.81278693657487, 113.79523070512461, 248.83750353808028, 128.84793855768467, 584.0331285025319, 35.889774972921025, 147.49940665796186, 415.53586506448255, 246.2751247951151, 83.34080837094449, 342.6664474173106, 234.12432635568166, 35.72639193158603, 1004.9920671875863, 93.35123930839063, 644.7826181478001, 463.11951038730905, 2787.1587291371575, 433.78800389682857, 430.56376473893243, 1188.6342672210158, 444.3215033512079, 1245.0562453509142, 326.4622634163582, 1083.0101676454854, 1091.5546574413709, 514.181244624115, 1884.7650466489745, 686.1956779494895, 1244.4569645216905, 644.7878564107937, 2109.7034755622694, 854.5179598607973, 721.763954531178, 872.1432434120939, 1076.5382642884408, 1099.121534334742, 928.0871859011601, 1278.0946174773533, 1103.0708314905958, 904.7169992680665, 1552.840452068036, 705.7318680694761, 1003.8096323163329, 1364.439319533359, 1081.7838255361057, 1230.4673886292824, 1175.1482708586445, 1148.1269560621197, 1020.9587636471994, 952.2962008958815, 918.6630210636739, 783.8253642003506, 764.2127189834123, 204.77185385656352, 263.67361006060736, 406.87666773652944, 272.4698522830712, 202.65139545048208, 111.80710653342507, 403.72064807805344, 307.5138614549487, 123.9970360786622, 182.50491251152934, 119.55477952175276, 398.6029070784304, 294.11540760919434, 98.16617460192984, 408.35066845347313, 576.5530552814488, 175.99260091177268, 216.32511762316906, 77.69303462332536, 211.78589993986418, 31.024535971034975, 532.9312503937446, 230.2802528716597, 56.904315944069445, 223.17392607201685, 71.44543989976725, 100.97004130283251, 126.56878454882488, 76.75104735847188, 73.91460938292967, 322.2084330648044, 348.80205768341574, 389.0821045347415, 303.0771611743013, 256.18336646791283, 193.66176470619837, 299.1976486565422, 285.41676972737304, 1263.9022006258886, 1043.2757724783785, 558.9467759437326, 274.94507755994283, 246.63949032378602, 1334.9945090613023, 881.2666903544251, 1167.500314804775, 347.12211892412927, 1204.5020491782218, 677.7572060421054, 490.4007200605599, 784.7550475490219, 563.5034698949848, 392.9150319185204, 940.02078098983, 464.2204769216805, 528.0807580710799, 685.6471730758384, 690.3482207266275, 718.4567928074437, 611.4714871356405, 614.6740919280967, 637.2229937653151, 700.6013842749635, 622.4536998195216, 615.0002973492345, 698.9036818541299, 668.7263685297797, 671.3447705609702, 619.7353395572525, 619.1702963693041, 545.9720771181205, 504.60464236857666, 515.6065073005177, 364.3676915283668, 423.8001939023726, 681.6550974866062, 112.16496876314596, 302.3091739056161, 325.85852109043, 180.94679635298797, 322.0366789922283, 772.8986190241083, 145.21920647719392, 117.899989179911, 165.67705876875058, 249.31006482180635, 456.6816847568222, 312.63918408436587, 113.61732442516585, 268.45074559386546, 411.68102373407527, 697.7959328886355, 97.56508137073261, 180.23956972360668, 240.64379372838835, 230.77540611235085, 186.97114173523573, 143.4102789434208, 54.72095094256489, 261.74586634151217, 65.82314999345706, 207.9601755533315, 87.3539449189954, 310.04472677762186, 336.87697654002307, 581.191265736434, 1127.185695776482, 250.66876571636752, 604.1104402669187, 575.9881938795206, 907.103413413028, 491.3411588296941, 479.92134772051537, 524.8914589021865, 578.1542082931282, 628.6383247213711, 357.86671164571885, 876.0626710172023, 653.902035190143, 835.3786981554201, 687.925529070748, 507.6789683863787, 696.0879907692652, 803.6314085025757, 682.9698364147412, 664.012323197712, 738.9456922082551, 484.84364155457126, 678.5164848327228, 592.31824544213, 581.6712532681718, 523.6920817842546, 499.01201792059817, 499.95231310079816, 214.7975106939195, 71.63079570205554, 71.33458035804206, 71.1900711891595, 111.04614027636373, 65.99944848831319, 175.95860294216482, 240.0388248880195, 169.41053064413643, 332.1073132534067, 64.76129754881975, 75.29373605326003, 616.8231939274237, 80.03695963593395, 580.2859848583499, 152.67980927107877, 90.63799591801144, 180.98316743403308, 268.38400311450107, 132.87735152541822, 65.01920970727828, 123.76856294847924, 312.0767248689867, 110.4294552574934, 28.437622209202754, 394.3560906772783, 772.929925589129, 196.16016570185306, 267.8883192207728, 1536.1072220604929, 369.5818216093338, 1144.1412650875861, 1007.2494486640381, 788.0461201152424, 973.7554864574151, 315.21823908570815, 214.84527306850336, 810.5806323300444, 572.9321463753496, 944.4652848725655, 367.30064582198185, 890.6591041860758, 1216.2646149418322, 385.6563607186016, 862.6699795363749, 527.5534501124084, 649.5753094394358, 578.6919156066132, 826.3399770814138, 377.0028632459479, 792.9380320745751, 634.2903047706526, 611.2654446149079, 640.8347948905871, 570.8672072760552, 571.7790208583453, 487.43133900161877, 564.9392995605142, 504.02458496173847, 446.4707743307513, 441.0092214257957, 421.4544470409899], \"Total\": [3922.0, 1972.0, 1560.0, 2095.0, 1430.0, 1629.0, 2275.0, 2173.0, 2520.0, 1798.0, 1110.0, 938.0, 805.0, 2310.0, 990.0, 2297.0, 3757.0, 2203.0, 695.0, 656.0, 1283.0, 623.0, 1912.0, 1749.0, 829.0, 1336.0, 1130.0, 1414.0, 1863.0, 4065.0, 407.99578297149304, 470.52785471967337, 621.8584281479143, 193.9641507779806, 180.44384056607532, 564.8457037319262, 132.25206248106187, 150.68483710703393, 507.0214165878047, 125.59127875464378, 130.49445708645396, 85.42909216134748, 300.6088650982322, 142.3761960966892, 84.54807974054485, 386.9434431244389, 127.90924385115018, 91.67271861920797, 188.34673596270852, 69.81090708661924, 710.1332359338724, 51.897330366545894, 115.88132988293077, 240.3021042961684, 275.47699545488774, 199.88273226051365, 108.50229803747854, 115.70061712816425, 561.4142475453197, 103.27838287156875, 784.0492963247701, 578.5528837418931, 270.33030197786513, 2275.474446474531, 2520.893888303076, 1052.8351881134374, 385.2901722421975, 267.30761877951215, 255.02087077610594, 528.922816424175, 1172.3700578003554, 1336.9819144628138, 372.3173182084642, 499.97149275451306, 630.0242308219562, 651.2183967834995, 355.5034648085559, 486.34476089447793, 644.9241704589055, 3640.301296227489, 1226.2824368514448, 887.2762389250599, 4623.91553206361, 4142.147875834821, 834.9689626969246, 2945.3407256207192, 3757.8469097892626, 2632.397129843482, 3383.965111694204, 4719.9047543967135, 2957.4571235133276, 2465.81430315267, 4571.953035412223, 1894.1733418705899, 3314.7788236682677, 3714.0830194082387, 4374.832149683239, 1366.0842704762954, 3638.205715971957, 3039.8002881699786, 2934.898565875185, 1597.8523112601597, 2950.8113788539667, 4139.668582985626, 3074.8800531201687, 2658.0771501452427, 2421.62820934025, 2255.2118058201404, 292.80125375656417, 257.31212943368456, 111.41383247677163, 990.1156972468767, 59.9471751316309, 37.74911009701231, 131.66478745976914, 242.3806605817084, 72.51202273117231, 355.14550748328185, 60.21523791080724, 37.70226911827096, 145.0142995326796, 286.0380193065851, 129.9119832806424, 172.89071331030408, 128.11336227161524, 285.09244624128917, 147.88425064812753, 673.9048357575267, 42.26095580335535, 176.56994526910876, 498.89311934444623, 296.56208343892376, 101.47195335373053, 417.85536407937104, 286.61508116518803, 44.59821623348345, 1283.2440958247785, 119.57658417532839, 830.9124522587424, 599.1753592565927, 3922.30566546487, 606.3102050159818, 605.6648822698041, 1936.7803155443157, 644.8704549948044, 2173.074134445499, 454.0877517453164, 1863.147309706867, 1912.9817359753627, 783.6684795320276, 3757.8469097892626, 1109.6583346712493, 2348.1998327056135, 1044.2522939933876, 4719.9047543967135, 1503.3178736966092, 1217.3826513294803, 1581.9242782318502, 2095.5595323607668, 2255.2118058201404, 1825.6684634817045, 2950.8113788539667, 2421.62820934025, 1822.9612869612633, 4139.668582985626, 1309.28181345639, 2330.6330627292996, 4142.147875834821, 2945.3407256207192, 4374.832149683239, 4065.5607735429676, 4571.953035412223, 3383.965111694204, 2934.898565875185, 3314.7788236682677, 2041.7824165089808, 2201.9133449504093, 205.96707203602335, 265.92720623479636, 410.53323748033506, 276.38742404536805, 206.5252488623732, 116.25409125112216, 422.6731664763861, 324.1835845142991, 131.65412798460605, 194.79995034660556, 128.05785173447117, 431.26598324899777, 322.1702410587655, 107.60283202689972, 448.4050176597827, 636.3726550516444, 194.48264347831775, 239.94914922733764, 86.2567651020876, 235.31627534538404, 34.92435504740182, 606.5614702832504, 265.02503893120644, 65.51028130770291, 258.6851743580714, 84.56183819177043, 120.13269090956848, 151.68286667829975, 92.3607497283545, 89.7571263384898, 397.40998402447605, 438.9358849279005, 493.2575123692821, 384.135116520661, 324.4491571747278, 242.9572089733409, 390.0532651574573, 394.0132779742937, 2310.7059027943833, 1894.4219597259944, 885.0840722377909, 381.62306453548007, 336.039845636448, 3638.205715971957, 2297.3125270885535, 3714.0830194082387, 549.7276118130093, 4623.91553206361, 1894.1733418705899, 1085.53550409191, 2632.397129843482, 1438.2624191367609, 726.5164435815145, 4142.147875834821, 1025.1389274799908, 1383.067572359097, 2957.4571235133276, 3039.8002881699786, 3383.965111694204, 2330.6330627292996, 2658.0771501452427, 3042.923155817142, 4139.668582985626, 3048.5232392245653, 2933.707419649595, 4719.9047543967135, 4374.832149683239, 4571.953035412223, 3640.301296227489, 4065.5607735429676, 2230.2792245428213, 1690.665730546859, 3074.8800531201687, 365.8925740453129, 427.0791435918243, 695.8434253924837, 114.51821000080287, 309.63466350834096, 336.74339406480664, 187.55476162190283, 334.112658025922, 805.1896532034514, 151.3255894985278, 123.58449894103983, 174.87010574127623, 270.61775986772477, 519.5841723891141, 359.0813656386217, 131.08055146181968, 311.0221014854413, 478.6946112018126, 829.8822723980051, 117.86544356627513, 218.6344003266913, 295.0141127615888, 284.3665779838467, 230.55870421198173, 179.65847299814837, 68.78951355513233, 330.987856801871, 84.17026203363211, 268.4940935256339, 114.3451362057203, 407.2682916858179, 452.648219399917, 849.3332356891183, 1798.5500893149465, 363.6855692801674, 1238.3802751024004, 1182.6058413571154, 2297.3125270885535, 966.2305186347933, 988.902662385685, 1157.8632204198618, 1366.0842704762954, 1690.665730546859, 678.0274202339087, 3714.0830194082387, 2230.2792245428213, 3640.301296227489, 2658.0771501452427, 1414.1503234821787, 3042.923155817142, 4374.832149683239, 3048.5232392245653, 3039.8002881699786, 4571.953035412223, 1438.2624191367609, 4623.91553206361, 3074.8800531201687, 4139.668582985626, 2933.707419649595, 2044.7764598684848, 2957.4571235133276, 215.73506214715226, 72.48304497577361, 72.48133450089851, 72.478742457992, 113.37139686943163, 67.73803334320145, 181.95037315270295, 251.35215762735626, 177.8706180944983, 348.9089247683649, 68.66416994927219, 80.05377802323902, 656.0108423832733, 85.1398504754306, 623.7051747103055, 165.2075898556237, 100.67748263594083, 201.9990127722069, 307.86679996787757, 153.37551345753826, 76.0757578050941, 144.9923455541842, 367.3990967927451, 131.07042472086744, 34.2243873914304, 478.1676571508106, 938.6213386179737, 245.54997398059808, 343.11159134240324, 1972.6353717632496, 478.0521018483104, 1560.253459862447, 1430.1218464228555, 1110.2372872509004, 1629.8881372735736, 442.2337857885787, 288.84415628451455, 1749.7004271603862, 1130.076370573821, 2203.040140515858, 632.404890177525, 2095.5595323607668, 4065.5607735429676, 769.347512546891, 2933.707419649595, 1414.1503234821787, 2173.074134445499, 1787.0703963737365, 3922.30566546487, 885.095361072071, 4571.953035412223, 3042.923155817142, 3074.8800531201687, 4623.91553206361, 3314.7788236682677, 3638.205715971957, 2330.6330627292996, 4374.832149683239, 3714.0830194082387, 1912.9817359753627, 4139.668582985626, 3048.5232392245653], \"Category\": [\"Default\", \"Default\", \"Default\", \"Default\", \"Default\", \"Default\", \"Default\", \"Default\", \"Default\", \"Default\", \"Default\", \"Default\", \"Default\", \"Default\", \"Default\", \"Default\", \"Default\", \"Default\", \"Default\", \"Default\", \"Default\", \"Default\", \"Default\", \"Default\", \"Default\", \"Default\", \"Default\", \"Default\", \"Default\", \"Default\", \"Topic1\", \"Topic1\", \"Topic1\", \"Topic1\", \"Topic1\", \"Topic1\", \"Topic1\", \"Topic1\", \"Topic1\", \"Topic1\", \"Topic1\", \"Topic1\", \"Topic1\", \"Topic1\", \"Topic1\", \"Topic1\", \"Topic1\", \"Topic1\", \"Topic1\", \"Topic1\", \"Topic1\", \"Topic1\", \"Topic1\", \"Topic1\", \"Topic1\", \"Topic1\", \"Topic1\", \"Topic1\", \"Topic1\", \"Topic1\", \"Topic1\", \"Topic1\", \"Topic1\", \"Topic1\", \"Topic1\", \"Topic1\", \"Topic1\", \"Topic1\", \"Topic1\", \"Topic1\", \"Topic1\", \"Topic1\", \"Topic1\", \"Topic1\", \"Topic1\", \"Topic1\", \"Topic1\", \"Topic1\", \"Topic1\", \"Topic1\", \"Topic1\", \"Topic1\", \"Topic1\", \"Topic1\", \"Topic1\", \"Topic1\", \"Topic1\", \"Topic1\", \"Topic1\", \"Topic1\", \"Topic1\", \"Topic1\", \"Topic1\", \"Topic1\", \"Topic1\", \"Topic1\", \"Topic1\", \"Topic1\", \"Topic1\", \"Topic1\", \"Topic1\", \"Topic1\", \"Topic1\", \"Topic1\", \"Topic1\", \"Topic1\", \"Topic1\", \"Topic1\", \"Topic2\", \"Topic2\", \"Topic2\", \"Topic2\", \"Topic2\", \"Topic2\", \"Topic2\", \"Topic2\", \"Topic2\", \"Topic2\", \"Topic2\", \"Topic2\", \"Topic2\", \"Topic2\", \"Topic2\", \"Topic2\", \"Topic2\", \"Topic2\", \"Topic2\", \"Topic2\", \"Topic2\", \"Topic2\", \"Topic2\", \"Topic2\", \"Topic2\", \"Topic2\", \"Topic2\", \"Topic2\", \"Topic2\", \"Topic2\", \"Topic2\", \"Topic2\", \"Topic2\", \"Topic2\", \"Topic2\", \"Topic2\", \"Topic2\", \"Topic2\", \"Topic2\", \"Topic2\", \"Topic2\", \"Topic2\", \"Topic2\", \"Topic2\", \"Topic2\", \"Topic2\", \"Topic2\", \"Topic2\", \"Topic2\", \"Topic2\", \"Topic2\", \"Topic2\", \"Topic2\", \"Topic2\", \"Topic2\", \"Topic2\", \"Topic2\", \"Topic2\", \"Topic2\", \"Topic2\", \"Topic2\", \"Topic2\", \"Topic2\", \"Topic2\", \"Topic2\", \"Topic2\", \"Topic2\", \"Topic2\", \"Topic2\", \"Topic3\", \"Topic3\", \"Topic3\", \"Topic3\", \"Topic3\", \"Topic3\", \"Topic3\", \"Topic3\", \"Topic3\", \"Topic3\", \"Topic3\", \"Topic3\", \"Topic3\", \"Topic3\", \"Topic3\", \"Topic3\", \"Topic3\", \"Topic3\", \"Topic3\", \"Topic3\", \"Topic3\", \"Topic3\", \"Topic3\", \"Topic3\", \"Topic3\", \"Topic3\", \"Topic3\", \"Topic3\", \"Topic3\", \"Topic3\", \"Topic3\", \"Topic3\", \"Topic3\", \"Topic3\", \"Topic3\", \"Topic3\", \"Topic3\", \"Topic3\", \"Topic3\", \"Topic3\", \"Topic3\", \"Topic3\", \"Topic3\", \"Topic3\", \"Topic3\", \"Topic3\", \"Topic3\", \"Topic3\", \"Topic3\", \"Topic3\", \"Topic3\", \"Topic3\", \"Topic3\", \"Topic3\", \"Topic3\", \"Topic3\", \"Topic3\", \"Topic3\", \"Topic3\", \"Topic3\", \"Topic3\", \"Topic3\", \"Topic3\", \"Topic3\", \"Topic3\", \"Topic3\", \"Topic3\", \"Topic3\", \"Topic3\", \"Topic3\", \"Topic3\", \"Topic3\", \"Topic3\", \"Topic4\", \"Topic4\", \"Topic4\", \"Topic4\", \"Topic4\", \"Topic4\", \"Topic4\", \"Topic4\", \"Topic4\", \"Topic4\", \"Topic4\", \"Topic4\", \"Topic4\", \"Topic4\", \"Topic4\", \"Topic4\", \"Topic4\", \"Topic4\", \"Topic4\", \"Topic4\", \"Topic4\", \"Topic4\", \"Topic4\", \"Topic4\", \"Topic4\", \"Topic4\", \"Topic4\", \"Topic4\", \"Topic4\", \"Topic4\", \"Topic4\", \"Topic4\", \"Topic4\", \"Topic4\", \"Topic4\", \"Topic4\", \"Topic4\", \"Topic4\", \"Topic4\", \"Topic4\", \"Topic4\", \"Topic4\", \"Topic4\", \"Topic4\", \"Topic4\", \"Topic4\", \"Topic4\", \"Topic4\", \"Topic4\", \"Topic4\", \"Topic4\", \"Topic4\", \"Topic4\", \"Topic4\", \"Topic4\", \"Topic4\", \"Topic4\", \"Topic4\", \"Topic4\", \"Topic4\", \"Topic4\", \"Topic5\", \"Topic5\", \"Topic5\", \"Topic5\", \"Topic5\", \"Topic5\", \"Topic5\", \"Topic5\", \"Topic5\", \"Topic5\", \"Topic5\", \"Topic5\", \"Topic5\", \"Topic5\", \"Topic5\", \"Topic5\", \"Topic5\", \"Topic5\", \"Topic5\", \"Topic5\", \"Topic5\", \"Topic5\", \"Topic5\", \"Topic5\", \"Topic5\", \"Topic5\", \"Topic5\", \"Topic5\", \"Topic5\", \"Topic5\", \"Topic5\", \"Topic5\", \"Topic5\", \"Topic5\", \"Topic5\", \"Topic5\", \"Topic5\", \"Topic5\", \"Topic5\", \"Topic5\", \"Topic5\", \"Topic5\", \"Topic5\", \"Topic5\", \"Topic5\", \"Topic5\", \"Topic5\", \"Topic5\", \"Topic5\", \"Topic5\", \"Topic5\", \"Topic5\", \"Topic5\", \"Topic5\", \"Topic5\", \"Topic5\", \"Topic5\", \"Topic5\", \"Topic5\", \"Topic5\", \"Topic5\", \"Topic5\"], \"logprob\": [30.0, 29.0, 28.0, 27.0, 26.0, 25.0, 24.0, 23.0, 22.0, 21.0, 20.0, 19.0, 18.0, 17.0, 16.0, 15.0, 14.0, 13.0, 12.0, 11.0, 10.0, 9.0, 8.0, 7.0, 6.0, 5.0, 4.0, 3.0, 2.0, 1.0, -5.9108, -5.7688, -5.4909, -6.6565, -6.7292, -5.59, -7.0431, -6.9129, -5.7008, -7.097, -7.059, -7.4828, -6.2247, -6.9722, -7.4987, -5.9821, -7.0901, -7.4233, -6.7076, -7.7004, -5.3886, -8.0049, -7.2087, -6.4846, -6.352, -6.6745, -7.287, -7.2278, -5.6526, -7.3536, -5.3582, -5.6634, -6.4088, -4.3833, -4.3225, -5.1867, -6.1124, -6.4469, -6.4949, -5.8421, -5.1481, -5.0691, -6.1674, -5.9216, -5.7384, -5.7153, -6.217, -5.9707, -5.7881, -4.5235, -5.3478, -5.589, -4.4783, -4.588, -5.6498, -4.887, -4.7384, -5.0064, -4.8799, -4.7382, -4.9827, -5.0774, -4.8125, -5.2389, -4.9816, -4.9345, -4.9101, -5.4074, -5.0248, -5.104, -5.139, -5.3575, -5.2308, -5.1585, -5.2678, -5.2953, -5.3119, -5.3414, -6.0715, -6.2059, -7.0439, -4.8812, -7.6865, -8.1575, -6.9086, -6.2985, -7.525, -5.9411, -7.7195, -8.1971, -6.8535, -6.1823, -6.9861, -6.7049, -7.0128, -6.2304, -6.8885, -5.3772, -8.1667, -6.7533, -5.7176, -6.2407, -7.3242, -5.9104, -6.2913, -8.1713, -4.8344, -7.2108, -5.2782, -5.6092, -3.8144, -5.6746, -5.6821, -4.6666, -5.6506, -4.6202, -5.9588, -4.7597, -4.7518, -5.5046, -4.2056, -5.216, -4.6207, -5.2782, -4.0929, -4.9966, -5.1655, -4.9762, -4.7657, -4.7449, -4.914, -4.594, -4.7413, -4.9395, -4.3993, -5.1879, -4.8356, -4.5287, -4.7608, -4.632, -4.678, -4.7013, -4.8187, -4.8883, -4.9242, -5.083, -5.1083, -6.3528, -6.1, -5.6662, -6.0671, -6.3632, -6.9579, -5.674, -5.9462, -6.8544, -6.4679, -6.8909, -5.6867, -5.9907, -7.088, -5.6626, -5.3176, -6.5042, -6.2979, -7.3219, -6.3191, -8.2399, -5.3963, -6.2354, -7.6333, -6.2667, -7.4057, -7.0599, -6.8339, -7.3341, -7.3718, -5.8995, -5.8202, -5.7109, -5.9607, -6.1288, -6.4086, -5.9736, -6.0207, -4.5327, -4.7246, -5.3486, -6.0581, -6.1667, -4.478, -4.8933, -4.6121, -5.825, -4.5809, -5.1559, -5.4795, -5.0093, -5.3405, -5.7011, -4.8288, -5.5343, -5.4054, -5.1443, -5.1375, -5.0976, -5.2588, -5.2536, -5.2176, -5.1227, -5.241, -5.2531, -5.1252, -5.1693, -5.1654, -5.2454, -5.2463, -5.3721, -5.4509, -5.4293, -5.5542, -5.4031, -4.9279, -6.7324, -5.7409, -5.6659, -6.2542, -5.6777, -4.8022, -6.4741, -6.6825, -6.3423, -5.9337, -5.3284, -5.7073, -6.7195, -5.8597, -5.4321, -4.9045, -6.8719, -6.2581, -5.9691, -6.0109, -6.2214, -6.4867, -7.4501, -5.885, -7.2654, -6.115, -6.9824, -5.7157, -5.6327, -5.0873, -4.4249, -5.9282, -5.0486, -5.0963, -4.6421, -5.2552, -5.2788, -5.1892, -5.0925, -5.0088, -5.5722, -4.6769, -4.9694, -4.7245, -4.9187, -5.2225, -4.9069, -4.7632, -4.9259, -4.9541, -4.8472, -5.2686, -4.9325, -5.0683, -5.0865, -5.1915, -5.2398, -5.2379, -5.9217, -7.0199, -7.024, -7.0261, -6.5815, -7.1018, -6.1212, -5.8106, -6.1591, -5.486, -7.1207, -6.97, -4.8668, -6.9089, -4.9279, -6.2631, -6.7846, -6.093, -5.699, -6.402, -7.1167, -6.473, -5.5482, -6.5871, -7.9437, -5.3142, -4.6412, -6.0125, -5.7009, -3.9544, -5.3791, -4.249, -4.3765, -4.6219, -4.4103, -5.5382, -5.9215, -4.5937, -4.9407, -4.4408, -5.3852, -4.4995, -4.1879, -5.3365, -4.5314, -5.0232, -4.8151, -4.9307, -4.5744, -5.3592, -4.6157, -4.8389, -4.8759, -4.8287, -4.9443, -4.9427, -5.1023, -4.9547, -5.0688, -5.1901, -5.2024, -5.2477], \"loglift\": [30.0, 29.0, 28.0, 27.0, 26.0, 25.0, 24.0, 23.0, 22.0, 21.0, 20.0, 19.0, 18.0, 17.0, 16.0, 15.0, 14.0, 13.0, 12.0, 11.0, 10.0, 9.0, 8.0, 7.0, 6.0, 5.0, 4.0, 3.0, 2.0, 1.0, 1.3285, 1.3279, 1.3269, 1.3263, 1.3259, 1.324, 1.3227, 1.3224, 1.3212, 1.3206, 1.3202, 1.3201, 1.3201, 1.3199, 1.3145, 1.3102, 1.3092, 1.309, 1.3047, 1.3044, 1.2965, 1.2964, 1.2893, 1.284, 1.2801, 1.2784, 1.2768, 1.2718, 1.2675, 1.2595, 1.2279, 1.2266, 1.2421, 1.1373, 1.0957, 1.1047, 1.1841, 1.2153, 1.2143, 1.1376, 1.0357, 0.9833, 1.1634, 1.1144, 1.0664, 1.0564, 1.1601, 1.093, 0.9934, 0.5273, 0.7911, 0.8734, 0.3332, 0.3336, 0.8734, 0.3756, 0.2805, 0.3685, 0.2438, 0.0528, 0.2758, 0.3628, 0.0104, 0.4651, 0.1628, 0.0962, -0.0432, 0.6235, 0.0265, 0.1271, 0.1272, 0.5166, 0.0299, -0.2363, -0.0483, 0.0699, 0.1464, 0.1882, 1.4996, 1.4944, 1.4934, 1.4715, 1.4706, 1.4621, 1.4617, 1.4616, 1.4418, 1.437, 1.4332, 1.4238, 1.4202, 1.4122, 1.3976, 1.393, 1.3849, 1.3674, 1.3656, 1.3603, 1.34, 1.3235, 1.3206, 1.3176, 1.3066, 1.305, 1.3011, 1.2816, 1.259, 1.2558, 1.2498, 1.2458, 1.1617, 1.1686, 1.1622, 1.0152, 1.1309, 0.9464, 1.1734, 0.9609, 0.9423, 1.082, 0.8134, 1.0228, 0.8684, 1.0213, 0.6982, 0.9385, 0.9806, 0.908, 0.8373, 0.7847, 0.8268, 0.6667, 0.7171, 0.8028, 0.5229, 0.8854, 0.6611, 0.3929, 0.5018, 0.2349, 0.2622, 0.1216, 0.3051, 0.3778, 0.2202, 0.546, 0.4452, 1.5701, 1.5674, 1.5669, 1.5616, 1.5569, 1.5369, 1.53, 1.5231, 1.516, 1.5107, 1.5072, 1.4971, 1.4848, 1.4841, 1.4823, 1.4772, 1.476, 1.4722, 1.4713, 1.4705, 1.4575, 1.4465, 1.4354, 1.435, 1.4282, 1.4073, 1.4021, 1.3949, 1.3907, 1.3817, 1.3661, 1.346, 1.3386, 1.3389, 1.3396, 1.3491, 1.3107, 1.2534, 0.9725, 0.9793, 1.1163, 1.248, 1.2666, 0.5733, 0.6177, 0.4186, 1.1161, 0.2307, 0.5481, 0.7813, 0.3656, 0.6389, 0.9612, 0.0928, 0.7837, 0.6131, 0.1142, 0.0935, 0.0262, 0.2379, 0.1116, 0.0124, -0.2006, -0.0129, 0.0135, -0.3341, -0.3024, -0.3425, -0.1946, -0.306, 0.1686, 0.3668, -0.2098, 1.794, 1.7905, 1.7776, 1.7774, 1.7742, 1.7653, 1.7623, 1.7614, 1.7572, 1.757, 1.7511, 1.7442, 1.7162, 1.6691, 1.6597, 1.6552, 1.651, 1.6474, 1.6248, 1.6092, 1.6051, 1.5945, 1.5894, 1.5886, 1.5728, 1.5694, 1.5635, 1.5523, 1.5427, 1.5289, 1.5254, 1.5028, 1.4188, 1.3309, 1.426, 1.0804, 1.0788, 0.8689, 1.1219, 1.0752, 1.007, 0.9383, 0.8089, 1.1591, 0.3537, 0.5713, 0.3262, 0.4465, 0.7737, 0.3231, 0.1037, 0.3022, 0.2769, -0.0243, 0.7108, -0.1209, 0.1512, -0.1643, 0.0751, 0.3878, 0.0206, 1.9548, 1.9473, 1.9432, 1.9412, 1.9384, 1.9331, 1.9256, 1.9131, 1.9104, 1.9098, 1.9006, 1.8978, 1.8975, 1.8973, 1.887, 1.8803, 1.8541, 1.8493, 1.8219, 1.8157, 1.8021, 1.8009, 1.7959, 1.7878, 1.7739, 1.7664, 1.7649, 1.7346, 1.7116, 1.709, 1.7018, 1.6489, 1.6086, 1.6164, 1.444, 1.6206, 1.6632, 1.1897, 1.2799, 1.1122, 1.4158, 1.1035, 0.7524, 1.2685, 0.7351, 0.9731, 0.7515, 0.8316, 0.4017, 1.1057, 0.2072, 0.3911, 0.3436, -0.0171, 0.2001, 0.1086, 0.3944, -0.0878, -0.0381, 0.5041, -0.2802, -0.0196]}, \"token.table\": {\"Topic\": [1, 2, 3, 4, 5, 1, 2, 3, 4, 5, 1, 2, 3, 4, 5, 4, 5, 1, 2, 3, 4, 5, 1, 2, 3, 5, 1, 2, 3, 4, 5, 1, 2, 3, 4, 5, 5, 1, 2, 3, 4, 5, 3, 5, 1, 2, 3, 4, 5, 1, 1, 2, 3, 5, 1, 3, 4, 1, 2, 3, 5, 1, 2, 3, 4, 1, 2, 3, 5, 1, 2, 3, 4, 5, 1, 2, 5, 1, 2, 3, 4, 5, 1, 2, 3, 4, 5, 2, 3, 4, 5, 1, 4, 1, 2, 3, 4, 5, 1, 3, 4, 5, 1, 2, 3, 4, 5, 1, 2, 3, 4, 5, 1, 5, 1, 2, 3, 4, 5, 1, 2, 3, 4, 5, 1, 1, 2, 3, 4, 5, 1, 3, 1, 2, 3, 4, 1, 2, 4, 1, 2, 3, 4, 5, 2, 3, 4, 5, 1, 2, 3, 4, 5, 1, 3, 4, 1, 2, 3, 4, 5, 1, 2, 3, 4, 5, 1, 2, 3, 4, 5, 1, 2, 3, 4, 5, 1, 2, 3, 4, 5, 1, 2, 3, 5, 1, 2, 3, 4, 5, 1, 2, 3, 4, 5, 1, 2, 3, 4, 5, 1, 2, 3, 4, 5, 1, 2, 3, 4, 5, 1, 2, 3, 4, 5, 1, 2, 3, 4, 5, 1, 2, 3, 4, 5, 2, 1, 2, 3, 4, 5, 1, 2, 3, 4, 5, 1, 2, 3, 4, 5, 1, 3, 1, 1, 2, 3, 4, 5, 1, 2, 3, 4, 5, 1, 2, 3, 4, 5, 1, 2, 3, 4, 5, 1, 2, 1, 2, 3, 5, 2, 4, 5, 1, 2, 3, 4, 5, 1, 2, 3, 4, 5, 1, 2, 3, 4, 5, 2, 3, 4, 5, 1, 2, 3, 4, 5, 3, 5, 5, 1, 2, 3, 4, 5, 1, 2, 5, 1, 2, 3, 5, 1, 2, 4, 2, 4, 1, 4, 1, 3, 4, 5, 1, 2, 3, 4, 5, 1, 2, 3, 4, 5, 1, 3, 5, 3, 4, 5, 1, 2, 3, 4, 5, 1, 2, 3, 4, 5, 2, 3, 5, 1, 2, 4, 5, 1, 2, 3, 4, 5, 1, 2, 3, 4, 5, 1, 2, 3, 4, 5, 1, 3, 4, 5, 2, 3, 4, 5, 1, 2, 3, 1, 2, 3, 4, 5, 1, 2, 3, 4, 5, 1, 3, 1, 2, 4, 1, 2, 3, 4, 5, 1, 2, 3, 4, 5, 1, 2, 3, 4, 5, 1, 2, 3, 4, 5, 1, 2, 3, 4, 5, 1, 4, 1, 2, 3, 4, 5, 1, 2, 3, 4, 5, 1, 2, 3, 4, 5, 1, 2, 3, 4, 5, 1, 2, 3, 4, 5, 1, 2, 3, 4, 5, 1, 2, 3, 4, 5, 1, 2, 3, 4, 5, 1, 2, 3, 4, 5, 1, 2, 3, 4, 5, 1, 1, 2, 3, 4, 5, 1, 5, 2, 5, 1, 2, 3, 4, 5, 1, 2, 3, 4, 5, 1, 2, 5, 1, 4, 1, 4, 1, 3, 4, 1, 2, 3, 4, 5, 1, 2, 3, 4, 5, 1, 4, 1, 2, 4, 5, 1, 2, 3, 4, 5, 1, 2, 3, 4, 5, 1, 3, 4, 1, 2, 3, 4, 5, 1, 2, 3, 4, 5, 1, 2, 3, 4, 5, 1, 2, 3, 4, 5, 1, 2, 3, 4, 5, 3, 4, 5, 1, 2, 4, 1, 2, 3, 4, 5, 1, 2, 3, 4, 5, 1, 2, 3, 4, 5, 1, 2, 3, 1, 3, 1, 4, 1, 2, 3, 4, 5, 3, 5, 1, 2, 4, 1, 2, 3, 4, 5, 1, 4, 1, 3, 4, 1, 2, 4, 5, 2, 3, 4, 5, 2, 3, 4, 5, 1, 2, 3, 4, 5, 2, 3, 5, 1, 2, 3, 4, 5, 1, 2, 3, 5, 1, 2, 3, 4, 5, 1, 2, 3, 4, 5, 1, 2, 3, 4, 5, 1, 2, 3, 4, 5, 2, 4, 5, 2, 4, 5, 1, 2, 3, 4, 5, 1, 4, 5, 1, 2, 3, 4, 5, 1, 2, 3, 4, 5, 1, 3, 4, 5, 1, 2, 3, 4, 5, 2, 4, 5, 1, 4, 1, 4, 1, 2, 3, 4, 5, 1, 2, 3, 4, 5, 2, 5, 1, 2, 3, 4, 5, 1, 4, 1, 2, 3, 4, 5, 1, 2, 3, 4, 5, 1, 2, 3, 4, 5, 1, 2, 3, 4, 5, 1, 2, 3, 4, 5, 1, 2, 3, 4, 5, 1, 3, 4, 2, 3, 4, 2, 1, 2, 3, 4, 5, 2, 4, 5, 2, 4, 5, 1, 3, 5, 1, 2, 3, 4, 5, 3, 1, 1, 2, 3, 4, 5, 1, 2, 3, 4, 5, 1, 2, 4, 5, 1, 2, 3, 4, 5, 1, 2, 3, 4, 5, 1, 2, 3, 4, 5, 1, 2, 3, 5, 1, 2, 3, 4, 5, 1, 2, 3, 4, 5, 1, 2, 3, 4, 5, 1, 2, 3, 4, 5, 1, 2, 3, 4, 5, 1, 2, 4, 1, 3, 1, 2, 3, 4, 5, 1, 2, 3, 4, 5, 1, 4, 1, 2, 4, 5, 1, 2, 3, 4, 5, 1, 3, 1, 2, 3, 4, 5, 1, 2, 3, 4, 5, 1, 2, 3, 4, 1, 2, 3, 4, 5, 1, 2, 3, 4, 5, 1, 3, 1, 2, 3, 4, 5, 1, 3, 5, 1, 2, 5, 1, 2, 3, 4, 5, 1, 2, 3, 4, 5, 1, 2, 3, 1, 2, 3, 4, 5, 1, 2, 3, 4, 5, 1, 3, 5, 1, 2, 3, 4, 5, 1, 2, 3, 4, 5, 2, 3, 4, 5, 1, 4, 5, 1, 4, 1, 2, 3, 4, 5, 1, 2, 3, 4, 1, 2, 3, 4, 5, 1, 2, 3, 4, 5, 1, 2, 3, 4, 5, 1, 2, 4, 5, 1, 2, 5, 3, 5, 1, 2, 3, 4, 5, 1, 2, 3, 4, 5, 1, 2, 3, 4, 5, 2, 3, 5, 2, 3, 5, 1, 3, 1, 3, 1, 2, 3, 4, 5, 1, 2, 3, 4, 5, 3, 4, 5, 1, 2, 4, 1, 1, 2, 3, 4, 5, 1, 2, 3, 5, 1, 3, 4, 1, 2, 3, 4, 5, 1, 2, 3, 4, 5, 1, 2, 3, 4, 5, 2, 3, 5, 1, 3, 4, 5, 1, 2, 3, 4, 5, 1, 2, 3, 4, 5, 1, 4, 1, 4, 1, 2, 4, 5, 1, 2, 3, 4, 5, 1, 2, 3, 4, 5, 3, 5, 1, 2, 3, 4, 5, 1, 2, 1, 2, 5, 1, 2, 3, 4, 5, 1, 2, 3, 4, 5], \"Freq\": [0.1354003295381384, 0.03532182509690567, 0.1118524461402013, 0.6840660127100732, 0.03178964258721511, 0.2546794388057719, 0.38397823081485605, 0.1787653753155899, 0.053384728518902184, 0.12880902385753462, 0.3001807320510535, 0.32437236879977627, 0.1683192754066066, 0.10324036527976073, 0.10392181983606279, 0.04698152484017232, 0.9396304968034463, 0.040588333256427134, 0.043970694361129395, 0.32555225632759266, 0.4870599990771256, 0.1023164234172434, 0.04456470659405139, 0.04456470659405139, 0.8244470719899507, 0.07798823653958993, 0.1416778722749334, 0.28901302069973395, 0.1522545189899024, 0.1178189250341894, 0.29909773035819276, 0.059128326759654105, 0.04730266140772328, 0.8396222399870883, 0.01182566535193082, 0.035476996055792465, 0.9933357521619703, 0.19452041315284113, 0.2391321773835096, 0.20403321581967485, 0.2240429041878423, 0.13809965250817222, 0.9042768982546997, 0.09274634853894356, 0.0015714063011064573, 0.0015714063011064573, 0.9067014357384259, 0.0015714063011064573, 0.09114156546417453, 0.9949772126743771, 0.0462012438092843, 0.010266943068729845, 0.9394252907887809, 0.005133471534364923, 0.9954034101356034, 0.0016080830535308618, 0.0016080830535308618, 0.023662503154285117, 0.8518501135542643, 0.09465001261714047, 0.047325006308570235, 0.02427488904924275, 0.008091629683080918, 0.016183259366161835, 0.9548123026035482, 0.005622064007607622, 0.028110320038038112, 0.011244128015215245, 0.9501288172856882, 0.07869159970481948, 0.09617862186144603, 0.011658014771084368, 0.0349740443132531, 0.7810869896626526, 0.1345345286589135, 0.8072071719534809, 0.0448448428863045, 0.019802076976043328, 0.03465363470807582, 0.014851557732032495, 0.03465363470807582, 0.8960439831659606, 0.06064818388763088, 0.054374233830289755, 0.03555238365826638, 0.02300448354358413, 0.8239787741974679, 0.13185404810694593, 0.8372732054791067, 0.026370809621389185, 0.006592702405347296, 0.9634406942872547, 0.019268813885745095, 0.03136464863811577, 0.570836605213707, 0.16257342877423342, 0.0020909765758743847, 0.2331438882099939, 0.029127272658761662, 0.014563636329380831, 0.014563636329380831, 0.9466363614097539, 0.011657241724442888, 0.2981799725304865, 0.0036812342287714382, 0.08896316052864309, 0.5975870231372301, 0.11164799796964309, 0.816425985153015, 0.04186799923861616, 0.006977999873102693, 0.02093399961930808, 0.987329703380499, 0.007962336317584669, 0.2786073169749969, 0.4470429192526566, 0.1480962087950744, 0.08284065470511315, 0.043433079832604075, 0.9660159041815082, 0.001408186449244181, 0.001408186449244181, 0.019714610289418535, 0.011265491593953448, 0.9975402841976598, 0.7132621493666148, 0.0015505698899274235, 0.05582051603738725, 0.21087750503012961, 0.01705626878920166, 0.003760427577752482, 0.9927528805266552, 0.07084834455442685, 0.004167549679672167, 0.9001907308091881, 0.025005298078033002, 0.020231851389847972, 0.8295059069837668, 0.14836691019221845, 0.006992411188608065, 0.21746398796571084, 0.03566129706190113, 0.03566129706190113, 0.7041358066928322, 0.007236219256024134, 0.9841258188192822, 0.003618109628012067, 0.003618109628012067, 0.010022186729233874, 0.8338459358722583, 0.028062122841854845, 0.002004437345846775, 0.1262795527883468, 0.0739049795171455, 0.003695248975857275, 0.9201169949884616, 0.3795906280547063, 0.2112892277954081, 0.20155613476836434, 0.12612466380877527, 0.08151465410149142, 0.4926489635704198, 0.0021960577870895385, 0.05636548320196483, 0.4231071336459178, 0.025620674182711283, 0.002163840925819854, 0.3072654114664193, 0.5470189860472591, 0.0064915227774595624, 0.13718751469697874, 0.0025162930983093044, 0.0025162930983093044, 0.810246377655596, 0.005032586196618609, 0.1786568099799606, 0.06858316894552613, 0.10744696468132427, 0.10058864778677165, 0.26004451558511993, 0.4635079167901808, 0.7875071981768492, 0.026730009337595406, 0.17888544710544618, 0.006168463693291247, 0.017490905746981363, 0.07870907586141614, 0.06996362298792545, 0.7608543999936893, 0.07870907586141614, 0.24438429962136538, 0.07013395580849835, 0.3817600893493518, 0.2111248978977476, 0.09254790044832771, 0.16127270088817747, 0.6885103768687577, 0.12250522471313481, 0.020159087611022183, 0.007753495235008533, 0.29402708869011196, 0.4964449911652077, 0.1914467424493453, 0.0049370220115877005, 0.013165392030900535, 0.06126745107163463, 0.005569768279239512, 0.050127914513155604, 0.8716687357009836, 0.013924420698098778, 0.019177062420617032, 0.10440845095669274, 0.049008048408243535, 0.003196177070102839, 0.8235482917298316, 0.0032972750462802155, 0.07089141349502463, 0.8787237998336774, 0.0032972750462802155, 0.0428645756016428, 0.11238692750271437, 0.1621319609875224, 0.451390118658443, 0.12620499235960547, 0.14739269180683853, 0.9873100812947405, 0.09818368308346236, 0.01253408720214413, 0.018801130803216198, 0.8606739878805636, 0.010445072668453442, 0.09371702417126895, 0.07289101879987585, 0.7887849534415137, 0.018222754699968962, 0.026032506714241375, 0.24835031425069962, 0.6139054545615007, 0.08519293524192399, 0.04337094885043403, 0.00877745393401641, 0.014526068926318915, 0.9829306640142466, 0.9905327564835432, 0.6323588343865811, 0.02994123268875858, 0.15808970859664528, 0.14491556621359153, 0.03473182991895995, 0.20871236010320007, 0.3751508046762381, 0.16933722735224915, 0.14059096479173894, 0.10653026713600838, 0.8240039798754939, 0.026368127356015805, 0.09800154000652542, 0.05009944197643003, 0.0017578751570677205, 0.36889074118147996, 0.32929775587142585, 0.22693540360640782, 0.03210894540388536, 0.04273145365780232, 0.026490690705822648, 0.9536648654096154, 0.9529671022679072, 0.0041614283941830005, 0.033291427153464004, 0.008322856788366001, 0.052579167338010484, 0.09201354284151834, 0.8544114692426704, 0.31103131003445167, 0.2772432336776538, 0.13937581497179116, 0.10015751205765078, 0.17225885356903192, 0.015382514481907774, 0.002563752413651296, 0.7665619716817375, 0.007691257240953887, 0.20510019309210364, 0.0016689604880292764, 0.7727287059575549, 0.14519956245854704, 0.0016689604880292764, 0.07844114293737599, 0.8723038419212044, 0.047334317003476206, 0.013524090572421772, 0.06762045286210887, 0.04452893240433169, 0.005566116550541462, 0.13915291376353656, 0.7959546667274291, 0.016698349651624388, 0.013797148875473255, 0.9795975701586012, 0.9795625382576234, 0.007185524526842801, 0.00287420981073712, 0.00431131471610568, 0.980105545461358, 0.007185524526842801, 0.005663477997209029, 0.8325312655897273, 0.15857738392185283, 0.16052209426014347, 0.016463804539501893, 0.7984945201658419, 0.02469570680925284, 0.001241943430372577, 0.03850024634154989, 0.960022271678002, 0.017464471370849916, 0.9780103967675952, 0.9578764768417645, 0.03451807123754106, 0.8901232252449381, 0.07842495376607385, 0.027448733818125844, 0.003921247688303692, 0.1966403030895087, 0.5083069673177272, 0.20430872716542267, 0.07285002872118289, 0.01752782645923197, 0.40882192746443274, 0.007964063522034404, 0.001769791893785423, 0.07344636359209505, 0.5070453775695237, 0.04579433853915157, 0.8700924322438798, 0.07632389756525261, 0.05843786119896449, 0.08765679179844674, 0.8181300567855029, 0.015545877684475443, 0.42837529619443443, 0.08809330687869417, 0.45342143246386707, 0.013818557941755948, 0.44776513463025686, 0.07004914682865981, 0.1703155726814474, 0.22937661804678802, 0.08268546351147688, 0.045573960284037304, 0.9418618458701042, 0.00759566004733955, 0.098300382068284, 0.08135204033237296, 0.8169100716709119, 0.9965927552997812, 0.10336081942956965, 0.01938015364304431, 0.24709695894881495, 0.4877338666832818, 0.14212112671565827, 0.02793554106804779, 0.0031039490075608655, 0.9125610082228944, 0.05587108213609558, 0.0031039490075608655, 0.014195365298485793, 0.002365894216414299, 0.9558212634313767, 0.028390730596971586, 0.002365894216414299, 0.0089790073136566, 0.023944019503084266, 0.9637467849991418, 0.002993002437885533, 0.8179600101977201, 0.09854939881900242, 0.019709879763800484, 0.059129639291401456, 0.007697519310745566, 0.9006097593572312, 0.08467271241820122, 0.00330215612386961, 0.7116146446939009, 0.008255390309674024, 0.001651078061934805, 0.27573003634311244, 0.7601136614765583, 0.17812764592177932, 0.01228466523598478, 0.007677915772490488, 0.04146074517144863, 0.007307569098211452, 0.991393540990687, 0.9772554057583539, 0.00781804324606683, 0.00781804324606683, 0.24670013489861906, 0.539226920242802, 0.0656848656386416, 0.13289728629213535, 0.015275550148521303, 0.16658139540524103, 0.7158052040185604, 0.10885516927471195, 0.006597282986346179, 0.0032986414931730893, 0.009821535537281037, 0.007366151652960778, 0.1866091752083397, 0.7611690041392803, 0.03437537438048363, 0.0073628413068763995, 0.5729210891913199, 0.1067611989497078, 0.01380532745039325, 0.29911542809185376, 0.26706311078497563, 0.25109619261355615, 0.14676441223318482, 0.1616377058723153, 0.1734488508210366, 0.17380613454798993, 0.8232922162799523, 0.843873631897103, 0.036567857382207795, 0.04219368159485515, 0.07594862687073926, 0.005625824212647353, 0.03540561906499612, 0.28914588903080163, 0.09396106598018202, 0.1525165128953679, 0.42849877432508127, 0.9900962436230046, 0.0019723032741494114, 0.0019723032741494114, 0.005916909822448235, 0.0019723032741494114, 0.03808281995902622, 0.03808281995902622, 0.1419450562109159, 0.03462074541729657, 0.7443460264718761, 0.44309476852815627, 0.1877520205627781, 0.061332326717174174, 0.2059013825505133, 0.10201193117244277, 0.33217183454298177, 0.033895085157447116, 0.6315784201004313, 0.001129836171914904, 0.001129836171914904, 0.008158466659483912, 0.710551455624427, 0.06705239785763341, 0.003824281246633084, 0.2105904206479285, 0.004675649800004437, 0.7831713415007432, 0.04052229826670512, 0.0015585499333348122, 0.17066121770016196, 0.03636910523184534, 0.033206574342119655, 0.02530024711780545, 0.3241594161968824, 0.5803244182646625, 0.13703023399399408, 0.5687419906061405, 0.14833855427505185, 0.05188523423073562, 0.0937925388017144, 0.99755933023562, 0.2530382794412244, 0.2811536438235827, 0.15292015261624134, 0.18377847937736627, 0.1291478120002636, 0.014762755141316268, 0.9743418393268737, 0.9910143006520007, 0.00388633059079216, 0.13935649269932684, 0.05384228127019446, 0.5505637192628708, 0.08445848042383446, 0.17155628836091374, 0.3059924711571965, 0.455478671641549, 0.16641695799777356, 0.06731008474847913, 0.004955343662464721, 0.026523602514825512, 0.9283260880188929, 0.053047205029651025, 0.0027330426221663573, 0.994827514468554, 0.9005226914268241, 0.09679322594990815, 0.054662794238611374, 0.9370764726619092, 0.00780897060551591, 0.00304161635033284, 0.05272135007243589, 0.05576296642276873, 0.11000512467037105, 0.778653785685207, 0.06866537603099053, 0.04577691735399369, 0.007629486225665615, 0.03051794490266246, 0.8392434848232176, 0.9740598258611319, 0.014324409203840175, 0.0034960387518561528, 0.9124661142344559, 0.0664247362852669, 0.013984155007424611, 0.08073434296457332, 0.06145449986855581, 0.012049901935010944, 0.8410831550637639, 0.004819960774004377, 0.632272087754378, 0.02817611799261934, 0.04508178878819095, 0.06086041486405778, 0.23217121225918338, 0.9505573485575874, 0.04502640072114888, 0.005002933413460986, 0.34827216658898025, 0.1092154464157676, 0.2319560255146024, 0.16906415853833992, 0.14201389317220556, 0.24188742035022895, 0.5297675192177549, 0.1660846724235727, 0.05919428068429898, 0.00298100694093592, 0.2836495878074145, 0.17214595673829294, 0.14182479390370725, 0.2440364557170687, 0.1584525283613833, 0.011597108367128173, 0.007731405578085449, 0.8620517219565276, 0.027059919523299072, 0.09277686693702539, 0.1620152645187685, 0.19126345628787678, 0.20933818153844932, 0.2287274322617908, 0.20835228743387266, 0.02292861956830446, 0.02579469701434252, 0.9515377120846351, 0.004682972769823375, 0.0023414863849116874, 0.9927902272025554, 0.02497238659423929, 0.008324128864746429, 0.8407370153393894, 0.0832412886474643, 0.04162064432373215, 0.4184798650213909, 0.10827800703350673, 0.452621578950875, 0.002926432622527209, 0.017558595735163256, 0.33717841713467045, 0.3017170586279566, 0.21217712839850428, 0.08569828305789169, 0.06323942267030629, 0.003507634148796934, 0.8734009030504366, 0.12276719520789268, 0.9295265604553496, 0.05809541002845935, 0.1296912456532627, 0.8696942355571734, 0.21850155307331387, 0.5930756440561377, 0.10021499802610637, 0.0739290969045047, 0.013964384970850887, 0.8876327124130022, 0.0858999399109357, 0.021327104496892048, 0.010663552248446024, 0.9650514784843652, 0.0027218357604295194, 0.11431710193803982, 0.029940193364724713, 0.0027218357604295194, 0.84921275725401, 0.9888188012849816, 0.006636367793858937, 0.9510776011164433, 0.03267060461850378, 0.014520268719335013, 0.17231279550293502, 0.014066350653300818, 0.8123317502281222, 0.0035165876633252045, 0.006519945573169007, 0.11735902031704212, 0.006519945573169007, 0.8671527612314779, 0.002749627932665219, 0.03574516312464785, 0.69015661109897, 0.2694635374011915, 0.9136970520612394, 0.00369917834842607, 0.07768274531694748, 0.00369917834842607, 0.00369917834842607, 0.08552230594681023, 0.11402974126241364, 0.7982081888368955, 0.0010099829775253616, 0.9685736754468217, 0.0010099829775253616, 0.016159727640405786, 0.014139761685355062, 0.03447935835371345, 0.9171509322087777, 0.013791743341485379, 0.03447935835371345, 0.1991245752622762, 0.551227395646682, 0.07648912256106483, 0.08344267915752526, 0.08976409424521657, 0.00727633088468659, 0.034562571702261305, 0.6312217042465617, 0.003638165442343295, 0.3219776416473816, 0.1771602524257145, 0.6176668260247884, 0.15321967777359094, 0.04500828034599234, 0.0067033609025946034, 0.006304958480842378, 0.029723375695399783, 0.01801416708812108, 0.23598558885438614, 0.7097581832719706, 0.02387089116973222, 0.019892409308110183, 0.9548356467892889, 0.06413286536956975, 0.004809964902717731, 0.9299265478587613, 0.7446454250443374, 0.03326594682328655, 0.07506162360126195, 0.11856324637017514, 0.02900108184594212, 0.01982480299559108, 0.9581988114535689, 0.01982480299559108, 0.12569499388299857, 0.002027338611016106, 0.7886347196852652, 0.022300724721177164, 0.060820158330483175, 0.06221485583414706, 0.43078424315505964, 0.2621605304459576, 0.035612641615408315, 0.20895610200848014, 0.9492886497613354, 0.009216394657877044, 0.036865578631508175, 0.009216394657877044, 0.13878145658737787, 0.6182083066165014, 0.22439339409257847, 0.0018023565790568554, 0.016221209211511697, 0.8898369223836834, 0.062444696307626904, 0.046833522230720175, 0.996752892088432, 0.002125272691020111, 0.9420865912863556, 0.05185797750200123, 0.3817813006275978, 0.12877996110721954, 0.29820728456981516, 0.1682876777890804, 0.022792913470304346, 0.055753167371932026, 0.02453139364365009, 0.9098916915099307, 0.002230126694877281, 0.008920506779509124, 0.8965201023944308, 0.09832801123035693, 0.8642836594094921, 0.020763571397225036, 0.09343607128751266, 0.0025954464246531295, 0.018168124972571906, 0.9816899479527449, 0.01182758973437042, 0.24186148753059641, 0.029468181239360024, 0.06560840351404684, 0.6266158539011084, 0.03614022227468682, 0.19132395588291226, 0.012387882035584247, 0.5409375155538455, 0.25463979739812065, 0.0013764313372871385, 0.05523052765598614, 0.07069507539966226, 0.08395040203709893, 0.7445075128026932, 0.044184422124788916, 0.7978456737423317, 0.09498162782646806, 0.07693511853943913, 0.001899632556529361, 0.028494488347940418, 0.005718530310032063, 0.011437060620064126, 0.03431118186019238, 0.9492760314653225, 0.005718530310032063, 0.0015243650491614156, 0.007621825245807078, 0.0015243650491614156, 0.050304046622326716, 0.9405332353325935, 0.15444884791739819, 0.047522722436122516, 0.7841249201960215, 0.9569756837111817, 0.007595045108818903, 0.03038018043527561, 0.9972634893249797, 0.25149278077382575, 0.010349497151186243, 0.20181519444813176, 0.5081603101232446, 0.02794364230820286, 0.006052990669943847, 0.06658289736938232, 0.9261075725014086, 0.005496004117346569, 0.021984016469386275, 0.9672967246529961, 0.008601847808004326, 0.9634069544964845, 0.025805543424012978, 0.7060678905139042, 0.003739766369247374, 0.0067315794646452725, 0.28272633751510146, 0.0007479532738494748, 0.9953047250394752, 0.9950292320817355, 0.02507273230061296, 0.08259252993143092, 0.1696096596806171, 0.5280022449187906, 0.19615725858714844, 0.019868566740901816, 0.24098648692190588, 0.0051273720621682105, 0.0006409215077710263, 0.7332142048900541, 0.0032481579699543397, 0.0064963159399086794, 0.12018184488831057, 0.870506335947763, 0.0050759710695091964, 0.035531797486564376, 0.7233258774050605, 0.0025379855347545982, 0.23349466919742304, 0.31881706106026936, 0.48731564687793605, 0.05365349706299387, 0.13657253797852983, 0.003547338648792983, 0.07220977352896411, 0.7762550654363642, 0.07341326975444686, 0.040918871666413004, 0.038511879215447534, 0.029747198699817054, 0.012748799442778737, 0.9009151606230308, 0.055244797585374525, 0.12254693516516611, 0.21655554296310178, 0.10464053367984505, 0.2322236442627577, 0.3239939518750282, 0.3846753586586233, 0.36735987472959436, 0.17111772353393306, 0.06620626208158124, 0.010864617367233844, 0.17934974042633378, 0.10357447509620776, 0.2448123956819456, 0.2932368255970557, 0.17934974042633378, 0.25171713583253436, 0.18927567578105298, 0.16781142388835624, 0.1925278351587343, 0.19870693797632882, 0.21175090588971843, 0.04554418925560983, 0.298698903559519, 0.37204279275037117, 0.0727524062135066, 0.20857069615445198, 0.014897906868175142, 0.7746911571451074, 0.9716122717211986, 0.021237426704288492, 0.0030821470109767095, 0.018492882065860257, 0.7890296348100376, 0.10479299837320813, 0.08630011630734787, 0.0022022175144703502, 0.7179229097173341, 0.017617740115762802, 0.1101108757235175, 0.15195300849845414, 0.1696850187371, 0.8314565918117901, 0.0250885239839371, 0.7777442435020502, 0.1756196678875597, 0.016725682655958068, 0.0333736037049549, 0.06257550694679044, 0.39213984353322007, 0.33721245410214845, 0.17521141945101323, 0.9817533651842906, 0.010908370724269896, 0.0550281205502127, 0.0026203866928672715, 0.7206063405384997, 0.1939086152721781, 0.026203866928672718, 0.014297830071075403, 0.011698224603607149, 0.17677317178784135, 0.295055220557647, 0.5017238552213733, 0.07373393278776304, 0.10843225409965153, 0.004337290163986061, 0.8110732606653934, 0.034835564856399645, 0.5139438815115399, 0.012407187483101243, 0.013838786038843694, 0.425184771055508, 0.11480783726379051, 0.009063776626088725, 0.07855273075943561, 0.7915698253450819, 0.0060425177507258164, 0.0925532462849661, 0.9049650747863353, 0.290785099405795, 0.023155109767498492, 0.31447870009811907, 0.2358590250735893, 0.13569971305603767, 0.012338687679059726, 0.9500789512875989, 0.03701606303717918, 0.034484579036839436, 0.1034537371105183, 0.855217560113618, 0.037570834917510225, 0.5812744887951939, 0.18356036488269284, 0.0016101786393218668, 0.19590506778416047, 0.08660771900168605, 0.0038492319556304912, 0.0076984639112609825, 0.8795495018615673, 0.023095391733782947, 0.09055748127341949, 0.03773228386392479, 0.8678425288702701, 0.1998262106949125, 0.3469709658429844, 0.227529389904889, 0.1612234199924862, 0.06448936799699448, 0.42076402533092516, 0.18794478421306066, 0.3579397856641998, 0.027980543717112963, 0.005279347871153389, 0.046467178473054, 0.9107566980718583, 0.0371737427784432, 0.34966831580525676, 0.5016170283812093, 0.09713008772368242, 0.04736754962963143, 0.00425775727007923, 0.17315973522017952, 0.14452702309715773, 0.2096323566149811, 0.17861358514837417, 0.2941670305019979, 0.021214152061379537, 0.24608416391200263, 0.35922630823936014, 0.3733690762802799, 0.5137007102139577, 0.48538649783996, 0.0010112218704999168, 0.9903340857923005, 0.007023645998526954, 0.011965862903342452, 0.8208581951692921, 0.10769276613008207, 0.023931725806684904, 0.03589758871002736, 0.8903599571410403, 0.0037410082232816823, 0.10100722202860542, 0.0037410082232816823, 0.368735109492598, 0.08542543592350511, 0.26060164629828775, 0.14684524301787336, 0.13862709981510576, 0.1837511699921764, 0.6558895928887407, 0.11101633187027322, 0.03317729458192074, 0.01531259749934803, 0.028880191939407003, 0.9571720757060607, 0.004125741705629572, 0.004125741705629572, 0.004125741705629572, 0.016148062827808392, 0.0032296125655616784, 0.9753429947996268, 0.0032296125655616784, 0.016607092069971265, 0.9299971559183908, 0.03321418413994253, 0.8336874725082618, 0.16240665048862243, 0.5830630681099912, 0.0636068801574536, 0.14515416241059922, 0.1492315265232565, 0.05952951604479631, 0.8060459562999, 0.032001824567737966, 0.04800273685160695, 0.034001938603221586, 0.08200467545482854, 0.7682244210965556, 0.18411990257686042, 0.023808608091835402, 0.012697924315645547, 0.011110683776189853, 0.9348281000446799, 0.0056314945785824085, 0.056314945785824085, 0.016734577609991266, 0.20918222012489085, 0.7739742144620961, 0.9794713070719115, 0.01809049907520681, 0.9879948148001129, 0.0066531637360276955, 0.0022612474038292405, 0.013567484422975442, 0.19220602932548544, 0.07914365913402341, 0.7122929322062107, 0.824316869042657, 0.003781270041480078, 0.05860968564294121, 0.09831302107848203, 0.015125080165920311, 0.012491602828659847, 0.049966411314639386, 0.9368702121494885, 0.017817721463142623, 0.011878480975428417, 0.968096199497416, 0.9885477351312794, 0.3000197096991008, 0.17764324916394128, 0.22698859615392497, 0.21843540267566114, 0.07697874130437456, 0.043286504139712655, 0.1161900900592287, 0.7951047339347219, 0.04556474119969753, 0.9931915854072756, 0.003540789965801339, 0.0017703949829006695, 0.04761340123132287, 0.15176771642484166, 0.7350318815085468, 0.0029758375769576794, 0.06546842669306895, 0.8460525057382057, 0.024172928735377304, 0.08326231008852182, 0.029544690676572262, 0.01611528582358487, 0.2712875733406186, 0.11076888759500435, 0.36693911895615583, 0.09400238103595902, 0.15722035658645778, 0.02979812289157328, 0.05959624578314656, 0.9038763943777228, 0.058148397819300514, 0.11629679563860103, 0.7995404700153821, 0.014537099454825128, 0.7901958941004464, 0.11741866699484545, 0.028957982062917966, 0.05831264881162933, 0.004760216229520761, 0.04614087058252221, 0.010882280797764673, 0.3834915753132271, 0.39480914734290234, 0.16454008566220185, 0.9017290154000028, 0.09693268058048121, 0.9387007941180873, 0.060561341556005635, 0.13182342928101906, 0.003215205592219977, 0.8616750987149538, 0.003215205592219977, 0.027825055687435526, 0.00927501856247851, 0.9251831016072313, 0.02318754640619627, 0.01623128248433739, 0.12766985905691433, 0.1355786113878736, 0.027115722277574725, 0.283585262152969, 0.4259428041102363, 0.017641133965239697, 0.9790829350708032, 0.02374222464513796, 0.8665911995475355, 0.1053561218627997, 0.002967778080642245, 0.0014838890403211225, 0.016681353171424985, 0.967518483942649, 0.013790816506489598, 0.9377755224412927, 0.04137244951946879, 0.2832874884609179, 0.14672260358533595, 0.23137025949995288, 0.25883372119669523, 0.08013311426583733, 0.2721285425949077, 0.43310121723074974, 0.1419948435208796, 0.08472246033465371, 0.06777796826772296], \"Term\": [\"access\", \"access\", \"access\", \"access\", \"access\", \"accord\", \"accord\", \"accord\", \"accord\", \"accord\", \"act\", \"act\", \"act\", \"act\", \"act\", \"adjust\", \"adjust\", \"agreement\", \"agreement\", \"agreement\", \"agreement\", \"agreement\", \"agricultur\", \"agricultur\", \"agricultur\", \"agricultur\", \"alleg\", \"alleg\", \"alleg\", \"alleg\", \"alleg\", \"alloc\", \"alloc\", \"alloc\", \"alloc\", \"alloc\", \"alphabet\", \"also\", \"also\", \"also\", \"also\", \"also\", \"anticompetit\", \"anticompetit\", \"antitrust\", \"antitrust\", \"antitrust\", \"antitrust\", \"antitrust\", \"apprehend\", \"armi\", \"armi\", \"armi\", \"armi\", \"attack\", \"attack\", \"attack\", \"augment\", \"augment\", \"augment\", \"augment\", \"barrier\", \"barrier\", \"barrier\", \"barrier\", \"beneficiari\", \"beneficiari\", \"beneficiari\", \"beneficiari\", \"bill\", \"bill\", \"bill\", \"bill\", \"bill\", \"bolster\", \"bolster\", \"bolster\", \"boynton\", \"boynton\", \"boynton\", \"boynton\", \"boynton\", \"branch\", \"branch\", \"branch\", \"branch\", \"branch\", \"briberi\", \"briberi\", \"briberi\", \"briberi\", \"brutal\", \"brutal\", \"busi\", \"busi\", \"busi\", \"busi\", \"busi\", \"caption\", \"caption\", \"caption\", \"caption\", \"care\", \"care\", \"care\", \"care\", \"care\", \"cash\", \"cash\", \"cash\", \"cash\", \"cash\", \"ceo\", \"ceo\", \"charg\", \"charg\", \"charg\", \"charg\", \"charg\", \"child\", \"child\", \"child\", \"child\", \"child\", \"childhood\", \"children\", \"children\", \"children\", \"children\", \"children\", \"china\", \"china\", \"chines\", \"chines\", \"chines\", \"chines\", \"citizenship\", \"citizenship\", \"citizenship\", \"claim\", \"claim\", \"claim\", \"claim\", \"claim\", \"clean\", \"clean\", \"clean\", \"clean\", \"client\", \"client\", \"client\", \"client\", \"client\", \"color\", \"color\", \"color\", \"commit\", \"commit\", \"commit\", \"commit\", \"commit\", \"communiti\", \"communiti\", \"communiti\", \"communiti\", \"communiti\", \"compani\", \"compani\", \"compani\", \"compani\", \"compani\", \"competit\", \"competit\", \"competit\", \"competit\", \"competit\", \"complaint\", \"complaint\", \"complaint\", \"complaint\", \"complaint\", \"comput\", \"comput\", \"comput\", \"comput\", \"conclud\", \"conclud\", \"conclud\", \"conclud\", \"conclud\", \"conduct\", \"conduct\", \"conduct\", \"conduct\", \"conduct\", \"consid\", \"consid\", \"consid\", \"consid\", \"consid\", \"conspiraci\", \"conspiraci\", \"conspiraci\", \"conspiraci\", \"conspiraci\", \"constitut\", \"constitut\", \"constitut\", \"constitut\", \"constitut\", \"consum\", \"consum\", \"consum\", \"consum\", \"consum\", \"contract\", \"contract\", \"contract\", \"contract\", \"contract\", \"control\", \"control\", \"control\", \"control\", \"control\", \"coronavirus\", \"correct\", \"correct\", \"correct\", \"correct\", \"correct\", \"corrupt\", \"corrupt\", \"corrupt\", \"corrupt\", \"corrupt\", \"count\", \"count\", \"count\", \"count\", \"count\", \"counterintellig\", \"counterintellig\", \"counterterror\", \"countri\", \"countri\", \"countri\", \"countri\", \"countri\", \"court\", \"court\", \"court\", \"court\", \"court\", \"crime\", \"crime\", \"crime\", \"crime\", \"crime\", \"crimin\", \"crimin\", \"crimin\", \"crimin\", \"crimin\", \"culpabl\", \"culpabl\", \"cyber\", \"cyber\", \"cyber\", \"cyber\", \"decreas\", \"decreas\", \"decreas\", \"defend\", \"defend\", \"defend\", \"defend\", \"defend\", \"defens\", \"defens\", \"defens\", \"defens\", \"defens\", \"defraud\", \"defraud\", \"defraud\", \"defraud\", \"defraud\", \"deposit\", \"deposit\", \"deposit\", \"deposit\", \"depriv\", \"depriv\", \"depriv\", \"depriv\", \"depriv\", \"directori\", \"directori\", \"dirti\", \"disabl\", \"disabl\", \"disabl\", \"disabl\", \"disabl\", \"disast\", \"disast\", \"disast\", \"discharg\", \"discharg\", \"discharg\", \"discharg\", \"discrimin\", \"discrimin\", \"discrimin\", \"discriminatori\", \"discriminatori\", \"dismantl\", \"dismantl\", \"disrupt\", \"disrupt\", \"disrupt\", \"disrupt\", \"document\", \"document\", \"document\", \"document\", \"document\", \"drug\", \"drug\", \"drug\", \"drug\", \"drug\", \"economi\", \"economi\", \"economi\", \"emphasi\", \"emphasi\", \"emphasi\", \"employ\", \"employ\", \"employ\", \"employ\", \"employ\", \"enforc\", \"enforc\", \"enforc\", \"enforc\", \"enforc\", \"engin\", \"engin\", \"engin\", \"english\", \"english\", \"english\", \"enjoin\", \"ensur\", \"ensur\", \"ensur\", \"ensur\", \"ensur\", \"environ\", \"environ\", \"environ\", \"environ\", \"environ\", \"environment\", \"environment\", \"environment\", \"environment\", \"environment\", \"equal\", \"equal\", \"equal\", \"equal\", \"estat\", \"estat\", \"estat\", \"estat\", \"evas\", \"evas\", \"evas\", \"expens\", \"expens\", \"expens\", \"expens\", \"expens\", \"exploit\", \"exploit\", \"exploit\", \"exploit\", \"exploit\", \"export\", \"export\", \"extort\", \"extort\", \"extort\", \"face\", \"face\", \"face\", \"face\", \"face\", \"factor\", \"factor\", \"factor\", \"factor\", \"factor\", \"fair\", \"fair\", \"fair\", \"fair\", \"fair\", \"fals\", \"fals\", \"fals\", \"fals\", \"fals\", \"feder\", \"feder\", \"feder\", \"feder\", \"feder\", \"femal\", \"femal\", \"fight\", \"fight\", \"fight\", \"fight\", \"fight\", \"file\", \"file\", \"file\", \"file\", \"file\", \"firearm\", \"firearm\", \"firearm\", \"firearm\", \"firearm\", \"food\", \"food\", \"food\", \"food\", \"food\", \"forc\", \"forc\", \"forc\", \"forc\", \"forc\", \"foreign\", \"foreign\", \"foreign\", \"foreign\", \"foreign\", \"fraud\", \"fraud\", \"fraud\", \"fraud\", \"fraud\", \"fraudul\", \"fraudul\", \"fraudul\", \"fraudul\", \"fraudul\", \"free\", \"free\", \"free\", \"free\", \"free\", \"fund\", \"fund\", \"fund\", \"fund\", \"fund\", \"gang\", \"general\", \"general\", \"general\", \"general\", \"general\", \"ghost\", \"ghost\", \"goldberg\", \"goldberg\", \"govern\", \"govern\", \"govern\", \"govern\", \"govern\", \"guilti\", \"guilti\", \"guilti\", \"guilti\", \"guilti\", \"har\", \"har\", \"har\", \"harass\", \"harass\", \"hate\", \"hate\", \"hazard\", \"hazard\", \"hazard\", \"health\", \"health\", \"health\", \"health\", \"health\", \"healthcar\", \"healthcar\", \"healthcar\", \"healthcar\", \"healthcar\", \"heinous\", \"heinous\", \"hotlin\", \"hotlin\", \"hotlin\", \"hotlin\", \"hous\", \"hous\", \"hous\", \"hous\", \"hous\", \"human\", \"human\", \"human\", \"human\", \"human\", \"imag\", \"imag\", \"imag\", \"includ\", \"includ\", \"includ\", \"includ\", \"includ\", \"indict\", \"indict\", \"indict\", \"indict\", \"indict\", \"individu\", \"individu\", \"individu\", \"individu\", \"individu\", \"industri\", \"industri\", \"industri\", \"industri\", \"industri\", \"inform\", \"inform\", \"inform\", \"inform\", \"inform\", \"injunct\", \"injunct\", \"injunct\", \"inmat\", \"inmat\", \"inmat\", \"instal\", \"instal\", \"instal\", \"instal\", \"instal\", \"intern\", \"intern\", \"intern\", \"intern\", \"intern\", \"investig\", \"investig\", \"investig\", \"investig\", \"investig\", \"investor\", \"investor\", \"investor\", \"islam\", \"islam\", \"jail\", \"jail\", \"judg\", \"judg\", \"judg\", \"judg\", \"judg\", \"kanter\", \"kanter\", \"karlan\", \"karlan\", \"karlan\", \"kickback\", \"kickback\", \"kickback\", \"kickback\", \"kickback\", \"kidnap\", \"kidnap\", \"kill\", \"kill\", \"kill\", \"kristen\", \"kristen\", \"kristen\", \"kristen\", \"laboratori\", \"laboratori\", \"laboratori\", \"laboratori\", \"lawsuit\", \"lawsuit\", \"lawsuit\", \"lawsuit\", \"leader\", \"leader\", \"leader\", \"leader\", \"leader\", \"liabil\", \"liabil\", \"liabil\", \"loan\", \"loan\", \"loan\", \"loan\", \"loan\", \"luxuri\", \"luxuri\", \"luxuri\", \"luxuri\", \"made\", \"made\", \"made\", \"made\", \"made\", \"market\", \"market\", \"market\", \"market\", \"market\", \"maximum\", \"maximum\", \"maximum\", \"maximum\", \"maximum\", \"medic\", \"medic\", \"medic\", \"medic\", \"medic\", \"medicaid\", \"medicaid\", \"medicaid\", \"medicar\", \"medicar\", \"medicar\", \"member\", \"member\", \"member\", \"member\", \"member\", \"mental\", \"mental\", \"mental\", \"militari\", \"militari\", \"militari\", \"militari\", \"militari\", \"million\", \"million\", \"million\", \"million\", \"million\", \"monaco\", \"monaco\", \"monaco\", \"monaco\", \"money\", \"money\", \"money\", \"money\", \"money\", \"mortgag\", \"mortgag\", \"mortgag\", \"murder\", \"murder\", \"narcot\", \"narcot\", \"nation\", \"nation\", \"nation\", \"nation\", \"nation\", \"natur\", \"natur\", \"natur\", \"natur\", \"natur\", \"ncdf\", \"ncdf\", \"network\", \"network\", \"network\", \"network\", \"network\", \"obscen\", \"obscen\", \"offic\", \"offic\", \"offic\", \"offic\", \"offic\", \"offici\", \"offici\", \"offici\", \"offici\", \"offici\", \"opportun\", \"opportun\", \"opportun\", \"opportun\", \"opportun\", \"organ\", \"organ\", \"organ\", \"organ\", \"organ\", \"pamela\", \"pamela\", \"pamela\", \"pamela\", \"pamela\", \"patient\", \"patient\", \"patient\", \"patient\", \"patient\", \"pattern\", \"pattern\", \"pattern\", \"paycheck\", \"paycheck\", \"paycheck\", \"payrol\", \"peopl\", \"peopl\", \"peopl\", \"peopl\", \"peopl\", \"pharmaci\", \"pharmaci\", \"pharmaci\", \"physician\", \"physician\", \"physician\", \"plant\", \"plant\", \"plant\", \"polic\", \"polic\", \"polic\", \"polic\", \"polic\", \"pollut\", \"pornographi\", \"practic\", \"practic\", \"practic\", \"practic\", \"practic\", \"prepar\", \"prepar\", \"prepar\", \"prepar\", \"prepar\", \"prescript\", \"prescript\", \"prescript\", \"prescript\", \"price\", \"price\", \"price\", \"price\", \"price\", \"prison\", \"prison\", \"prison\", \"prison\", \"prison\", \"proceed\", \"proceed\", \"proceed\", \"proceed\", \"proceed\", \"procur\", \"procur\", \"procur\", \"procur\", \"program\", \"program\", \"program\", \"program\", \"program\", \"prosecut\", \"prosecut\", \"prosecut\", \"prosecut\", \"prosecut\", \"protect\", \"protect\", \"protect\", \"protect\", \"protect\", \"provid\", \"provid\", \"provid\", \"provid\", \"provid\", \"public\", \"public\", \"public\", \"public\", \"public\", \"race\", \"race\", \"race\", \"racket\", \"racket\", \"regul\", \"regul\", \"regul\", \"regul\", \"regul\", \"relief\", \"relief\", \"relief\", \"relief\", \"relief\", \"religion\", \"religion\", \"rent\", \"rent\", \"rent\", \"rent\", \"requir\", \"requir\", \"requir\", \"requir\", \"requir\", \"rescu\", \"rescu\", \"research\", \"research\", \"research\", \"research\", \"research\", \"resolv\", \"resolv\", \"resolv\", \"resolv\", \"resolv\", \"retali\", \"retali\", \"retali\", \"retali\", \"return\", \"return\", \"return\", \"return\", \"return\", \"right\", \"right\", \"right\", \"right\", \"right\", \"russian\", \"russian\", \"said\", \"said\", \"said\", \"said\", \"said\", \"sanction\", \"sanction\", \"sanction\", \"scam\", \"scam\", \"scam\", \"scheme\", \"scheme\", \"scheme\", \"scheme\", \"scheme\", \"school\", \"school\", \"school\", \"school\", \"school\", \"secret\", \"secret\", \"secret\", \"section\", \"section\", \"section\", \"section\", \"section\", \"secur\", \"secur\", \"secur\", \"secur\", \"secur\", \"sensit\", \"sensit\", \"sensit\", \"sentenc\", \"sentenc\", \"sentenc\", \"sentenc\", \"sentenc\", \"servic\", \"servic\", \"servic\", \"servic\", \"servic\", \"settlement\", \"settlement\", \"settlement\", \"settlement\", \"sexual\", \"sexual\", \"sexual\", \"shoot\", \"shoot\", \"small\", \"small\", \"small\", \"small\", \"small\", \"smuggl\", \"smuggl\", \"smuggl\", \"smuggl\", \"state\", \"state\", \"state\", \"state\", \"state\", \"statutori\", \"statutori\", \"statutori\", \"statutori\", \"statutori\", \"stuart\", \"stuart\", \"stuart\", \"stuart\", \"stuart\", \"student\", \"student\", \"student\", \"student\", \"subscrib\", \"subscrib\", \"subscrib\", \"subsidiari\", \"subsidiari\", \"support\", \"support\", \"support\", \"support\", \"support\", \"target\", \"target\", \"target\", \"target\", \"target\", \"task\", \"task\", \"task\", \"task\", \"task\", \"tax\", \"tax\", \"tax\", \"taxpay\", \"taxpay\", \"taxpay\", \"terror\", \"terror\", \"terrorist\", \"terrorist\", \"test\", \"test\", \"test\", \"test\", \"test\", \"threat\", \"threat\", \"threat\", \"threat\", \"threat\", \"threshold\", \"threshold\", \"threshold\", \"titl\", \"titl\", \"titl\", \"tobacco\", \"today\", \"today\", \"today\", \"today\", \"today\", \"trade\", \"trade\", \"trade\", \"trade\", \"traffick\", \"traffick\", \"traffick\", \"transact\", \"transact\", \"transact\", \"transact\", \"transact\", \"travel\", \"travel\", \"travel\", \"travel\", \"travel\", \"unit\", \"unit\", \"unit\", \"unit\", \"unit\", \"unscrupul\", \"unscrupul\", \"unscrupul\", \"uphold\", \"uphold\", \"uphold\", \"uphold\", \"victim\", \"victim\", \"victim\", \"victim\", \"victim\", \"violat\", \"violat\", \"violat\", \"violat\", \"violat\", \"violenc\", \"violenc\", \"violent\", \"violent\", \"vote\", \"vote\", \"vote\", \"vote\", \"water\", \"water\", \"water\", \"water\", \"water\", \"websit\", \"websit\", \"websit\", \"websit\", \"websit\", \"whistleblow\", \"whistleblow\", \"wire\", \"wire\", \"wire\", \"wire\", \"wire\", \"withheld\", \"withheld\", \"withhold\", \"withhold\", \"withhold\", \"work\", \"work\", \"work\", \"work\", \"work\", \"year\", \"year\", \"year\", \"year\", \"year\"]}, \"R\": 30, \"lambda.step\": 0.01, \"plot.opts\": {\"xlab\": \"PC1\", \"ylab\": \"PC2\"}, \"topic.order\": [2, 3, 1, 4, 5]};\n",
       "\n",
       "function LDAvis_load_lib(url, callback){\n",
       "  var s = document.createElement('script');\n",
       "  s.src = url;\n",
       "  s.async = true;\n",
       "  s.onreadystatechange = s.onload = callback;\n",
       "  s.onerror = function(){console.warn(\"failed to load library \" + url);};\n",
       "  document.getElementsByTagName(\"head\")[0].appendChild(s);\n",
       "}\n",
       "\n",
       "if(typeof(LDAvis) !== \"undefined\"){\n",
       "   // already loaded: just create the visualization\n",
       "   !function(LDAvis){\n",
       "       new LDAvis(\"#\" + \"ldavis_el731402974425077281509284917\", ldavis_el731402974425077281509284917_data);\n",
       "   }(LDAvis);\n",
       "}else if(typeof define === \"function\" && define.amd){\n",
       "   // require.js is available: use it to load d3/LDAvis\n",
       "   require.config({paths: {d3: \"https://d3js.org/d3.v5\"}});\n",
       "   require([\"d3\"], function(d3){\n",
       "      window.d3 = d3;\n",
       "      LDAvis_load_lib(\"https://cdn.jsdelivr.net/gh/bmabey/pyLDAvis@3.3.1/pyLDAvis/js/ldavis.v3.0.0.js\", function(){\n",
       "        new LDAvis(\"#\" + \"ldavis_el731402974425077281509284917\", ldavis_el731402974425077281509284917_data);\n",
       "      });\n",
       "    });\n",
       "}else{\n",
       "    // require.js not available: dynamically load d3 & LDAvis\n",
       "    LDAvis_load_lib(\"https://d3js.org/d3.v5.js\", function(){\n",
       "         LDAvis_load_lib(\"https://cdn.jsdelivr.net/gh/bmabey/pyLDAvis@3.3.1/pyLDAvis/js/ldavis.v3.0.0.js\", function(){\n",
       "                 new LDAvis(\"#\" + \"ldavis_el731402974425077281509284917\", ldavis_el731402974425077281509284917_data);\n",
       "            })\n",
       "         });\n",
       "}\n",
       "</script>"
      ],
      "text/plain": [
       "<IPython.core.display.HTML object>"
      ]
     },
     "execution_count": 152,
     "metadata": {},
     "output_type": "execute_result"
    }
   ],
   "source": [
    "pyLDAvis.enable_notebook()\n",
    "lda_display_proc = gensimvis.prepare(biden_ldamod, biden_corpus_fromdic, biden_text_dict)\n",
    "pyLDAvis.display(lda_display_proc)"
   ]
  },
  {
   "cell_type": "code",
   "execution_count": null,
   "metadata": {
    "id": "4PDNfGHUlieg"
   },
   "outputs": [],
   "source": []
  }
 ],
 "metadata": {
  "colab": {
   "collapsed_sections": [
    "j_64Sk64quzE"
   ],
   "provenance": []
  },
  "kernelspec": {
   "display_name": "Python 3 (ipykernel)",
   "language": "python",
   "name": "python3"
  },
  "language_info": {
   "codemirror_mode": {
    "name": "ipython",
    "version": 3
   },
   "file_extension": ".py",
   "mimetype": "text/x-python",
   "name": "python",
   "nbconvert_exporter": "python",
   "pygments_lexer": "ipython3",
   "version": "3.9.5"
  }
 },
 "nbformat": 4,
 "nbformat_minor": 1
}
